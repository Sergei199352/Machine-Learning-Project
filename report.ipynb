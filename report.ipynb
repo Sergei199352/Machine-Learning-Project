{
  "cells": [
    {
      "cell_type": "markdown",
      "metadata": {
        "id": "view-in-github",
        "colab_type": "text"
      },
      "source": [
        "<a href=\"https://colab.research.google.com/github/Sergei199352/Machine-Learning-Project/blob/main/report.ipynb\" target=\"_parent\"><img src=\"https://colab.research.google.com/assets/colab-badge.svg\" alt=\"Open In Colab\"/></a>"
      ]
    },
    {
      "cell_type": "markdown",
      "metadata": {
        "id": "IbQ5d--iMHtf"
      },
      "source": [
        "# **Dataset**\n",
        "\n",
        "Thyroid Disease Data Set named \"allbp.data\" downloaded from the UCI machine learning repository on 28/10/22, contains the recods of patients with different Thtroid Desease. I chose this dataset because myself, my mother and my sister all suffer from hypothyroidism, so I had personal interest in exploring this type of data. This dataset comes accompanied by other files that provide some more information regarding the dataset and how t o read it. These files are: HELLO (provides information about where the information is coming from and how the information is presented), allbp.names(provides the column names which are not included in the dataset), allbp.test (a separate dataset that can be used to test the created model for ulterior development). The dataset and the Peer reviewed paper links can be found at the end of the report."
      ]
    },
    {
      "cell_type": "markdown",
      "metadata": {
        "id": "_oooW5gFvSCm"
      },
      "source": [
        "# **Objective**\n",
        "There are two kinds of thyroid disease that , are included in this dataset, increased binding protein and decreased binding protein, so I will build a model to predict if the patient is affected by yhe desease and which one is it."
      ]
    },
    {
      "cell_type": "markdown",
      "metadata": {
        "id": "Mgh8G90zN_0B"
      },
      "source": [
        "# **Peer Reviewed paper**"
      ]
    },
    {
      "cell_type": "markdown",
      "metadata": {
        "id": "vOhEEKOemI74"
      },
      "source": [
        "\n",
        "The paper I selected is called: “Decision trees: An overview and their use in Medicine”. In this paper the writer discusses different methods of applying the decision trees to the medical data, the Decision trees are good decision-making models that provide high classification accuracy with a simple presentation of the decision making process. Wich can be easily assessed by an expert and taken into consideration when reaching a diagnosis. \n",
        "## Combination of decision trees and other models\n",
        "When comparing decision trees and neural networks, it can be noted that their advantages and drawbacks are almost complementary. While it is easy for humans to interpret the knowledge representation of decision trees it is not so in case of the neural networks, the neural networks are more efficient with dealing with noise in the dataset than the decision trees, while the decision trees models are faster at learning then neural network. Therefore, the idea is to combine the two models to unite their advantages. \n",
        "Another method which is used in medicine is to unite the evolutionary algorithm, which is used for complex optimization tasks, with the decision trees. AREX algorithm, is one of the most recent approaches to the evolutionary induction of decision trees-like methods. This approach includes the multi-level classification model, based on the difference between objects.\n",
        "## Target of the paper\n",
        "The paper discussed different methods that use decision trees model combined with other models to improve its efficiency, the methods are not superior to each other but are meant to be used for different and appropriate cases. The writer wanted to introduce this variety of methods to the reader and promote the usage of several methods instead of single one to resolve a problem.\n"
      ]
    },
    {
      "cell_type": "markdown",
      "metadata": {
        "id": "CSen348ONdd9"
      },
      "source": [
        "# **Data Exploration**\n",
        "In the following steps I will load the data and explore the dataset, I need to understand what kind of data it is and what must be done before I fit it into a model. I also load two separate binary data files provided by the UCI to aid the understanding of the data, and its processing.\n"
      ]
    },
    {
      "cell_type": "markdown",
      "metadata": {
        "id": "0Bd7IPylPQ_d"
      },
      "source": [
        "In addition to loading the main dataset \"d1\" I will load another dataset that was provided by UCI which I will use to test my model once it has been trained. The second dataset follows the same format of the main dataset."
      ]
    },
    {
      "cell_type": "code",
      "execution_count": null,
      "metadata": {
        "id": "L_8gqkO-Ihor"
      },
      "outputs": [],
      "source": [
        "import pandas as pd\n",
        "import numpy as np\n",
        "import matplotlib.pyplot as plt\n",
        "from sklearn.datasets import make_blobs\n",
        "import math\n",
        "\n",
        "\n",
        "\n",
        "#loading the first dataset\n",
        "d1 = pd.read_csv(\"/content/drive/MyDrive/ColabNotebooks/mydataset/allbp.data\", header = None)\n",
        "\n",
        "#loading the second dataset\n",
        "\n",
        "d2 = pd.read_csv(\"/content/drive/MyDrive/ColabNotebooks/mydataset/allbp.test\", header = None)\n",
        "\n",
        "#additional files that provide more info regarding the datasets\n",
        "file2 = open(\"/content/drive/MyDrive/ColabNotebooks/mydataset/HELLO\")\n",
        "file = open(\"/content/drive/MyDrive/ColabNotebooks/mydataset/allbp.names\")\n",
        "name = file.read()\n",
        "info = file2.read()\n"
      ]
    },
    {
      "cell_type": "code",
      "execution_count": null,
      "metadata": {
        "colab": {
          "base_uri": "https://localhost:8080/"
        },
        "id": "0i4DxyXVwjdG",
        "outputId": "eebc5eb8-13d5-4f0b-e3ed-f8ba010d7bb1"
      },
      "outputs": [
        {
          "output_type": "stream",
          "name": "stdout",
          "text": [
            "The dataset contains 2800 rows and 30 columns\n"
          ]
        }
      ],
      "source": [
        "#data size\n",
        "print(f\"The dataset contains {d1.shape[0]} rows and {d1.shape[1]} columns\")"
      ]
    },
    {
      "cell_type": "markdown",
      "metadata": {
        "id": "WzbXA7DhQLxW"
      },
      "source": [
        "Now that i know the size of the dataset I will examine the information files provided by the UCI. "
      ]
    },
    {
      "cell_type": "code",
      "execution_count": null,
      "metadata": {
        "colab": {
          "base_uri": "https://localhost:8080/"
        },
        "id": "nk8wkyff8gUb",
        "outputId": "f5af2c51-d45a-4ec8-e03b-9fbd6875e943"
      },
      "outputs": [
        {
          "output_type": "stream",
          "name": "stdout",
          "text": [
            ";\n",
            "; Thyroid disease records supplied by the Garavan Institute and J. Ross\n",
            "; Quinlan, New South Wales Institute, Syndney, Australia.\n",
            ";\n",
            "; 1987.\n",
            ";\n",
            "\n",
            "increased binding protein, decreased binding protein,\n",
            "negative.\t\t\t|  classes\n",
            "\n",
            "age:\t\t\t\tcontinuous.\n",
            "sex:\t\t\t\tM, F.\n",
            "on thyroxine:\t\t\tf, t.\n",
            "query on thyroxine:\t\tf, t.\n",
            "on antithyroid medication:\tf, t.\n",
            "sick:\t\t\t\tf, t.\n",
            "pregnant:\t\t\tf, t.\n",
            "thyroid surgery:\t\tf, t.\n",
            "I131 treatment:\t\t\tf, t.\n",
            "query hypothyroid:\t\tf, t.\n",
            "query hyperthyroid:\t\tf, t.\n",
            "lithium:\t\t\tf, t.\n",
            "goitre:\t\t\t\tf, t.\n",
            "tumor:\t\t\t\tf, t.\n",
            "hypopituitary:\t\t\tf, t.\n",
            "psych:\t\t\t\tf, t.\n",
            "TSH measured:\t\t\tf, t.\n",
            "TSH:\t\t\t\tcontinuous.\n",
            "T3 measured:\t\t\tf, t.\n",
            "T3:\t\t\t\tcontinuous.\n",
            "TT4 measured:\t\t\tf, t.\n",
            "TT4:\t\t\t\tcontinuous.\n",
            "T4U measured:\t\t\tf, t.\n",
            "T4U:\t\t\t\tcontinuous.\n",
            "FTI measured:\t\t\tf, t.\n",
            "FTI:\t\t\t\tcontinuous.\n",
            "TBG measured:\t\t\tf, t.\n",
            "TBG:\t\t\t\tcontinuous.\n",
            "referral source:\t\tWEST, STMW, SVHC, SVI, SVHD, other.\n",
            "\n"
          ]
        }
      ],
      "source": [
        "print(name)"
      ]
    },
    {
      "cell_type": "markdown",
      "metadata": {
        "id": "N5uE0NTiQi68"
      },
      "source": [
        "This file contains the names of the columns for the dataset, and indicates the separation of the classes in each column, most columns have 2 categorical values, the target column has 3. "
      ]
    },
    {
      "cell_type": "code",
      "execution_count": null,
      "metadata": {
        "colab": {
          "base_uri": "https://localhost:8080/"
        },
        "id": "TaM_r20yOjGT",
        "outputId": "57cb6045-935d-4f5b-d0a2-3d39736e1d12"
      },
      "outputs": [
        {
          "output_type": "stream",
          "name": "stdout",
          "text": [
            "          General Description of Thyroid Disease Databases \n",
            "                        and Related Files\n",
            "\n",
            "This directory contains 6 databases, corresponding test set, and \n",
            "corresponding documentation.  They were left at the University of\n",
            "California at Irvine by Ross Quinlan during his visit in 1987 for\n",
            "the 1987 Machine Learning Workshop.  \n",
            "\n",
            "The documentation files (with file extension \"names\") are formatted to\n",
            "be read by Quinlan's C4 decision tree program.  Though briefer than\n",
            "the other documentation files found in this database repository, they\n",
            "should suffice to describe the database, specifically:\n",
            "\n",
            "    1. Source\n",
            "    2. Number and names of attributes (including class names)\n",
            "    3. Types of values that each attribute takes\n",
            "\n",
            "In general, these databases are quite similar and can be characterized\n",
            "somewhat as follows:\n",
            "\n",
            "    1. Many attributes (29 or so, mostly the same set over all the databases)\n",
            "    2. mostly numeric or Boolean valued attributes\n",
            "    3. thyroid disease domains (records provided by the Garavan Institute\n",
            "       of Sydney, Australia)\n",
            "    4. several missing attribute values (signified by \"?\")\n",
            "    5. small number of classes (under 10, changes with each database)\n",
            "    7. 2800 instances in each data set\n",
            "    8. 972 instances in each test set (It seems that the test sets' instances\n",
            "       are disjoint with respect to the corresponding data sets, but this has \n",
            "       not been verified)\n",
            "\n",
            "See the following for a discussion of relevant experiments and related work:\n",
            "   Quinlan,J.R., Compton,P.J., Horn,K.A., & Lazurus,L. (1986).\n",
            "   Inductive knowledge acquisition: A case study.\n",
            "   In Proceedings of the Second Australian Conference on Applications\n",
            "   of Expert Systems.  Sydney, Australia.\n",
            "\n",
            "   Quinlan,J.R. (1986). Induction of decision trees. Machine Learning,\n",
            "   1, 81--106.\n",
            "\n",
            "Note that the instances in these databases are followed by a vertical\n",
            "bar and a number.  These appear to be a patient id number.  The vertical\n",
            "bar is interepreted by Quinlan's algorithms as \"ignore the remainder of\n",
            "this line\". \n",
            "\n",
            "======================================================================\n",
            "This database now also contains an additional two data files, named \n",
            "hypothyroid.data and sick-euthyroid.data.  They have approximately the\n",
            "same data format and set of attributes as the other 6 databases, but\n",
            "their integrity is questionable.  Ross Quinlan is concerned that they\n",
            "may have been corrupted since they first arrived at UCI, but we have not\n",
            "yet established the validity of this possibility.  These 2 databases differ\n",
            "in terms of their number of instances (3163) and lack of corresponding \n",
            "test files.  They each have 2 concepts (negative/hypothyroid and \n",
            "sick-euthyroid/negative respectively).  Their source also appears to\n",
            "be the Garavan institute.  Each contains several missing values.\n",
            "\n",
            "Another relatively recent file thyroid0387.data has been added that \n",
            "contains the latest version of an archive of thyroid diagnoses obtained \n",
            "from the Garvan Institute, consisting of 9172 records from 1984 to early 1987.\n",
            "\n",
            "A domain theory related to thyroid desease has also been added recently \n",
            "(thyroid.theory).\n",
            "\n",
            "The files new-thyroid.[names,data] were donated by Stefan Aberhard.\n",
            "\n",
            "\n",
            "\n",
            "\n"
          ]
        }
      ],
      "source": [
        "print(info)"
      ]
    },
    {
      "cell_type": "markdown",
      "metadata": {
        "id": "I2brej1mQsbT"
      },
      "source": [
        "This file provides general information about the datasets in the repository where I downloaded mine, I would like to bring attention of the reader to the line \"4. several missing attribute values (signified by \"?\")\", which will be important during the data pre-processing."
      ]
    },
    {
      "cell_type": "markdown",
      "metadata": {
        "id": "rPik1AmqpIt2"
      },
      "source": [
        "## Columns"
      ]
    },
    {
      "cell_type": "code",
      "execution_count": null,
      "metadata": {
        "colab": {
          "base_uri": "https://localhost:8080/",
          "height": 392
        },
        "id": "cslRcx6m7EhL",
        "outputId": "801404df-bd02-40b8-fbca-c752acedb365"
      },
      "outputs": [
        {
          "output_type": "execute_result",
          "data": {
            "text/plain": [
              "   0  1  2  3  4  5  6  7  8  9   ... 20   21 22    23 24   25 26 27     28  \\\n",
              "0  41  F  f  f  f  f  f  f  f  f  ...  t  125  t  1.14  t  109  f  ?   SVHC   \n",
              "1  23  F  f  f  f  f  f  f  f  f  ...  t  102  f     ?  f    ?  f  ?  other   \n",
              "2  46  M  f  f  f  f  f  f  f  f  ...  t  109  t  0.91  t  120  f  ?  other   \n",
              "3  70  F  t  f  f  f  f  f  f  f  ...  t  175  f     ?  f    ?  f  ?  other   \n",
              "4  70  F  f  f  f  f  f  f  f  f  ...  t   61  t  0.87  t   70  f  ?    SVI   \n",
              "5  18  F  t  f  f  f  f  f  f  f  ...  t  183  t   1.3  t  141  f  ?  other   \n",
              "6  59  F  f  f  f  f  f  f  f  f  ...  t   72  t  0.92  t   78  f  ?  other   \n",
              "7  80  F  f  f  f  f  f  f  f  f  ...  t   80  t   0.7  t  115  f  ?    SVI   \n",
              "8  66  F  f  f  f  f  f  f  f  f  ...  t  123  t  0.93  t  132  f  ?    SVI   \n",
              "9  68  M  f  f  f  f  f  f  f  f  ...  t   83  t  0.89  t   93  f  ?    SVI   \n",
              "\n",
              "               29  \n",
              "0  negative.|3733  \n",
              "1  negative.|1442  \n",
              "2  negative.|2965  \n",
              "3   negative.|806  \n",
              "4  negative.|2807  \n",
              "5  negative.|3434  \n",
              "6  negative.|1595  \n",
              "7  negative.|1367  \n",
              "8  negative.|1787  \n",
              "9  negative.|2534  \n",
              "\n",
              "[10 rows x 30 columns]"
            ],
            "text/html": [
              "\n",
              "  <div id=\"df-ed517c79-aa18-459f-bcbb-0249aa8e84fb\">\n",
              "    <div class=\"colab-df-container\">\n",
              "      <div>\n",
              "<style scoped>\n",
              "    .dataframe tbody tr th:only-of-type {\n",
              "        vertical-align: middle;\n",
              "    }\n",
              "\n",
              "    .dataframe tbody tr th {\n",
              "        vertical-align: top;\n",
              "    }\n",
              "\n",
              "    .dataframe thead th {\n",
              "        text-align: right;\n",
              "    }\n",
              "</style>\n",
              "<table border=\"1\" class=\"dataframe\">\n",
              "  <thead>\n",
              "    <tr style=\"text-align: right;\">\n",
              "      <th></th>\n",
              "      <th>0</th>\n",
              "      <th>1</th>\n",
              "      <th>2</th>\n",
              "      <th>3</th>\n",
              "      <th>4</th>\n",
              "      <th>5</th>\n",
              "      <th>6</th>\n",
              "      <th>7</th>\n",
              "      <th>8</th>\n",
              "      <th>9</th>\n",
              "      <th>...</th>\n",
              "      <th>20</th>\n",
              "      <th>21</th>\n",
              "      <th>22</th>\n",
              "      <th>23</th>\n",
              "      <th>24</th>\n",
              "      <th>25</th>\n",
              "      <th>26</th>\n",
              "      <th>27</th>\n",
              "      <th>28</th>\n",
              "      <th>29</th>\n",
              "    </tr>\n",
              "  </thead>\n",
              "  <tbody>\n",
              "    <tr>\n",
              "      <th>0</th>\n",
              "      <td>41</td>\n",
              "      <td>F</td>\n",
              "      <td>f</td>\n",
              "      <td>f</td>\n",
              "      <td>f</td>\n",
              "      <td>f</td>\n",
              "      <td>f</td>\n",
              "      <td>f</td>\n",
              "      <td>f</td>\n",
              "      <td>f</td>\n",
              "      <td>...</td>\n",
              "      <td>t</td>\n",
              "      <td>125</td>\n",
              "      <td>t</td>\n",
              "      <td>1.14</td>\n",
              "      <td>t</td>\n",
              "      <td>109</td>\n",
              "      <td>f</td>\n",
              "      <td>?</td>\n",
              "      <td>SVHC</td>\n",
              "      <td>negative.|3733</td>\n",
              "    </tr>\n",
              "    <tr>\n",
              "      <th>1</th>\n",
              "      <td>23</td>\n",
              "      <td>F</td>\n",
              "      <td>f</td>\n",
              "      <td>f</td>\n",
              "      <td>f</td>\n",
              "      <td>f</td>\n",
              "      <td>f</td>\n",
              "      <td>f</td>\n",
              "      <td>f</td>\n",
              "      <td>f</td>\n",
              "      <td>...</td>\n",
              "      <td>t</td>\n",
              "      <td>102</td>\n",
              "      <td>f</td>\n",
              "      <td>?</td>\n",
              "      <td>f</td>\n",
              "      <td>?</td>\n",
              "      <td>f</td>\n",
              "      <td>?</td>\n",
              "      <td>other</td>\n",
              "      <td>negative.|1442</td>\n",
              "    </tr>\n",
              "    <tr>\n",
              "      <th>2</th>\n",
              "      <td>46</td>\n",
              "      <td>M</td>\n",
              "      <td>f</td>\n",
              "      <td>f</td>\n",
              "      <td>f</td>\n",
              "      <td>f</td>\n",
              "      <td>f</td>\n",
              "      <td>f</td>\n",
              "      <td>f</td>\n",
              "      <td>f</td>\n",
              "      <td>...</td>\n",
              "      <td>t</td>\n",
              "      <td>109</td>\n",
              "      <td>t</td>\n",
              "      <td>0.91</td>\n",
              "      <td>t</td>\n",
              "      <td>120</td>\n",
              "      <td>f</td>\n",
              "      <td>?</td>\n",
              "      <td>other</td>\n",
              "      <td>negative.|2965</td>\n",
              "    </tr>\n",
              "    <tr>\n",
              "      <th>3</th>\n",
              "      <td>70</td>\n",
              "      <td>F</td>\n",
              "      <td>t</td>\n",
              "      <td>f</td>\n",
              "      <td>f</td>\n",
              "      <td>f</td>\n",
              "      <td>f</td>\n",
              "      <td>f</td>\n",
              "      <td>f</td>\n",
              "      <td>f</td>\n",
              "      <td>...</td>\n",
              "      <td>t</td>\n",
              "      <td>175</td>\n",
              "      <td>f</td>\n",
              "      <td>?</td>\n",
              "      <td>f</td>\n",
              "      <td>?</td>\n",
              "      <td>f</td>\n",
              "      <td>?</td>\n",
              "      <td>other</td>\n",
              "      <td>negative.|806</td>\n",
              "    </tr>\n",
              "    <tr>\n",
              "      <th>4</th>\n",
              "      <td>70</td>\n",
              "      <td>F</td>\n",
              "      <td>f</td>\n",
              "      <td>f</td>\n",
              "      <td>f</td>\n",
              "      <td>f</td>\n",
              "      <td>f</td>\n",
              "      <td>f</td>\n",
              "      <td>f</td>\n",
              "      <td>f</td>\n",
              "      <td>...</td>\n",
              "      <td>t</td>\n",
              "      <td>61</td>\n",
              "      <td>t</td>\n",
              "      <td>0.87</td>\n",
              "      <td>t</td>\n",
              "      <td>70</td>\n",
              "      <td>f</td>\n",
              "      <td>?</td>\n",
              "      <td>SVI</td>\n",
              "      <td>negative.|2807</td>\n",
              "    </tr>\n",
              "    <tr>\n",
              "      <th>5</th>\n",
              "      <td>18</td>\n",
              "      <td>F</td>\n",
              "      <td>t</td>\n",
              "      <td>f</td>\n",
              "      <td>f</td>\n",
              "      <td>f</td>\n",
              "      <td>f</td>\n",
              "      <td>f</td>\n",
              "      <td>f</td>\n",
              "      <td>f</td>\n",
              "      <td>...</td>\n",
              "      <td>t</td>\n",
              "      <td>183</td>\n",
              "      <td>t</td>\n",
              "      <td>1.3</td>\n",
              "      <td>t</td>\n",
              "      <td>141</td>\n",
              "      <td>f</td>\n",
              "      <td>?</td>\n",
              "      <td>other</td>\n",
              "      <td>negative.|3434</td>\n",
              "    </tr>\n",
              "    <tr>\n",
              "      <th>6</th>\n",
              "      <td>59</td>\n",
              "      <td>F</td>\n",
              "      <td>f</td>\n",
              "      <td>f</td>\n",
              "      <td>f</td>\n",
              "      <td>f</td>\n",
              "      <td>f</td>\n",
              "      <td>f</td>\n",
              "      <td>f</td>\n",
              "      <td>f</td>\n",
              "      <td>...</td>\n",
              "      <td>t</td>\n",
              "      <td>72</td>\n",
              "      <td>t</td>\n",
              "      <td>0.92</td>\n",
              "      <td>t</td>\n",
              "      <td>78</td>\n",
              "      <td>f</td>\n",
              "      <td>?</td>\n",
              "      <td>other</td>\n",
              "      <td>negative.|1595</td>\n",
              "    </tr>\n",
              "    <tr>\n",
              "      <th>7</th>\n",
              "      <td>80</td>\n",
              "      <td>F</td>\n",
              "      <td>f</td>\n",
              "      <td>f</td>\n",
              "      <td>f</td>\n",
              "      <td>f</td>\n",
              "      <td>f</td>\n",
              "      <td>f</td>\n",
              "      <td>f</td>\n",
              "      <td>f</td>\n",
              "      <td>...</td>\n",
              "      <td>t</td>\n",
              "      <td>80</td>\n",
              "      <td>t</td>\n",
              "      <td>0.7</td>\n",
              "      <td>t</td>\n",
              "      <td>115</td>\n",
              "      <td>f</td>\n",
              "      <td>?</td>\n",
              "      <td>SVI</td>\n",
              "      <td>negative.|1367</td>\n",
              "    </tr>\n",
              "    <tr>\n",
              "      <th>8</th>\n",
              "      <td>66</td>\n",
              "      <td>F</td>\n",
              "      <td>f</td>\n",
              "      <td>f</td>\n",
              "      <td>f</td>\n",
              "      <td>f</td>\n",
              "      <td>f</td>\n",
              "      <td>f</td>\n",
              "      <td>f</td>\n",
              "      <td>f</td>\n",
              "      <td>...</td>\n",
              "      <td>t</td>\n",
              "      <td>123</td>\n",
              "      <td>t</td>\n",
              "      <td>0.93</td>\n",
              "      <td>t</td>\n",
              "      <td>132</td>\n",
              "      <td>f</td>\n",
              "      <td>?</td>\n",
              "      <td>SVI</td>\n",
              "      <td>negative.|1787</td>\n",
              "    </tr>\n",
              "    <tr>\n",
              "      <th>9</th>\n",
              "      <td>68</td>\n",
              "      <td>M</td>\n",
              "      <td>f</td>\n",
              "      <td>f</td>\n",
              "      <td>f</td>\n",
              "      <td>f</td>\n",
              "      <td>f</td>\n",
              "      <td>f</td>\n",
              "      <td>f</td>\n",
              "      <td>f</td>\n",
              "      <td>...</td>\n",
              "      <td>t</td>\n",
              "      <td>83</td>\n",
              "      <td>t</td>\n",
              "      <td>0.89</td>\n",
              "      <td>t</td>\n",
              "      <td>93</td>\n",
              "      <td>f</td>\n",
              "      <td>?</td>\n",
              "      <td>SVI</td>\n",
              "      <td>negative.|2534</td>\n",
              "    </tr>\n",
              "  </tbody>\n",
              "</table>\n",
              "<p>10 rows × 30 columns</p>\n",
              "</div>\n",
              "      <button class=\"colab-df-convert\" onclick=\"convertToInteractive('df-ed517c79-aa18-459f-bcbb-0249aa8e84fb')\"\n",
              "              title=\"Convert this dataframe to an interactive table.\"\n",
              "              style=\"display:none;\">\n",
              "        \n",
              "  <svg xmlns=\"http://www.w3.org/2000/svg\" height=\"24px\"viewBox=\"0 0 24 24\"\n",
              "       width=\"24px\">\n",
              "    <path d=\"M0 0h24v24H0V0z\" fill=\"none\"/>\n",
              "    <path d=\"M18.56 5.44l.94 2.06.94-2.06 2.06-.94-2.06-.94-.94-2.06-.94 2.06-2.06.94zm-11 1L8.5 8.5l.94-2.06 2.06-.94-2.06-.94L8.5 2.5l-.94 2.06-2.06.94zm10 10l.94 2.06.94-2.06 2.06-.94-2.06-.94-.94-2.06-.94 2.06-2.06.94z\"/><path d=\"M17.41 7.96l-1.37-1.37c-.4-.4-.92-.59-1.43-.59-.52 0-1.04.2-1.43.59L10.3 9.45l-7.72 7.72c-.78.78-.78 2.05 0 2.83L4 21.41c.39.39.9.59 1.41.59.51 0 1.02-.2 1.41-.59l7.78-7.78 2.81-2.81c.8-.78.8-2.07 0-2.86zM5.41 20L4 18.59l7.72-7.72 1.47 1.35L5.41 20z\"/>\n",
              "  </svg>\n",
              "      </button>\n",
              "      \n",
              "  <style>\n",
              "    .colab-df-container {\n",
              "      display:flex;\n",
              "      flex-wrap:wrap;\n",
              "      gap: 12px;\n",
              "    }\n",
              "\n",
              "    .colab-df-convert {\n",
              "      background-color: #E8F0FE;\n",
              "      border: none;\n",
              "      border-radius: 50%;\n",
              "      cursor: pointer;\n",
              "      display: none;\n",
              "      fill: #1967D2;\n",
              "      height: 32px;\n",
              "      padding: 0 0 0 0;\n",
              "      width: 32px;\n",
              "    }\n",
              "\n",
              "    .colab-df-convert:hover {\n",
              "      background-color: #E2EBFA;\n",
              "      box-shadow: 0px 1px 2px rgba(60, 64, 67, 0.3), 0px 1px 3px 1px rgba(60, 64, 67, 0.15);\n",
              "      fill: #174EA6;\n",
              "    }\n",
              "\n",
              "    [theme=dark] .colab-df-convert {\n",
              "      background-color: #3B4455;\n",
              "      fill: #D2E3FC;\n",
              "    }\n",
              "\n",
              "    [theme=dark] .colab-df-convert:hover {\n",
              "      background-color: #434B5C;\n",
              "      box-shadow: 0px 1px 3px 1px rgba(0, 0, 0, 0.15);\n",
              "      filter: drop-shadow(0px 1px 2px rgba(0, 0, 0, 0.3));\n",
              "      fill: #FFFFFF;\n",
              "    }\n",
              "  </style>\n",
              "\n",
              "      <script>\n",
              "        const buttonEl =\n",
              "          document.querySelector('#df-ed517c79-aa18-459f-bcbb-0249aa8e84fb button.colab-df-convert');\n",
              "        buttonEl.style.display =\n",
              "          google.colab.kernel.accessAllowed ? 'block' : 'none';\n",
              "\n",
              "        async function convertToInteractive(key) {\n",
              "          const element = document.querySelector('#df-ed517c79-aa18-459f-bcbb-0249aa8e84fb');\n",
              "          const dataTable =\n",
              "            await google.colab.kernel.invokeFunction('convertToInteractive',\n",
              "                                                     [key], {});\n",
              "          if (!dataTable) return;\n",
              "\n",
              "          const docLinkHtml = 'Like what you see? Visit the ' +\n",
              "            '<a target=\"_blank\" href=https://colab.research.google.com/notebooks/data_table.ipynb>data table notebook</a>'\n",
              "            + ' to learn more about interactive tables.';\n",
              "          element.innerHTML = '';\n",
              "          dataTable['output_type'] = 'display_data';\n",
              "          await google.colab.output.renderOutput(dataTable, element);\n",
              "          const docLink = document.createElement('div');\n",
              "          docLink.innerHTML = docLinkHtml;\n",
              "          element.appendChild(docLink);\n",
              "        }\n",
              "      </script>\n",
              "    </div>\n",
              "  </div>\n",
              "  "
            ]
          },
          "metadata": {},
          "execution_count": 5
        }
      ],
      "source": [
        "d1.head(10)"
      ]
    },
    {
      "cell_type": "code",
      "execution_count": null,
      "metadata": {
        "colab": {
          "base_uri": "https://localhost:8080/"
        },
        "id": "3HecXQrnxmxE",
        "outputId": "7392f138-ad9d-45f5-f2b1-536a933f2a5c"
      },
      "outputs": [
        {
          "output_type": "execute_result",
          "data": {
            "text/plain": [
              "Int64Index([ 0,  1,  2,  3,  4,  5,  6,  7,  8,  9, 10, 11, 12, 13, 14, 15, 16,\n",
              "            17, 18, 19, 20, 21, 22, 23, 24, 25, 26, 27, 28, 29],\n",
              "           dtype='int64')"
            ]
          },
          "metadata": {},
          "execution_count": 6
        }
      ],
      "source": [
        "d1.columns"
      ]
    },
    {
      "cell_type": "markdown",
      "metadata": {
        "id": "yUfC85W-tTO6"
      },
      "source": [
        "The dataset appears to be without column names and I will have to add column names myself by using the provided ones by the UCI in order to proceed with the data exploration."
      ]
    },
    {
      "cell_type": "code",
      "execution_count": null,
      "metadata": {
        "id": "2KApDKYWrAoW"
      },
      "outputs": [],
      "source": [
        "#the names were taken from the document provided by the UCI allbp.data\n",
        "columns=[\"age\",\"sex\",\"on thyroxine\",\"query on thyroxine\" ,\"on antithyroid medication\",\"sick\",\"pregnant\",\"thyroid surgery\",\"I131 treatment\" ,\"query hypothyroid\" ,\"query hyperthyroid\",\"lithium\" ,\"goitre\" ,\"tumor\",\"hypopituitary\",\"psych\",\"TSH m\",\"TSH\",\"T3 m\",\"T3\",\"TT4 m\",\"TT4\",\"T4U m\",\"T4U\",\"FTI m\",\"FTI\",\"TBG m\",\"TBG\",\"referral s\", \"Results\"]\n",
        "\n",
        "\n",
        "d1.columns = columns\n",
        "d2.columns = columns"
      ]
    },
    {
      "cell_type": "markdown",
      "metadata": {
        "id": "8Sy7r25Ep3Sn"
      },
      "source": [
        "## Data Types \n",
        "Now that I included the names of the columns the data exploration of the dataset will be more meaningful. First I will assess the data types of the values in each column."
      ]
    },
    {
      "cell_type": "code",
      "execution_count": null,
      "metadata": {
        "colab": {
          "base_uri": "https://localhost:8080/"
        },
        "id": "CbOJw7NcyEau",
        "outputId": "34f46dd9-34b0-49eb-e644-cabdcec3b344"
      },
      "outputs": [
        {
          "output_type": "stream",
          "name": "stdout",
          "text": [
            "<class 'pandas.core.frame.DataFrame'>\n",
            "RangeIndex: 2800 entries, 0 to 2799\n",
            "Data columns (total 30 columns):\n",
            " #   Column                     Non-Null Count  Dtype \n",
            "---  ------                     --------------  ----- \n",
            " 0   age                        2800 non-null   object\n",
            " 1   sex                        2800 non-null   object\n",
            " 2   on thyroxine               2800 non-null   object\n",
            " 3   query on thyroxine         2800 non-null   object\n",
            " 4   on antithyroid medication  2800 non-null   object\n",
            " 5   sick                       2800 non-null   object\n",
            " 6   pregnant                   2800 non-null   object\n",
            " 7   thyroid surgery            2800 non-null   object\n",
            " 8   I131 treatment             2800 non-null   object\n",
            " 9   query hypothyroid          2800 non-null   object\n",
            " 10  query hyperthyroid         2800 non-null   object\n",
            " 11  lithium                    2800 non-null   object\n",
            " 12  goitre                     2800 non-null   object\n",
            " 13  tumor                      2800 non-null   object\n",
            " 14  hypopituitary              2800 non-null   object\n",
            " 15  psych                      2800 non-null   object\n",
            " 16  TSH m                      2800 non-null   object\n",
            " 17  TSH                        2800 non-null   object\n",
            " 18  T3 m                       2800 non-null   object\n",
            " 19  T3                         2800 non-null   object\n",
            " 20  TT4 m                      2800 non-null   object\n",
            " 21  TT4                        2800 non-null   object\n",
            " 22  T4U m                      2800 non-null   object\n",
            " 23  T4U                        2800 non-null   object\n",
            " 24  FTI m                      2800 non-null   object\n",
            " 25  FTI                        2800 non-null   object\n",
            " 26  TBG m                      2800 non-null   object\n",
            " 27  TBG                        2800 non-null   object\n",
            " 28  referral s                 2800 non-null   object\n",
            " 29  Results                    2800 non-null   object\n",
            "dtypes: object(30)\n",
            "memory usage: 656.4+ KB\n"
          ]
        }
      ],
      "source": [
        "d1.info() # thyis will show me the data types "
      ]
    },
    {
      "cell_type": "markdown",
      "metadata": {
        "id": "TBTBLDCUub-P"
      },
      "source": [
        "Judging by the Dtype, I will have to reasess each column and transform each value into the numerical values. Luckily I was provided with the legend for each column, which I will use to iterate through the dataset and transform the variables into its respective integer or float values."
      ]
    },
    {
      "cell_type": "markdown",
      "metadata": {
        "id": "TqULcfGZqz1z"
      },
      "source": [
        "## Unique values\n",
        "Here I will check how many unique values each column has."
      ]
    },
    {
      "cell_type": "code",
      "execution_count": null,
      "metadata": {
        "colab": {
          "base_uri": "https://localhost:8080/"
        },
        "id": "AtoJ2txogbn8",
        "outputId": "affded83-28f9-4709-eb5e-479e512549a0"
      },
      "outputs": [
        {
          "output_type": "stream",
          "name": "stdout",
          "text": [
            "age 94\n",
            "sex 3\n",
            "on thyroxine 2\n",
            "query on thyroxine 2\n",
            "on antithyroid medication 2\n",
            "sick 2\n",
            "pregnant 2\n",
            "thyroid surgery 2\n",
            "I131 treatment 2\n",
            "query hypothyroid 2\n",
            "query hyperthyroid 2\n",
            "lithium 2\n",
            "goitre 2\n",
            "tumor 2\n",
            "hypopituitary 2\n",
            "psych 2\n",
            "TSH m 2\n",
            "TSH 264\n",
            "T3 m 2\n",
            "T3 65\n",
            "TT4 m 2\n",
            "TT4 218\n",
            "T4U m 2\n",
            "T4U 139\n",
            "FTI m 2\n",
            "FTI 210\n",
            "TBG m 1\n",
            "TBG 1\n",
            "referral s 5\n",
            "Results 2800\n"
          ]
        }
      ],
      "source": [
        "for i in d1.columns:\n",
        "  #print how many features it has\n",
        "  print(i, len(d1[i].unique()))"
      ]
    },
    {
      "cell_type": "markdown",
      "metadata": {
        "id": "y8hqNujwiEnJ"
      },
      "source": [
        "Even though the document provided by the UCI states that the target variable has only 3 unique values (increased binding protein, decreased binding protein, negative.), the dataset suggests otherwise so  I will have to transform the target value into its numerical correspondent value. "
      ]
    },
    {
      "cell_type": "code",
      "execution_count": null,
      "metadata": {
        "colab": {
          "base_uri": "https://localhost:8080/"
        },
        "id": "AZ5x7F_NmIis",
        "outputId": "e4b592e4-72a0-40f9-bb6b-74c46292fbcf"
      },
      "outputs": [
        {
          "output_type": "stream",
          "name": "stdout",
          "text": [
            "sex has 3 unique values, Thses are: ['F' 'M' '?'] \n",
            "on thyroxine has 2 unique values, Thses are: ['f' 't'] \n",
            "query on thyroxine has 2 unique values, Thses are: ['f' 't'] \n",
            "on antithyroid medication has 2 unique values, Thses are: ['f' 't'] \n",
            "sick has 2 unique values, Thses are: ['f' 't'] \n",
            "pregnant has 2 unique values, Thses are: ['f' 't'] \n",
            "thyroid surgery has 2 unique values, Thses are: ['f' 't'] \n",
            "I131 treatment has 2 unique values, Thses are: ['f' 't'] \n",
            "query hypothyroid has 2 unique values, Thses are: ['f' 't'] \n",
            "query hyperthyroid has 2 unique values, Thses are: ['f' 't'] \n",
            "lithium has 2 unique values, Thses are: ['f' 't'] \n",
            "goitre has 2 unique values, Thses are: ['f' 't'] \n",
            "tumor has 2 unique values, Thses are: ['f' 't'] \n",
            "hypopituitary has 2 unique values, Thses are: ['f' 't'] \n",
            "psych has 2 unique values, Thses are: ['f' 't'] \n",
            "TSH m has 2 unique values, Thses are: ['t' 'f'] \n",
            "T3 m has 2 unique values, Thses are: ['t' 'f'] \n",
            "TT4 m has 2 unique values, Thses are: ['t' 'f'] \n",
            "T4U m has 2 unique values, Thses are: ['t' 'f'] \n",
            "FTI m has 2 unique values, Thses are: ['t' 'f'] \n",
            "TBG m has 1 unique values, Thses are: ['f'] \n",
            "TBG has 1 unique values, Thses are: ['?'] \n",
            "referral s has 5 unique values, Thses are: ['SVHC' 'other' 'SVI' 'STMW' 'SVHD'] \n"
          ]
        }
      ],
      "source": [
        "# now i will print how columns have less then 10 unique values\n",
        "for i in d1.columns:\n",
        "  if len(d1[i].unique())<10:\n",
        "    print(f\"{i} has {len(d1[i].unique())} unique values, Thses are: {d1[i].unique()} \")"
      ]
    },
    {
      "cell_type": "markdown",
      "metadata": {
        "id": "dSSHf7PXnKMr"
      },
      "source": [
        "it can be seen that the columns \"TBG m\" and \"TBG\" have only one unique value and will have no effect on the target data so those can be droped during the data pre-processing. Also according to the document provided by the UCI the \"refferal s column\" contains the data regarding where the data is comming from so this column also can be dropped since it has no relation to the target data."
      ]
    },
    {
      "cell_type": "markdown",
      "metadata": {
        "id": "Bew6EozXujzX"
      },
      "source": [
        "## Females Males Ratio\n",
        "Next, I will check what is the class distribution in the sex column."
      ]
    },
    {
      "cell_type": "code",
      "execution_count": null,
      "metadata": {
        "colab": {
          "base_uri": "https://localhost:8080/"
        },
        "id": "nGY-sVRLnJBt",
        "outputId": "d733f434-532a-44f4-ee73-52de53f0b295"
      },
      "outputs": [
        {
          "output_type": "stream",
          "name": "stdout",
          "text": [
            "Percentage of males in the dataset is 0.0\n"
          ]
        }
      ],
      "source": [
        "sex = d1[d1.sex==1].shape[0]\n",
        "print(\"Percentage of males in the dataset is\", round(sex/d1.shape[0],2)*100)"
      ]
    },
    {
      "cell_type": "markdown",
      "metadata": {
        "id": "cE4V-LsPvbl2"
      },
      "source": [
        "According to the function the majority of the dataset cases are females."
      ]
    },
    {
      "cell_type": "markdown",
      "metadata": {
        "id": "aoq4_3VHxU82"
      },
      "source": [
        "# **Data Pre-Processing**"
      ]
    },
    {
      "cell_type": "markdown",
      "metadata": {
        "id": "i7IYBqx5X0XE"
      },
      "source": [
        "## Target Variable\n",
        "Fitrst I will deal with the target feature, according to the document provided by the UCI it can be separated into three categorical values  1 - (increased binding protein), 2 -(decreased binding protein), 0 - (negative). "
      ]
    },
    {
      "cell_type": "code",
      "execution_count": null,
      "metadata": {
        "id": "Niho7csg3Zlc"
      },
      "outputs": [],
      "source": [
        "# i iterate through the dataset in order to check the value\n",
        "# once the value of the string has been assessed it will be replaced by a corresponding variable\n",
        "for row in d1[\"Results\"]:\n",
        "  if \"decreased\" in str(row):\n",
        "    d1[\"Results\"] = d1[\"Results\"].replace(row, int(1))\n",
        "  elif \"increased\" in str(row):\n",
        "    d1[\"Results\"] = d1[\"Results\"].replace(row, int(2))\n",
        "  elif \"negative\" in str(row):\n",
        "    d1[\"Results\"] = d1[\"Results\"].replace(row, int(0))"
      ]
    },
    {
      "cell_type": "markdown",
      "metadata": {
        "id": "IJ_U89H2Zq_m"
      },
      "source": [
        "\n",
        "## Rest of the columns\n",
        "Now I will proceed to transform the rest of the dataset into its numerical form by using the legend provided by the UCI.\n",
        "NOTE The missing values, which are represented with the “?” character will be assigned the value of NaN.\n"
      ]
    },
    {
      "cell_type": "code",
      "execution_count": null,
      "metadata": {
        "id": "yE20vxW_xeSE"
      },
      "outputs": [],
      "source": [
        "\n",
        "for column in d1.columns:\n",
        "  for row in d1[column]:\n",
        "    \n",
        "    \n",
        "    if \"f\" in str(row):\n",
        "      d1[column] = d1[column].replace(row, int(0) )\n",
        "    elif \"t\" in str(row):\n",
        "      d1[column] = d1[column].replace(row, int(1) )\n",
        "    elif \"F\" in str(row):\n",
        "      d1[column] = d1[column].replace(row, int(0) )\n",
        "    elif \"M\" in str(row):\n",
        "      d1[column] = d1[column].replace(row, int(1) )\n",
        "\n",
        "\n",
        "\n"
      ]
    },
    {
      "cell_type": "markdown",
      "metadata": {
        "id": "8NalrZukuvMF"
      },
      "source": [
        "Next I will check again which columns have numerical values"
      ]
    },
    {
      "cell_type": "code",
      "execution_count": null,
      "metadata": {
        "colab": {
          "base_uri": "https://localhost:8080/"
        },
        "id": "MLrElQcQv1CM",
        "outputId": "79e8b143-0d1a-488f-dcdc-7413a13aea5a"
      },
      "outputs": [
        {
          "output_type": "execute_result",
          "data": {
            "text/plain": [
              "  age sex  on thyroxine  query on thyroxine  on antithyroid medication  sick  \\\n",
              "0  41   0             0                   0                          0     0   \n",
              "1  23   0             0                   0                          0     0   \n",
              "2  46   1             0                   0                          0     0   \n",
              "3  70   0             1                   0                          0     0   \n",
              "4  70   0             0                   0                          0     0   \n",
              "\n",
              "   pregnant  thyroid surgery  I131 treatment  query hypothyroid  ...  TT4 m  \\\n",
              "0         0                0               0                  0  ...      1   \n",
              "1         0                0               0                  0  ...      1   \n",
              "2         0                0               0                  0  ...      1   \n",
              "3         0                0               0                  0  ...      1   \n",
              "4         0                0               0                  0  ...      1   \n",
              "\n",
              "   TT4  T4U m   T4U  FTI m  FTI  TBG m TBG  referral s Results  \n",
              "0  125      1  1.14      1  109      0   ?        SVHC       0  \n",
              "1  102      0     ?      0    ?      0   ?           1       0  \n",
              "2  109      1  0.91      1  120      0   ?           1       0  \n",
              "3  175      0     ?      0    ?      0   ?           1       0  \n",
              "4   61      1  0.87      1   70      0   ?         SVI       0  \n",
              "\n",
              "[5 rows x 30 columns]"
            ],
            "text/html": [
              "\n",
              "  <div id=\"df-d4317ff3-9a15-4ac3-be8a-ee902ba6fba0\">\n",
              "    <div class=\"colab-df-container\">\n",
              "      <div>\n",
              "<style scoped>\n",
              "    .dataframe tbody tr th:only-of-type {\n",
              "        vertical-align: middle;\n",
              "    }\n",
              "\n",
              "    .dataframe tbody tr th {\n",
              "        vertical-align: top;\n",
              "    }\n",
              "\n",
              "    .dataframe thead th {\n",
              "        text-align: right;\n",
              "    }\n",
              "</style>\n",
              "<table border=\"1\" class=\"dataframe\">\n",
              "  <thead>\n",
              "    <tr style=\"text-align: right;\">\n",
              "      <th></th>\n",
              "      <th>age</th>\n",
              "      <th>sex</th>\n",
              "      <th>on thyroxine</th>\n",
              "      <th>query on thyroxine</th>\n",
              "      <th>on antithyroid medication</th>\n",
              "      <th>sick</th>\n",
              "      <th>pregnant</th>\n",
              "      <th>thyroid surgery</th>\n",
              "      <th>I131 treatment</th>\n",
              "      <th>query hypothyroid</th>\n",
              "      <th>...</th>\n",
              "      <th>TT4 m</th>\n",
              "      <th>TT4</th>\n",
              "      <th>T4U m</th>\n",
              "      <th>T4U</th>\n",
              "      <th>FTI m</th>\n",
              "      <th>FTI</th>\n",
              "      <th>TBG m</th>\n",
              "      <th>TBG</th>\n",
              "      <th>referral s</th>\n",
              "      <th>Results</th>\n",
              "    </tr>\n",
              "  </thead>\n",
              "  <tbody>\n",
              "    <tr>\n",
              "      <th>0</th>\n",
              "      <td>41</td>\n",
              "      <td>0</td>\n",
              "      <td>0</td>\n",
              "      <td>0</td>\n",
              "      <td>0</td>\n",
              "      <td>0</td>\n",
              "      <td>0</td>\n",
              "      <td>0</td>\n",
              "      <td>0</td>\n",
              "      <td>0</td>\n",
              "      <td>...</td>\n",
              "      <td>1</td>\n",
              "      <td>125</td>\n",
              "      <td>1</td>\n",
              "      <td>1.14</td>\n",
              "      <td>1</td>\n",
              "      <td>109</td>\n",
              "      <td>0</td>\n",
              "      <td>?</td>\n",
              "      <td>SVHC</td>\n",
              "      <td>0</td>\n",
              "    </tr>\n",
              "    <tr>\n",
              "      <th>1</th>\n",
              "      <td>23</td>\n",
              "      <td>0</td>\n",
              "      <td>0</td>\n",
              "      <td>0</td>\n",
              "      <td>0</td>\n",
              "      <td>0</td>\n",
              "      <td>0</td>\n",
              "      <td>0</td>\n",
              "      <td>0</td>\n",
              "      <td>0</td>\n",
              "      <td>...</td>\n",
              "      <td>1</td>\n",
              "      <td>102</td>\n",
              "      <td>0</td>\n",
              "      <td>?</td>\n",
              "      <td>0</td>\n",
              "      <td>?</td>\n",
              "      <td>0</td>\n",
              "      <td>?</td>\n",
              "      <td>1</td>\n",
              "      <td>0</td>\n",
              "    </tr>\n",
              "    <tr>\n",
              "      <th>2</th>\n",
              "      <td>46</td>\n",
              "      <td>1</td>\n",
              "      <td>0</td>\n",
              "      <td>0</td>\n",
              "      <td>0</td>\n",
              "      <td>0</td>\n",
              "      <td>0</td>\n",
              "      <td>0</td>\n",
              "      <td>0</td>\n",
              "      <td>0</td>\n",
              "      <td>...</td>\n",
              "      <td>1</td>\n",
              "      <td>109</td>\n",
              "      <td>1</td>\n",
              "      <td>0.91</td>\n",
              "      <td>1</td>\n",
              "      <td>120</td>\n",
              "      <td>0</td>\n",
              "      <td>?</td>\n",
              "      <td>1</td>\n",
              "      <td>0</td>\n",
              "    </tr>\n",
              "    <tr>\n",
              "      <th>3</th>\n",
              "      <td>70</td>\n",
              "      <td>0</td>\n",
              "      <td>1</td>\n",
              "      <td>0</td>\n",
              "      <td>0</td>\n",
              "      <td>0</td>\n",
              "      <td>0</td>\n",
              "      <td>0</td>\n",
              "      <td>0</td>\n",
              "      <td>0</td>\n",
              "      <td>...</td>\n",
              "      <td>1</td>\n",
              "      <td>175</td>\n",
              "      <td>0</td>\n",
              "      <td>?</td>\n",
              "      <td>0</td>\n",
              "      <td>?</td>\n",
              "      <td>0</td>\n",
              "      <td>?</td>\n",
              "      <td>1</td>\n",
              "      <td>0</td>\n",
              "    </tr>\n",
              "    <tr>\n",
              "      <th>4</th>\n",
              "      <td>70</td>\n",
              "      <td>0</td>\n",
              "      <td>0</td>\n",
              "      <td>0</td>\n",
              "      <td>0</td>\n",
              "      <td>0</td>\n",
              "      <td>0</td>\n",
              "      <td>0</td>\n",
              "      <td>0</td>\n",
              "      <td>0</td>\n",
              "      <td>...</td>\n",
              "      <td>1</td>\n",
              "      <td>61</td>\n",
              "      <td>1</td>\n",
              "      <td>0.87</td>\n",
              "      <td>1</td>\n",
              "      <td>70</td>\n",
              "      <td>0</td>\n",
              "      <td>?</td>\n",
              "      <td>SVI</td>\n",
              "      <td>0</td>\n",
              "    </tr>\n",
              "  </tbody>\n",
              "</table>\n",
              "<p>5 rows × 30 columns</p>\n",
              "</div>\n",
              "      <button class=\"colab-df-convert\" onclick=\"convertToInteractive('df-d4317ff3-9a15-4ac3-be8a-ee902ba6fba0')\"\n",
              "              title=\"Convert this dataframe to an interactive table.\"\n",
              "              style=\"display:none;\">\n",
              "        \n",
              "  <svg xmlns=\"http://www.w3.org/2000/svg\" height=\"24px\"viewBox=\"0 0 24 24\"\n",
              "       width=\"24px\">\n",
              "    <path d=\"M0 0h24v24H0V0z\" fill=\"none\"/>\n",
              "    <path d=\"M18.56 5.44l.94 2.06.94-2.06 2.06-.94-2.06-.94-.94-2.06-.94 2.06-2.06.94zm-11 1L8.5 8.5l.94-2.06 2.06-.94-2.06-.94L8.5 2.5l-.94 2.06-2.06.94zm10 10l.94 2.06.94-2.06 2.06-.94-2.06-.94-.94-2.06-.94 2.06-2.06.94z\"/><path d=\"M17.41 7.96l-1.37-1.37c-.4-.4-.92-.59-1.43-.59-.52 0-1.04.2-1.43.59L10.3 9.45l-7.72 7.72c-.78.78-.78 2.05 0 2.83L4 21.41c.39.39.9.59 1.41.59.51 0 1.02-.2 1.41-.59l7.78-7.78 2.81-2.81c.8-.78.8-2.07 0-2.86zM5.41 20L4 18.59l7.72-7.72 1.47 1.35L5.41 20z\"/>\n",
              "  </svg>\n",
              "      </button>\n",
              "      \n",
              "  <style>\n",
              "    .colab-df-container {\n",
              "      display:flex;\n",
              "      flex-wrap:wrap;\n",
              "      gap: 12px;\n",
              "    }\n",
              "\n",
              "    .colab-df-convert {\n",
              "      background-color: #E8F0FE;\n",
              "      border: none;\n",
              "      border-radius: 50%;\n",
              "      cursor: pointer;\n",
              "      display: none;\n",
              "      fill: #1967D2;\n",
              "      height: 32px;\n",
              "      padding: 0 0 0 0;\n",
              "      width: 32px;\n",
              "    }\n",
              "\n",
              "    .colab-df-convert:hover {\n",
              "      background-color: #E2EBFA;\n",
              "      box-shadow: 0px 1px 2px rgba(60, 64, 67, 0.3), 0px 1px 3px 1px rgba(60, 64, 67, 0.15);\n",
              "      fill: #174EA6;\n",
              "    }\n",
              "\n",
              "    [theme=dark] .colab-df-convert {\n",
              "      background-color: #3B4455;\n",
              "      fill: #D2E3FC;\n",
              "    }\n",
              "\n",
              "    [theme=dark] .colab-df-convert:hover {\n",
              "      background-color: #434B5C;\n",
              "      box-shadow: 0px 1px 3px 1px rgba(0, 0, 0, 0.15);\n",
              "      filter: drop-shadow(0px 1px 2px rgba(0, 0, 0, 0.3));\n",
              "      fill: #FFFFFF;\n",
              "    }\n",
              "  </style>\n",
              "\n",
              "      <script>\n",
              "        const buttonEl =\n",
              "          document.querySelector('#df-d4317ff3-9a15-4ac3-be8a-ee902ba6fba0 button.colab-df-convert');\n",
              "        buttonEl.style.display =\n",
              "          google.colab.kernel.accessAllowed ? 'block' : 'none';\n",
              "\n",
              "        async function convertToInteractive(key) {\n",
              "          const element = document.querySelector('#df-d4317ff3-9a15-4ac3-be8a-ee902ba6fba0');\n",
              "          const dataTable =\n",
              "            await google.colab.kernel.invokeFunction('convertToInteractive',\n",
              "                                                     [key], {});\n",
              "          if (!dataTable) return;\n",
              "\n",
              "          const docLinkHtml = 'Like what you see? Visit the ' +\n",
              "            '<a target=\"_blank\" href=https://colab.research.google.com/notebooks/data_table.ipynb>data table notebook</a>'\n",
              "            + ' to learn more about interactive tables.';\n",
              "          element.innerHTML = '';\n",
              "          dataTable['output_type'] = 'display_data';\n",
              "          await google.colab.output.renderOutput(dataTable, element);\n",
              "          const docLink = document.createElement('div');\n",
              "          docLink.innerHTML = docLinkHtml;\n",
              "          element.appendChild(docLink);\n",
              "        }\n",
              "      </script>\n",
              "    </div>\n",
              "  </div>\n",
              "  "
            ]
          },
          "metadata": {},
          "execution_count": 14
        }
      ],
      "source": [
        "d1.head(5)"
      ]
    },
    {
      "cell_type": "code",
      "execution_count": null,
      "metadata": {
        "colab": {
          "base_uri": "https://localhost:8080/"
        },
        "id": "sI1S2Js6tlPt",
        "outputId": "f9a824db-6bcb-418d-83c4-8ac3cf77c321"
      },
      "outputs": [
        {
          "output_type": "stream",
          "name": "stdout",
          "text": [
            "<class 'pandas.core.frame.DataFrame'>\n",
            "RangeIndex: 2800 entries, 0 to 2799\n",
            "Data columns (total 30 columns):\n",
            " #   Column                     Non-Null Count  Dtype \n",
            "---  ------                     --------------  ----- \n",
            " 0   age                        2800 non-null   object\n",
            " 1   sex                        2800 non-null   object\n",
            " 2   on thyroxine               2800 non-null   int64 \n",
            " 3   query on thyroxine         2800 non-null   int64 \n",
            " 4   on antithyroid medication  2800 non-null   int64 \n",
            " 5   sick                       2800 non-null   int64 \n",
            " 6   pregnant                   2800 non-null   int64 \n",
            " 7   thyroid surgery            2800 non-null   int64 \n",
            " 8   I131 treatment             2800 non-null   int64 \n",
            " 9   query hypothyroid          2800 non-null   int64 \n",
            " 10  query hyperthyroid         2800 non-null   int64 \n",
            " 11  lithium                    2800 non-null   int64 \n",
            " 12  goitre                     2800 non-null   int64 \n",
            " 13  tumor                      2800 non-null   int64 \n",
            " 14  hypopituitary              2800 non-null   int64 \n",
            " 15  psych                      2800 non-null   int64 \n",
            " 16  TSH m                      2800 non-null   int64 \n",
            " 17  TSH                        2800 non-null   object\n",
            " 18  T3 m                       2800 non-null   int64 \n",
            " 19  T3                         2800 non-null   object\n",
            " 20  TT4 m                      2800 non-null   int64 \n",
            " 21  TT4                        2800 non-null   object\n",
            " 22  T4U m                      2800 non-null   int64 \n",
            " 23  T4U                        2800 non-null   object\n",
            " 24  FTI m                      2800 non-null   int64 \n",
            " 25  FTI                        2800 non-null   object\n",
            " 26  TBG m                      2800 non-null   int64 \n",
            " 27  TBG                        2800 non-null   object\n",
            " 28  referral s                 2800 non-null   object\n",
            " 29  Results                    2800 non-null   int64 \n",
            "dtypes: int64(21), object(9)\n",
            "memory usage: 656.4+ KB\n"
          ]
        }
      ],
      "source": [
        "d1.info()"
      ]
    },
    {
      "cell_type": "markdown",
      "metadata": {
        "id": "RyQK7fbQuLO5"
      },
      "source": [
        "## Numerical Values as objects\n",
        "As can be seen from the functions above, the following columns [\"age\", \"TT4\", \"FTI\", \"TSH\", \"T3\", \"T4U\"] have numerical value which use an object datatype which has to be changed in order to fit it into the model, so I will transform those next."
      ]
    },
    {
      "cell_type": "code",
      "execution_count": null,
      "metadata": {
        "id": "3Tbz4YtkvIk7"
      },
      "outputs": [],
      "source": [
        "\n",
        "\n",
        "# I create a loop which iterate through each value in a defined column\n",
        "# then the if statement will wether the value is a \"?\"\n",
        "# once its been confirmed the value of the row is not a \"?\" it will proceed to replace the contents of the row with its numeric value\n",
        "# the said operations will be repeated for each column specified in the description  above   \n",
        "for row in d1[\"age\"]:\n",
        "  if str(row) != \"?\" :\n",
        "    d1[\"age\"] = d1[\"age\"].replace(row, int(row) )\n",
        "  \n",
        "    \n",
        "for row in d1[\"TT4\"]:\n",
        "  if str(row) != \"?\" :\n",
        "    d1[\"TT4\"] = d1[\"TT4\"].replace(row, float(row) )\n",
        " \n",
        "    \n",
        "for row in d1[\"FTI\"]:\n",
        "  if str(row) != \"?\" :\n",
        "    d1[\"FTI\"] = d1[\"FTI\"].replace(row, float(row) )\n",
        "    \n",
        "for row in d1[\"TSH\"]:\n",
        "  if str(row) != \"?\" :\n",
        "   d1[\"TSH\"] = d1[\"TSH\"].replace(row, float(row) )\n",
        "    \n",
        "for row in d1[\"T3\"]:\n",
        "  if str(row) != \"?\" :\n",
        "    d1[\"T3\"] = d1[\"T3\"].replace(row, float(row) )\n",
        "    \n",
        "\n",
        "for row in d1[\"T4U\"]:\n",
        "  if str(row) != \"?\" :\n",
        "    d1[\"T4U\"] = d1[\"T4U\"].replace(row, float(row) )\n",
        "    \n",
        "  "
      ]
    },
    {
      "cell_type": "markdown",
      "metadata": {
        "id": "IAt6nhyKwr85"
      },
      "source": [
        "# **Identifying Missing values**\n",
        "Here I will deal with any missing data in the dataset, I would like to remind the reader that the missing values in this dataset are represented by the “?” character.\n"
      ]
    },
    {
      "cell_type": "markdown",
      "metadata": {
        "id": "e72AeU0wxPtP"
      },
      "source": [
        "## Sex column missing values\n",
        "As discovered in the quick data exploration the majority of the cases in the dataset are female patients, for this reason, I will replace any missing data with female values."
      ]
    },
    {
      "cell_type": "code",
      "execution_count": null,
      "metadata": {
        "id": "y2ULuUeZsybj"
      },
      "outputs": [],
      "source": [
        "for row in d1[\"sex\"]:\n",
        "  if str(row) == \"?\" :\n",
        "    d1[\"sex\"] = d1[\"sex\"].replace(row, int(0) )"
      ]
    },
    {
      "cell_type": "markdown",
      "metadata": {
        "id": "Ank1iYIswXxg"
      },
      "source": [
        "## Question mark to NaN\n",
        "\n",
        "Now I will proceed to transform the rest of the missing values to NaN.\n"
      ]
    },
    {
      "cell_type": "code",
      "execution_count": null,
      "metadata": {
        "id": "2T66Q_DeswP6"
      },
      "outputs": [],
      "source": [
        "#this function will iterate through each of the column and each row and replace the \"?\" with the NaN type \n",
        "for column in d1.columns:\n",
        "  for row in d1[column]:\n",
        "    if \"?\" in str(row):\n",
        "      d1[column] = d1[column].replace(row, np.NaN )\n"
      ]
    },
    {
      "cell_type": "markdown",
      "metadata": {
        "id": "7GVzGrbzaARp"
      },
      "source": [
        "Now that I have changed the values of the dataset, I will check the datatypes again. "
      ]
    },
    {
      "cell_type": "code",
      "execution_count": null,
      "metadata": {
        "colab": {
          "base_uri": "https://localhost:8080/"
        },
        "id": "jzOVXsy6Z_4X",
        "outputId": "4cdee63e-e8db-4980-ddcc-e48fba6aa253"
      },
      "outputs": [
        {
          "output_type": "stream",
          "name": "stdout",
          "text": [
            "<class 'pandas.core.frame.DataFrame'>\n",
            "RangeIndex: 2800 entries, 0 to 2799\n",
            "Data columns (total 30 columns):\n",
            " #   Column                     Non-Null Count  Dtype  \n",
            "---  ------                     --------------  -----  \n",
            " 0   age                        2799 non-null   float64\n",
            " 1   sex                        2800 non-null   int64  \n",
            " 2   on thyroxine               2800 non-null   int64  \n",
            " 3   query on thyroxine         2800 non-null   int64  \n",
            " 4   on antithyroid medication  2800 non-null   int64  \n",
            " 5   sick                       2800 non-null   int64  \n",
            " 6   pregnant                   2800 non-null   int64  \n",
            " 7   thyroid surgery            2800 non-null   int64  \n",
            " 8   I131 treatment             2800 non-null   int64  \n",
            " 9   query hypothyroid          2800 non-null   int64  \n",
            " 10  query hyperthyroid         2800 non-null   int64  \n",
            " 11  lithium                    2800 non-null   int64  \n",
            " 12  goitre                     2800 non-null   int64  \n",
            " 13  tumor                      2800 non-null   int64  \n",
            " 14  hypopituitary              2800 non-null   int64  \n",
            " 15  psych                      2800 non-null   int64  \n",
            " 16  TSH m                      2800 non-null   int64  \n",
            " 17  TSH                        2516 non-null   float64\n",
            " 18  T3 m                       2800 non-null   int64  \n",
            " 19  T3                         2215 non-null   float64\n",
            " 20  TT4 m                      2800 non-null   int64  \n",
            " 21  TT4                        2616 non-null   float64\n",
            " 22  T4U m                      2800 non-null   int64  \n",
            " 23  T4U                        2503 non-null   float64\n",
            " 24  FTI m                      2800 non-null   int64  \n",
            " 25  FTI                        2505 non-null   float64\n",
            " 26  TBG m                      2800 non-null   int64  \n",
            " 27  TBG                        0 non-null      float64\n",
            " 28  referral s                 2800 non-null   object \n",
            " 29  Results                    2800 non-null   int64  \n",
            "dtypes: float64(7), int64(22), object(1)\n",
            "memory usage: 656.4+ KB\n"
          ]
        }
      ],
      "source": [
        "d1.info()"
      ]
    },
    {
      "cell_type": "markdown",
      "metadata": {
        "id": "NC1bAcorcJaA"
      },
      "source": [
        "Now that I dealt with the datatype of the values in the dataset I will check how many missing values."
      ]
    },
    {
      "cell_type": "code",
      "execution_count": null,
      "metadata": {
        "colab": {
          "base_uri": "https://localhost:8080/"
        },
        "id": "NvJVPEB1y9eE",
        "outputId": "5287b893-3af7-4fe1-a798-9d8b62c5e739"
      },
      "outputs": [
        {
          "output_type": "execute_result",
          "data": {
            "text/plain": [
              "age                             1\n",
              "sex                             0\n",
              "on thyroxine                    0\n",
              "query on thyroxine              0\n",
              "on antithyroid medication       0\n",
              "sick                            0\n",
              "pregnant                        0\n",
              "thyroid surgery                 0\n",
              "I131 treatment                  0\n",
              "query hypothyroid               0\n",
              "query hyperthyroid              0\n",
              "lithium                         0\n",
              "goitre                          0\n",
              "tumor                           0\n",
              "hypopituitary                   0\n",
              "psych                           0\n",
              "TSH m                           0\n",
              "TSH                           284\n",
              "T3 m                            0\n",
              "T3                            585\n",
              "TT4 m                           0\n",
              "TT4                           184\n",
              "T4U m                           0\n",
              "T4U                           297\n",
              "FTI m                           0\n",
              "FTI                           295\n",
              "TBG m                           0\n",
              "TBG                          2800\n",
              "referral s                      0\n",
              "Results                         0\n",
              "dtype: int64"
            ]
          },
          "metadata": {},
          "execution_count": 20
        }
      ],
      "source": [
        "d1.isnull().sum()"
      ]
    },
    {
      "cell_type": "code",
      "execution_count": null,
      "metadata": {
        "colab": {
          "base_uri": "https://localhost:8080/"
        },
        "id": "NL6d84kXyY0l",
        "outputId": "d1c2c098-c1e9-4bfe-e0c6-6d43ddcbc1e0"
      },
      "outputs": [
        {
          "output_type": "stream",
          "name": "stdout",
          "text": [
            "age 94\n",
            "sex 2\n",
            "on thyroxine 2\n",
            "query on thyroxine 2\n",
            "on antithyroid medication 2\n",
            "sick 2\n",
            "pregnant 2\n",
            "thyroid surgery 2\n",
            "I131 treatment 2\n",
            "query hypothyroid 2\n",
            "query hyperthyroid 2\n",
            "lithium 2\n",
            "goitre 2\n",
            "tumor 2\n",
            "hypopituitary 2\n",
            "psych 2\n",
            "TSH m 2\n",
            "TSH 264\n",
            "T3 m 2\n",
            "T3 65\n",
            "TT4 m 2\n",
            "TT4 218\n",
            "T4U m 2\n",
            "T4U 139\n",
            "FTI m 2\n",
            "FTI 210\n",
            "TBG m 1\n",
            "TBG 1\n",
            "referral s 4\n",
            "Results 3\n"
          ]
        }
      ],
      "source": [
        "for i in d1.columns:\n",
        "  #print how many features it has\n",
        "  print(i, len(d1[i].unique()))"
      ]
    },
    {
      "cell_type": "markdown",
      "metadata": {
        "id": "VAj2wZZ20HtD"
      },
      "source": [
        "As I can see none of the columns with the categorical variables have missing values so I will proceed to fill the missing values with the mean value."
      ]
    },
    {
      "cell_type": "markdown",
      "metadata": {
        "id": "9X6idNK4o9wY"
      },
      "source": [
        "# **Dealing with the missing values**\n",
        "The function below will calculate the mean value for each column and use it to fill in all the missing values.Also, as discussed preciously, I will be dropping the \"refferal s\" feature which, according to the materials provided by the UCI, contains the origin of the information and has no effect on the Target value since it states where the data comes from, not the patients' origins. \n",
        "\n"
      ]
    },
    {
      "cell_type": "code",
      "execution_count": null,
      "metadata": {
        "id": "rKXGlHg6-a7q"
      },
      "outputs": [],
      "source": [
        "del d1[\"referral s\"]"
      ]
    },
    {
      "cell_type": "code",
      "execution_count": null,
      "metadata": {
        "id": "vdOOTTr651m3"
      },
      "outputs": [],
      "source": [
        "for column in d1.columns:\n",
        "  d1[column]=d1[column].fillna(d1[column].mean())\n",
        "\n"
      ]
    },
    {
      "cell_type": "code",
      "execution_count": null,
      "metadata": {
        "colab": {
          "base_uri": "https://localhost:8080/"
        },
        "id": "3sOrehr_6ThW",
        "outputId": "6018bd5e-898d-4313-ff67-97dcf686eacb"
      },
      "outputs": [
        {
          "output_type": "execute_result",
          "data": {
            "text/plain": [
              "age                             0\n",
              "sex                             0\n",
              "on thyroxine                    0\n",
              "query on thyroxine              0\n",
              "on antithyroid medication       0\n",
              "sick                            0\n",
              "pregnant                        0\n",
              "thyroid surgery                 0\n",
              "I131 treatment                  0\n",
              "query hypothyroid               0\n",
              "query hyperthyroid              0\n",
              "lithium                         0\n",
              "goitre                          0\n",
              "tumor                           0\n",
              "hypopituitary                   0\n",
              "psych                           0\n",
              "TSH m                           0\n",
              "TSH                             0\n",
              "T3 m                            0\n",
              "T3                              0\n",
              "TT4 m                           0\n",
              "TT4                             0\n",
              "T4U m                           0\n",
              "T4U                             0\n",
              "FTI m                           0\n",
              "FTI                             0\n",
              "TBG m                           0\n",
              "TBG                          2800\n",
              "Results                         0\n",
              "dtype: int64"
            ]
          },
          "metadata": {},
          "execution_count": 24
        }
      ],
      "source": [
        "d1.isnull().sum()"
      ]
    },
    {
      "cell_type": "markdown",
      "metadata": {
        "id": "ThwMt7jO7L4J"
      },
      "source": [
        "# Removing Unnecessary Features\n",
        "\n",
        "As can be seen in the function above the TBG feature is composed exclusively of missing values, because the dataset has 2800 rows, for that reason I will be dropping that feature.\n"
      ]
    },
    {
      "cell_type": "code",
      "execution_count": null,
      "metadata": {
        "colab": {
          "base_uri": "https://localhost:8080/"
        },
        "id": "MWXmWKv6zZDa",
        "outputId": "513aacfc-228e-4cc2-b6c9-e0c07d6ff002"
      },
      "outputs": [
        {
          "output_type": "stream",
          "name": "stdout",
          "text": [
            "age 94\n",
            "sex 2\n",
            "on thyroxine 2\n",
            "query on thyroxine 2\n",
            "on antithyroid medication 2\n",
            "sick 2\n",
            "pregnant 2\n",
            "thyroid surgery 2\n",
            "I131 treatment 2\n",
            "query hypothyroid 2\n",
            "query hyperthyroid 2\n",
            "lithium 2\n",
            "goitre 2\n",
            "tumor 2\n",
            "hypopituitary 2\n",
            "psych 2\n",
            "TSH m 2\n",
            "TSH 264\n",
            "T3 m 2\n",
            "T3 65\n",
            "TT4 m 2\n",
            "TT4 218\n",
            "T4U m 2\n",
            "T4U 139\n",
            "FTI m 2\n",
            "FTI 210\n",
            "TBG m 1\n",
            "TBG 1\n",
            "Results 3\n"
          ]
        }
      ],
      "source": [
        "for i in d1.columns:\n",
        "  print(i, len(d1[i].unique()))\n"
      ]
    },
    {
      "cell_type": "markdown",
      "metadata": {
        "id": "KEeZECMc80Th"
      },
      "source": [
        "Also the features TBGm and TBG both have only one unique value so it is safe to drop these features as well since they will have no effect on the data."
      ]
    },
    {
      "cell_type": "code",
      "execution_count": null,
      "metadata": {
        "id": "aoIT5PVu6nWB"
      },
      "outputs": [],
      "source": [
        "del d1[\"TBG m\"]  \n",
        "del d1[\"TBG\"]\n",
        "\n"
      ]
    },
    {
      "cell_type": "markdown",
      "metadata": {
        "id": "AXRD-cBZADqJ"
      },
      "source": [
        "# Class Distribution\n",
        "In this section I will investigate the class distribution among the features of the dataset.\n"
      ]
    },
    {
      "cell_type": "markdown",
      "metadata": {
        "id": "1ALq4LC_NGT6"
      },
      "source": [
        "## Target Value"
      ]
    },
    {
      "cell_type": "code",
      "execution_count": null,
      "metadata": {
        "colab": {
          "base_uri": "https://localhost:8080/"
        },
        "id": "nwSEb3_a2Qq8",
        "outputId": "ba37fd64-a487-4d3c-8c9e-984ba12ab3f0"
      },
      "outputs": [
        {
          "output_type": "execute_result",
          "data": {
            "text/plain": [
              "0    2667\n",
              "2     124\n",
              "1       9\n",
              "Name: Results, dtype: int64"
            ]
          },
          "metadata": {},
          "execution_count": 27
        }
      ],
      "source": [
        "d1[\"Results\"].value_counts()"
      ]
    },
    {
      "cell_type": "markdown",
      "metadata": {
        "id": "g4RkO2xx2nSv"
      },
      "source": [
        "Now i can see that my data is laregely imbalanced towards the negative cases. I will use seaborn bar plots to visualize the class distribution."
      ]
    },
    {
      "cell_type": "code",
      "execution_count": null,
      "metadata": {
        "colab": {
          "base_uri": "https://localhost:8080/",
          "height": 143
        },
        "id": "TaOveTaxBfqm",
        "outputId": "6f6b902a-5670-47b3-81df-f310301557e0"
      },
      "outputs": [
        {
          "output_type": "execute_result",
          "data": {
            "text/plain": [
              "   Count\n",
              "0   2667\n",
              "2    124\n",
              "1      9"
            ],
            "text/html": [
              "\n",
              "  <div id=\"df-9513c1ef-d3fc-4158-aa04-08d35cae0510\">\n",
              "    <div class=\"colab-df-container\">\n",
              "      <div>\n",
              "<style scoped>\n",
              "    .dataframe tbody tr th:only-of-type {\n",
              "        vertical-align: middle;\n",
              "    }\n",
              "\n",
              "    .dataframe tbody tr th {\n",
              "        vertical-align: top;\n",
              "    }\n",
              "\n",
              "    .dataframe thead th {\n",
              "        text-align: right;\n",
              "    }\n",
              "</style>\n",
              "<table border=\"1\" class=\"dataframe\">\n",
              "  <thead>\n",
              "    <tr style=\"text-align: right;\">\n",
              "      <th></th>\n",
              "      <th>Count</th>\n",
              "    </tr>\n",
              "  </thead>\n",
              "  <tbody>\n",
              "    <tr>\n",
              "      <th>0</th>\n",
              "      <td>2667</td>\n",
              "    </tr>\n",
              "    <tr>\n",
              "      <th>2</th>\n",
              "      <td>124</td>\n",
              "    </tr>\n",
              "    <tr>\n",
              "      <th>1</th>\n",
              "      <td>9</td>\n",
              "    </tr>\n",
              "  </tbody>\n",
              "</table>\n",
              "</div>\n",
              "      <button class=\"colab-df-convert\" onclick=\"convertToInteractive('df-9513c1ef-d3fc-4158-aa04-08d35cae0510')\"\n",
              "              title=\"Convert this dataframe to an interactive table.\"\n",
              "              style=\"display:none;\">\n",
              "        \n",
              "  <svg xmlns=\"http://www.w3.org/2000/svg\" height=\"24px\"viewBox=\"0 0 24 24\"\n",
              "       width=\"24px\">\n",
              "    <path d=\"M0 0h24v24H0V0z\" fill=\"none\"/>\n",
              "    <path d=\"M18.56 5.44l.94 2.06.94-2.06 2.06-.94-2.06-.94-.94-2.06-.94 2.06-2.06.94zm-11 1L8.5 8.5l.94-2.06 2.06-.94-2.06-.94L8.5 2.5l-.94 2.06-2.06.94zm10 10l.94 2.06.94-2.06 2.06-.94-2.06-.94-.94-2.06-.94 2.06-2.06.94z\"/><path d=\"M17.41 7.96l-1.37-1.37c-.4-.4-.92-.59-1.43-.59-.52 0-1.04.2-1.43.59L10.3 9.45l-7.72 7.72c-.78.78-.78 2.05 0 2.83L4 21.41c.39.39.9.59 1.41.59.51 0 1.02-.2 1.41-.59l7.78-7.78 2.81-2.81c.8-.78.8-2.07 0-2.86zM5.41 20L4 18.59l7.72-7.72 1.47 1.35L5.41 20z\"/>\n",
              "  </svg>\n",
              "      </button>\n",
              "      \n",
              "  <style>\n",
              "    .colab-df-container {\n",
              "      display:flex;\n",
              "      flex-wrap:wrap;\n",
              "      gap: 12px;\n",
              "    }\n",
              "\n",
              "    .colab-df-convert {\n",
              "      background-color: #E8F0FE;\n",
              "      border: none;\n",
              "      border-radius: 50%;\n",
              "      cursor: pointer;\n",
              "      display: none;\n",
              "      fill: #1967D2;\n",
              "      height: 32px;\n",
              "      padding: 0 0 0 0;\n",
              "      width: 32px;\n",
              "    }\n",
              "\n",
              "    .colab-df-convert:hover {\n",
              "      background-color: #E2EBFA;\n",
              "      box-shadow: 0px 1px 2px rgba(60, 64, 67, 0.3), 0px 1px 3px 1px rgba(60, 64, 67, 0.15);\n",
              "      fill: #174EA6;\n",
              "    }\n",
              "\n",
              "    [theme=dark] .colab-df-convert {\n",
              "      background-color: #3B4455;\n",
              "      fill: #D2E3FC;\n",
              "    }\n",
              "\n",
              "    [theme=dark] .colab-df-convert:hover {\n",
              "      background-color: #434B5C;\n",
              "      box-shadow: 0px 1px 3px 1px rgba(0, 0, 0, 0.15);\n",
              "      filter: drop-shadow(0px 1px 2px rgba(0, 0, 0, 0.3));\n",
              "      fill: #FFFFFF;\n",
              "    }\n",
              "  </style>\n",
              "\n",
              "      <script>\n",
              "        const buttonEl =\n",
              "          document.querySelector('#df-9513c1ef-d3fc-4158-aa04-08d35cae0510 button.colab-df-convert');\n",
              "        buttonEl.style.display =\n",
              "          google.colab.kernel.accessAllowed ? 'block' : 'none';\n",
              "\n",
              "        async function convertToInteractive(key) {\n",
              "          const element = document.querySelector('#df-9513c1ef-d3fc-4158-aa04-08d35cae0510');\n",
              "          const dataTable =\n",
              "            await google.colab.kernel.invokeFunction('convertToInteractive',\n",
              "                                                     [key], {});\n",
              "          if (!dataTable) return;\n",
              "\n",
              "          const docLinkHtml = 'Like what you see? Visit the ' +\n",
              "            '<a target=\"_blank\" href=https://colab.research.google.com/notebooks/data_table.ipynb>data table notebook</a>'\n",
              "            + ' to learn more about interactive tables.';\n",
              "          element.innerHTML = '';\n",
              "          dataTable['output_type'] = 'display_data';\n",
              "          await google.colab.output.renderOutput(dataTable, element);\n",
              "          const docLink = document.createElement('div');\n",
              "          docLink.innerHTML = docLinkHtml;\n",
              "          element.appendChild(docLink);\n",
              "        }\n",
              "      </script>\n",
              "    </div>\n",
              "  </div>\n",
              "  "
            ]
          },
          "metadata": {},
          "execution_count": 28
        }
      ],
      "source": [
        "pd.DataFrame({'Count':d1['Results'].value_counts()}).head(10)"
      ]
    },
    {
      "cell_type": "code",
      "execution_count": null,
      "metadata": {
        "id": "zneLUMAAFncU"
      },
      "outputs": [],
      "source": [
        "#1 - (increased binding protein), 2 -(decreased binding protein), 0 - (negative).\n",
        "# function to transform the labels for a better inrterpretation\n",
        "\n",
        "def cases(label):\n",
        "  if label == 1:\n",
        "    return \"incerased protein\"\n",
        "  elif label == 2:\n",
        "    return \"decreased protein\"\n",
        "  else:\n",
        "    return \"negative\""
      ]
    },
    {
      "cell_type": "code",
      "execution_count": null,
      "metadata": {
        "colab": {
          "base_uri": "https://localhost:8080/",
          "height": 484
        },
        "id": "R_RGNYn-AzZW",
        "outputId": "c92aec29-8d8f-49f0-f6fe-acafa6dee33c"
      },
      "outputs": [
        {
          "output_type": "display_data",
          "data": {
            "text/plain": [
              "<Figure size 864x432 with 1 Axes>"
            ],
            "image/png": "[encoded data removed]"
          },
          "metadata": {}
        }
      ],
      "source": [
        "import seaborn as sns\n",
        "\n",
        "\n",
        "\n",
        "#assign the target feature \n",
        "r = d1.copy()\n",
        "r[\"Results\"] = r[\"Results\"].apply(cases)\n",
        "results = r[\"Results\"]\n",
        "\n",
        "#prepare the plot\n",
        "sns.set_style(\"whitegrid\")\n",
        "plt.figure(figsize=(12,6))\n",
        "plt.hist(results,bins=39)\n",
        "#assign the name to the grath\n",
        "plt.title('Class Distribution')\n",
        "plt.xlabel('Separate cases')\n",
        "plt.ylabel('Count')\n",
        "plt.xticks(rotation=90)\n",
        "\n",
        "plt.show()"
      ]
    },
    {
      "cell_type": "markdown",
      "metadata": {
        "id": "PYyEtP5YEswy"
      },
      "source": [
        "This graph presents that in my dataset I have mostly negative cases, some positive cases of the decreased binding protein and almost no cases of the increased binding protein."
      ]
    },
    {
      "cell_type": "code",
      "execution_count": null,
      "metadata": {
        "colab": {
          "base_uri": "https://localhost:8080/"
        },
        "id": "6NYv-RkTL2Vg",
        "outputId": "4d763c47-b7c4-4d78-cce1-53960d7acb25"
      },
      "outputs": [
        {
          "output_type": "stream",
          "name": "stdout",
          "text": [
            "persentage of patients with increased binding protein is 0.32%\n",
            "persentage of patients with decreased binding protein is 4.43%\n",
            "persentage of patients with negative is 95.25%\n"
          ]
        }
      ],
      "source": [
        "# I will also present the class distribution of the target value using the percentages\n",
        "\n",
        "patients_withpo = len(d1[d1.Results == 1])\n",
        "patients_withper = len(d1[d1.Results == 2])\n",
        "patients_withn = len(d1[d1.Results == 0])\n",
        "print(f\"persentage of patients with increased binding protein is {round(patients_withpo/d1.shape[0]*100,2)}%\")\n",
        "print(f\"persentage of patients with decreased binding protein is {round(patients_withper/d1.shape[0]*100,2)}%\")\n",
        "print(f\"persentage of patients with negative is {round(patients_withn/d1.shape[0]*100,2)}%\")"
      ]
    },
    {
      "cell_type": "markdown",
      "metadata": {
        "id": "zHjJ03k421Z1"
      },
      "source": [
        "## Sex vs Target Value\n",
        "\n",
        "Next I will display the relationship between the target value and the sex of the patient by using seaborn."
      ]
    },
    {
      "cell_type": "code",
      "execution_count": null,
      "metadata": {
        "id": "QeWuNoWhCaZH"
      },
      "outputs": [],
      "source": [
        "\n",
        "#function to transform the labels for a better interpretation\n",
        "from sklearn.metrics.cluster import fowlkes_mallows_score\n",
        "def mF(label):\n",
        "  if label == 0:\n",
        "    return \"Females\"\n",
        "  else:\n",
        "    return \"Males\"\n"
      ]
    },
    {
      "cell_type": "code",
      "execution_count": null,
      "metadata": {
        "colab": {
          "base_uri": "https://localhost:8080/",
          "height": 1000
        },
        "id": "TGOvVynIzqWo",
        "outputId": "619324dd-07e8-467e-ed80-6fe7cde37aff"
      },
      "outputs": [
        {
          "output_type": "stream",
          "name": "stderr",
          "text": [
            "<ipython-input-33-f36580c2c7d6>:9: SettingWithCopyWarning: \n",
            "A value is trying to be set on a copy of a slice from a DataFrame.\n",
            "Try using .loc[row_indexer,col_indexer] = value instead\n",
            "\n",
            "See the caveats in the documentation: https://pandas.pydata.org/pandas-docs/stable/user_guide/indexing.html#returning-a-view-versus-a-copy\n",
            "  ds[\"sex\"] = ds[\"sex\"].apply(mF)\n",
            "<ipython-input-33-f36580c2c7d6>:12: SettingWithCopyWarning: \n",
            "A value is trying to be set on a copy of a slice from a DataFrame.\n",
            "Try using .loc[row_indexer,col_indexer] = value instead\n",
            "\n",
            "See the caveats in the documentation: https://pandas.pydata.org/pandas-docs/stable/user_guide/indexing.html#returning-a-view-versus-a-copy\n",
            "  ds2[\"sex\"] = ds2[\"sex\"].apply(mF)\n"
          ]
        },
        {
          "output_type": "display_data",
          "data": {
            "text/plain": [
              "<Figure size 648x504 with 1 Axes>"
            ],
            "image/png": "[encoded data removed]"
          },
          "metadata": {}
        },
        {
          "output_type": "display_data",
          "data": {
            "text/plain": [
              "<Figure size 648x504 with 1 Axes>"
            ],
            "image/png": "[encoded data removed]"
          },
          "metadata": {}
        }
      ],
      "source": [
        "import seaborn as sns\n",
        "#to display how many man are affected by the desease \n",
        "ds = d1[d1[\"sex\"] == 1]\n",
        "\n",
        "#to display how many weamen are affected by the desease \n",
        "ds2 = d1[d1[\"sex\"] == 0]\n",
        "\n",
        "\n",
        "ds[\"sex\"] = ds[\"sex\"].apply(mF)\n",
        "\n",
        "\n",
        "ds2[\"sex\"] = ds2[\"sex\"].apply(mF)\n",
        "\n",
        "\n",
        "\n",
        "\n",
        "\n",
        "\n",
        "\n",
        "\n",
        "\n",
        "sns.set(rc={\"figure.figsize\":(9,7)})\n",
        "\n",
        "\n",
        "sns.countplot(data = ds, x = \"sex\", hue=\"Results\")\n",
        "\n",
        "plt.title(\"Males v/s Results\")\n",
        "plt.show()\n",
        "sns.set(rc={\"figure.figsize\":(9,7)})\n",
        "\n",
        "\n",
        "sns.countplot(data = ds2, x = \"sex\", hue=\"Results\")\n",
        "\n",
        "plt.title(\"Females v/s Results\")\n",
        "plt.show()"
      ]
    },
    {
      "cell_type": "markdown",
      "metadata": {
        "id": "XZnDRa953iFe"
      },
      "source": [
        "Even though that there are more female than male patients in the dataset its still difficult to draw any significant conclusions due to the imbalanced nature of the data. But keeping in mind that there are twice as many female patients than males it can be concluded that the females and males are almost equally affected by this disease."
      ]
    },
    {
      "cell_type": "code",
      "execution_count": null,
      "metadata": {
        "id": "fihmg_Y5SSp-"
      },
      "outputs": [],
      "source": [
        "\n"
      ]
    },
    {
      "cell_type": "markdown",
      "metadata": {
        "id": "nPHE6Timi54Y"
      },
      "source": [
        "# Preparing the data\n",
        "\n",
        "Now I will split the data into the x and y label to get it ready for the model training.\n"
      ]
    },
    {
      "cell_type": "code",
      "execution_count": null,
      "metadata": {
        "colab": {
          "base_uri": "https://localhost:8080/"
        },
        "id": "xaURTFsk0KSF",
        "outputId": "36edac5e-c633-4e39-ec57-95f00e16875d"
      },
      "outputs": [
        {
          "output_type": "stream",
          "name": "stdout",
          "text": [
            "<class 'pandas.core.frame.DataFrame'>\n",
            "<class 'pandas.core.series.Series'>\n"
          ]
        }
      ],
      "source": [
        "#declaring the x and y variables\n",
        "x = d1.drop(\"Results\", axis = 1)\n",
        "y = d1[\"Results\"]\n",
        "\n",
        "\n",
        "print(type(x))\n",
        "print(type(y))\n",
        "\n"
      ]
    },
    {
      "cell_type": "markdown",
      "metadata": {
        "id": "ye__cNCgNwH0"
      },
      "source": [
        "## Dealing with undersampled data with SMOTE\n",
        "In this section I will deal with the datasets' imbalance by fully oversampling the data, I will increase minority classes to equal majority class cases’ amounts and assign them to a separate variable which will be used to train a model separately."
      ]
    },
    {
      "cell_type": "code",
      "execution_count": null,
      "metadata": {
        "colab": {
          "base_uri": "https://localhost:8080/"
        },
        "id": "4jCtKAJJnvdS",
        "outputId": "8271023c-c79a-4085-fcd4-e47872ee66a9"
      },
      "outputs": [
        {
          "output_type": "execute_result",
          "data": {
            "text/plain": [
              "0    2667\n",
              "2    2667\n",
              "1    2667\n",
              "Name: Results, dtype: int64"
            ]
          },
          "metadata": {},
          "execution_count": 35
        }
      ],
      "source": [
        "# import library\n",
        "from imblearn.over_sampling import SMOTE\n",
        "\n",
        "smote = SMOTE()\n",
        "\n",
        "# fit predictor and target variable\n",
        "x_smote, y_smote = smote.fit_resample(x, y)\n",
        "y_smote.value_counts()"
      ]
    },
    {
      "cell_type": "markdown",
      "metadata": {
        "id": "DZGBG49-js_1"
      },
      "source": [
        "The data now is balanced but widely superficial, before I split and fit the data I will create more oversampled cases to assess the impact that the oversampling has. "
      ]
    },
    {
      "cell_type": "markdown",
      "metadata": {
        "id": "Yd8K0CJePFRj"
      },
      "source": [
        "## Undersampling with NearMiss and then oversampling with Smote\n",
        "\n",
        "In order to assess how oversampling affects models' performance I will create more cases. I will first undersample the majority class with Near Miss and then oversample the minority classes with SMOTE."
      ]
    },
    {
      "cell_type": "code",
      "execution_count": null,
      "metadata": {
        "colab": {
          "base_uri": "https://localhost:8080/"
        },
        "id": "Q2c2wS-rn_UM",
        "outputId": "e76c4a24-a26d-49dd-b53d-de5e2f0ebd10"
      },
      "outputs": [
        {
          "output_type": "stream",
          "name": "stderr",
          "text": [
            "/usr/local/lib/python3.8/dist-packages/imblearn/utils/_validation.py:587: FutureWarning: Pass sampling_strategy={0: 500} as keyword args. From version 0.9 passing these as positional arguments will result in an error\n",
            "  warnings.warn(\n"
          ]
        },
        {
          "output_type": "execute_result",
          "data": {
            "text/plain": [
              "0    500\n",
              "2    124\n",
              "1      9\n",
              "Name: Results, dtype: int64"
            ]
          },
          "metadata": {},
          "execution_count": 36
        }
      ],
      "source": [
        "from imblearn.under_sampling import NearMiss\n",
        "\n",
        "#I will undersample the majority class to the 100 cases from 2800 \n",
        "nm = NearMiss({0:500})\n",
        "x_res, y_res = nm.fit_resample(x, y)\n",
        "\n",
        "\n",
        "y_res.value_counts()\n",
        "\n"
      ]
    },
    {
      "cell_type": "code",
      "execution_count": null,
      "metadata": {
        "colab": {
          "base_uri": "https://localhost:8080/"
        },
        "id": "e-fn7yGvpU9n",
        "outputId": "ae0f6450-b346-4e60-8330-f45cc2b5aad6"
      },
      "outputs": [
        {
          "output_type": "execute_result",
          "data": {
            "text/plain": [
              "0    500\n",
              "1    500\n",
              "2    500\n",
              "Name: Results, dtype: int64"
            ]
          },
          "metadata": {},
          "execution_count": 37
        }
      ],
      "source": [
        "#then i will oversample the minority cases to match the undersampled majority class\n",
        "\n",
        "x_resU, y_resU = smote.fit_resample(x_res, y_res)\n",
        "y_resU.value_counts()"
      ]
    },
    {
      "cell_type": "markdown",
      "metadata": {
        "id": "_mnZuiVKQMKt"
      },
      "source": [
        "# Splitting the data and training the models\n",
        "\n",
        "Here I will split the data of each case and  train different models, I will create three models, Logistic Regression, Decision Tree, and Random forest. I will assess the performance of each model in the evaluation section."
      ]
    },
    {
      "cell_type": "markdown",
      "metadata": {
        "id": "I9U6N7d7e3rl"
      },
      "source": [
        "##Models that use the No oversampling, splitting and fitting\n",
        "Here I will fit the data without any kind of data altering techniques. "
      ]
    },
    {
      "cell_type": "markdown",
      "metadata": {
        "id": "z4UrIqrVxRKx"
      },
      "source": [
        "### Spliting the data\n",
        "Due to the extreme class unbalanced data I will do the train test split  0.5. To make sure that all the classes of the target value are present in both training and testing sets."
      ]
    },
    {
      "cell_type": "code",
      "execution_count": null,
      "metadata": {
        "id": "LoHOdtLsfbCd"
      },
      "outputs": [],
      "source": [
        "#next i am splitting the data into the training and testing sets\n",
        "\n",
        "from matplotlib import axis\n",
        "from sklearn.model_selection import train_test_split\n",
        "x_trainN, x_testN, y_trainN, y_testN = train_test_split( x, y,test_size = 0.5, random_state = 0)"
      ]
    },
    {
      "cell_type": "markdown",
      "metadata": {
        "id": "UrjGqZYNg3aP"
      },
      "source": [
        "### Data Normalisation\n",
        "Since some of the data is greater then one it is a good idea to normalise the data to deal with the noise. And to improove the overall data quality."
      ]
    },
    {
      "cell_type": "code",
      "execution_count": null,
      "metadata": {
        "id": "rLK0ep1hfXdk"
      },
      "outputs": [],
      "source": [
        "#normalising the data by using klearn preproscessing normalize function\n",
        "from sklearn import preprocessing\n",
        "x_trainN = preprocessing.normalize(x_trainN)\n",
        "x_testN = preprocessing.normalize(x_testN)\n"
      ]
    },
    {
      "cell_type": "markdown",
      "metadata": {
        "id": "qp_siZitjliB"
      },
      "source": [
        "### Creating the model"
      ]
    },
    {
      "cell_type": "code",
      "execution_count": null,
      "metadata": {
        "id": "7zU2OepcfXdl"
      },
      "outputs": [],
      "source": [
        "from sklearn.linear_model import LogisticRegression\n",
        "from sklearn.tree import DecisionTreeClassifier\n",
        "from sklearn.ensemble import RandomForestClassifier\n",
        "from sklearn.metrics import roc_curve, roc_auc_score\n",
        "\n",
        "#creating models\n",
        "cl1N = LogisticRegression(solver='lbfgs',max_iter=2000,class_weight='balanced')\n",
        "cl2N = DecisionTreeClassifier(random_state = 15)\n",
        "cl3N = RandomForestClassifier(n_estimators=500,random_state=15)\n"
      ]
    },
    {
      "cell_type": "markdown",
      "metadata": {
        "id": "5Pnc-U4Djyrr"
      },
      "source": [
        "### Fitting the data"
      ]
    },
    {
      "cell_type": "code",
      "execution_count": null,
      "metadata": {
        "id": "bgOyzDXse3Q1"
      },
      "outputs": [],
      "source": [
        "#Training models\n",
        "logN = cl1N.fit(x_trainN, y_trainN)\n",
        "decN = cl2N.fit(x_trainN, y_trainN)\n",
        "forsN = cl3N.fit(x_trainN, y_trainN)"
      ]
    },
    {
      "cell_type": "markdown",
      "metadata": {
        "id": "iBFT8KyQ-gfd"
      },
      "source": [
        "The evaluation of the models will happen in the evaluation section, this would make it easyer to see the differences in the precision."
      ]
    },
    {
      "cell_type": "markdown",
      "metadata": {
        "id": "U6uUg9EFd2kp"
      },
      "source": [
        "## Models that use the Smote full oversampled data\n",
        "Here I use the fully oversampled data to train the model, because the data is balanced I  will create the testing set of 30%. \n"
      ]
    },
    {
      "cell_type": "markdown",
      "metadata": {
        "id": "rqYPupRow_Ob"
      },
      "source": [
        "### Splitting the data"
      ]
    },
    {
      "cell_type": "code",
      "execution_count": null,
      "metadata": {
        "id": "hj2Y3GMq02_d"
      },
      "outputs": [],
      "source": [
        "#splitting the data into the training and testing sets\n",
        "\n",
        "from matplotlib import axis\n",
        "from sklearn.model_selection import train_test_split\n",
        "x_train, x_test, y_train, y_test = train_test_split(x_smote,y_smote,test_size = 0.3, random_state = 0)"
      ]
    },
    {
      "cell_type": "markdown",
      "metadata": {
        "id": "wfuO7RfWd_y1"
      },
      "source": [
        "### Data Normalisation\n"
      ]
    },
    {
      "cell_type": "code",
      "execution_count": null,
      "metadata": {
        "id": "1YoUA25q1ZDW"
      },
      "outputs": [],
      "source": [
        "from sklearn import preprocessing\n",
        "#normalizing the data\n",
        "x_train = preprocessing.normalize(x_train)\n",
        "x_test = preprocessing.normalize(x_test)\n"
      ]
    },
    {
      "cell_type": "markdown",
      "metadata": {
        "id": "VcK5wCgy55x8"
      },
      "source": [
        "### Creating the models"
      ]
    },
    {
      "cell_type": "code",
      "execution_count": null,
      "metadata": {
        "id": "f94StpaIj9vg"
      },
      "outputs": [],
      "source": [
        "from sklearn.linear_model import LogisticRegression\n",
        "from sklearn.tree import DecisionTreeClassifier\n",
        "from sklearn.ensemble import RandomForestClassifier\n",
        "from sklearn.metrics import roc_curve, roc_auc_score\n",
        "\n",
        "#creating the models\n",
        "cl1 = LogisticRegression(solver='lbfgs',max_iter=4000,class_weight='balanced')\n",
        "cl2 = DecisionTreeClassifier(random_state = 15)\n",
        "cl3 = RandomForestClassifier(n_estimators=500,random_state=15)\n"
      ]
    },
    {
      "cell_type": "markdown",
      "metadata": {
        "id": "kT0nv97YlAqG"
      },
      "source": [
        "### Fitting the data"
      ]
    },
    {
      "cell_type": "code",
      "execution_count": null,
      "metadata": {
        "id": "wFkZILEb_KE7"
      },
      "outputs": [],
      "source": [
        "#training the models\n",
        "log = cl1.fit(x_train, y_train)\n",
        "dec = cl2.fit(x_train, y_train)\n",
        "fors = cl3.fit(x_train, y_train)\n",
        "\n",
        "# all the evaluation will happen in the evaluation section for easyer model assessment\n"
      ]
    },
    {
      "cell_type": "markdown",
      "metadata": {
        "id": "nkmr4pcMn5ec"
      },
      "source": [
        "## **Undersampling with NearMiss and then resampling with Smote**\n",
        "\n",
        "Here I will split the data that I first under sampled and then oversampled and use it to train the models.\n"
      ]
    },
    {
      "cell_type": "markdown",
      "metadata": {
        "id": "NPzG5HP_xFes"
      },
      "source": [
        "### Splitting the data"
      ]
    },
    {
      "cell_type": "code",
      "execution_count": null,
      "metadata": {
        "id": "JaqR3CEIp7pO"
      },
      "outputs": [],
      "source": [
        "#next i am splitting the data into the training and testing sets\n",
        "\n",
        "from matplotlib import axis\n",
        "from sklearn.model_selection import train_test_split\n",
        "x_train1, x_test1, y_train1, y_test1 = train_test_split(x_resU,y_resU,test_size = 0.3, random_state = 0)"
      ]
    },
    {
      "cell_type": "markdown",
      "metadata": {
        "id": "KqMs1Mbsl2PS"
      },
      "source": [
        "### Data Normalisation\n"
      ]
    },
    {
      "cell_type": "code",
      "execution_count": null,
      "metadata": {
        "id": "3OV_TpEsl--6"
      },
      "outputs": [],
      "source": [
        "from sklearn import preprocessing\n",
        "#normalizing the data \n",
        "x_train1 = preprocessing.normalize(x_train1)\n",
        "x_test1 = preprocessing.normalize(x_test1)\n"
      ]
    },
    {
      "cell_type": "markdown",
      "metadata": {
        "id": "NfNs6c2Rl2PT"
      },
      "source": [
        "### Creating the models"
      ]
    },
    {
      "cell_type": "code",
      "execution_count": null,
      "metadata": {
        "id": "jnPPNBom_acP"
      },
      "outputs": [],
      "source": [
        "\n",
        "#creating the models\n",
        "cl4 = LogisticRegression(solver='lbfgs',max_iter=4000,class_weight='balanced')\n",
        "cl5 = DecisionTreeClassifier(random_state = 15)\n",
        "cl6 = RandomForestClassifier(n_estimators=500,random_state=15)"
      ]
    },
    {
      "cell_type": "markdown",
      "metadata": {
        "id": "lPIJA-jTl2PT"
      },
      "source": [
        "### Fitting the data"
      ]
    },
    {
      "cell_type": "code",
      "execution_count": null,
      "metadata": {
        "id": "ka_j0_N6pqwe"
      },
      "outputs": [],
      "source": [
        "#training the models\n",
        "log1 = cl4.fit(x_train1, y_train1)\n",
        "dec1 = cl5.fit(x_train1, y_train1)\n",
        "fors1 = cl6.fit(x_train1, y_train1)\n"
      ]
    },
    {
      "cell_type": "markdown",
      "metadata": {
        "id": "H97cfdNdiTgc"
      },
      "source": [
        "# **Evaluation of all models**\n",
        "In this section I will evaluate the performance of models in each section, I will use the gathered feedback to decide which model to use for the solution."
      ]
    },
    {
      "cell_type": "code",
      "execution_count": null,
      "metadata": {
        "id": "bQn3aN4i2Wxf"
      },
      "outputs": [],
      "source": [
        "\n",
        "#i will use this function to assign values to the correct prediction part of the dictionaries i will create\n",
        "#this function will check the dictionary vlues compare and them \n",
        "def myFunc(x,y):\n",
        "  if x == y:\n",
        "    return 1\n",
        "  else:\n",
        "    return 0"
      ]
    },
    {
      "cell_type": "markdown",
      "metadata": {
        "id": "xa4ShqlOnksK"
      },
      "source": [
        "## Evaluation of the model that uses non resampled data"
      ]
    },
    {
      "cell_type": "markdown",
      "metadata": {
        "id": "nuWtuFDOBQsB"
      },
      "source": [
        "The non-resampled dataset had to be split 50% to ensure the presence of all classes of the target variables in both sections of the split. Here I will display the value counts of each set."
      ]
    },
    {
      "cell_type": "code",
      "execution_count": null,
      "metadata": {
        "colab": {
          "base_uri": "https://localhost:8080/"
        },
        "id": "HAKVhiA8u3uU",
        "outputId": "bbfd5957-97d7-477b-b04b-909bdf3ad523"
      },
      "outputs": [
        {
          "output_type": "execute_result",
          "data": {
            "text/plain": [
              "0    1331\n",
              "2      61\n",
              "1       8\n",
              "Name: Results, dtype: int64"
            ]
          },
          "metadata": {},
          "execution_count": 51
        }
      ],
      "source": [
        "\n",
        "\n",
        "y_trainN.value_counts()"
      ]
    },
    {
      "cell_type": "code",
      "execution_count": null,
      "metadata": {
        "colab": {
          "base_uri": "https://localhost:8080/"
        },
        "id": "ix-Tv9jjuswh",
        "outputId": "f1f18e48-619d-41d7-a0d3-b00ba75cc703"
      },
      "outputs": [
        {
          "output_type": "execute_result",
          "data": {
            "text/plain": [
              "0    1336\n",
              "2      63\n",
              "1       1\n",
              "Name: Results, dtype: int64"
            ]
          },
          "metadata": {},
          "execution_count": 52
        }
      ],
      "source": [
        "\n",
        "y_testN.value_counts()"
      ]
    },
    {
      "cell_type": "markdown",
      "metadata": {
        "id": "NLc0iUAKB2GC"
      },
      "source": [
        "The problem of the imbalance in this dataset is severe, as can be seen the testing dataset has only one instance of the first class."
      ]
    },
    {
      "cell_type": "code",
      "execution_count": null,
      "metadata": {
        "id": "3UgPCnCUn6Ms"
      },
      "outputs": [],
      "source": [
        "#predicting the data by using the testing x data \n",
        "\n",
        "ypred_lN = logN.predict(x_testN)\n",
        "ypred_dN = decN.predict(x_testN)\n",
        "ypred_fN = forsN.predict(x_testN)\n",
        "actN = y_testN\n",
        "#assigning variables to the separate dictionaries\n",
        "dnL = {\"Actual\":actN,\"Prediction\":ypred_lN, \"correct\":0}\n",
        "dnd = {\"Actual\":actN,\"Prediction\":ypred_dN, \"correct\":0}\n",
        "dnf = {\"Actual\":actN,\"Prediction\":ypred_fN, \"correct\":0}\n",
        "#transforming the format of the dictionaries into datasets \n",
        "dnl = pd.DataFrame(dnL)\n",
        "dnd = pd.DataFrame(dnd)\n",
        "dnf = pd.DataFrame(dnf)"
      ]
    },
    {
      "cell_type": "code",
      "execution_count": null,
      "metadata": {
        "id": "KE0Q93cfn6Mt"
      },
      "outputs": [],
      "source": [
        "#applying the myFunc to the results datasets to assess the accuracy\n",
        "dnl[\"correct\"] = dnl.apply(lambda x: myFunc(x.Actual, x.Prediction), axis = 1)\n",
        "dnd[\"correct\"] = dnd.apply(lambda x: myFunc(x.Actual, x.Prediction), axis = 1)\n",
        "dnf[\"correct\"] = dnf.apply(lambda x: myFunc(x.Actual, x.Prediction), axis = 1)"
      ]
    },
    {
      "cell_type": "code",
      "execution_count": null,
      "metadata": {
        "colab": {
          "base_uri": "https://localhost:8080/"
        },
        "id": "Ev3jTnsqn6Mt",
        "outputId": "6143d102-f4f0-4062-cd4a-7a79eb5c658d"
      },
      "outputs": [
        {
          "output_type": "stream",
          "name": "stdout",
          "text": [
            "The Logistic Expression model accuracy on non resampled testing set is0.84\n",
            "The Decision Tree Classifier model accuracy on non resampled testing set is0.95\n",
            "The Random Forest Classifier model accuracy on testing non resampled testing set is0.97\n"
          ]
        }
      ],
      "source": [
        "from sklearn.metrics import accuracy_score\n",
        "#using accuracy  score to assess the accuracy of the dataset\n",
        "print(f\"The Logistic Expression model accuracy on non resampled testing set is{round(accuracy_score(y_testN, ypred_lN),2)}\")\n",
        "print(f\"The Decision Tree Classifier model accuracy on non resampled testing set is{round(accuracy_score(y_testN, ypred_dN),2)}\")\n",
        "print(f\"The Random Forest Classifier model accuracy on testing non resampled testing set is{round(accuracy_score(y_testN, ypred_fN),2)}\")"
      ]
    },
    {
      "cell_type": "markdown",
      "metadata": {
        "id": "sZCRc1VXEqYU"
      },
      "source": [
        "All the models seem to have high levels of accuracy the Random forest seems to be the highest."
      ]
    },
    {
      "cell_type": "code",
      "execution_count": null,
      "metadata": {
        "colab": {
          "base_uri": "https://localhost:8080/"
        },
        "id": "WqUAezgvn6Mt",
        "outputId": "92322c58-0dd7-451c-afe1-de0c6578e4db"
      },
      "outputs": [
        {
          "output_type": "stream",
          "name": "stdout",
          "text": [
            "logistic reg              precision    recall  f1-score   support\n",
            "\n",
            "           0       0.99      0.84      0.91      1336\n",
            "           1       0.01      1.00      0.03         1\n",
            "           2       0.27      0.87      0.41        63\n",
            "\n",
            "    accuracy                           0.84      1400\n",
            "   macro avg       0.43      0.90      0.45      1400\n",
            "weighted avg       0.96      0.84      0.89      1400\n",
            "\n",
            "decision treeg              precision    recall  f1-score   support\n",
            "\n",
            "           0       0.98      0.96      0.97      1336\n",
            "           1       0.00      0.00      0.00         1\n",
            "           2       0.50      0.59      0.54        63\n",
            "\n",
            "    accuracy                           0.95      1400\n",
            "   macro avg       0.49      0.52      0.50      1400\n",
            "weighted avg       0.96      0.95      0.95      1400\n",
            "\n",
            "random forest              precision    recall  f1-score   support\n",
            "\n",
            "           0       0.97      0.99      0.98      1336\n",
            "           1       0.00      0.00      0.00         1\n",
            "           2       0.74      0.46      0.57        63\n",
            "\n",
            "    accuracy                           0.97      1400\n",
            "   macro avg       0.57      0.48      0.52      1400\n",
            "weighted avg       0.96      0.97      0.96      1400\n",
            "\n"
          ]
        },
        {
          "output_type": "stream",
          "name": "stderr",
          "text": [
            "/usr/local/lib/python3.8/dist-packages/sklearn/metrics/_classification.py:1318: UndefinedMetricWarning: Precision and F-score are ill-defined and being set to 0.0 in labels with no predicted samples. Use `zero_division` parameter to control this behavior.\n",
            "  _warn_prf(average, modifier, msg_start, len(result))\n",
            "/usr/local/lib/python3.8/dist-packages/sklearn/metrics/_classification.py:1318: UndefinedMetricWarning: Precision and F-score are ill-defined and being set to 0.0 in labels with no predicted samples. Use `zero_division` parameter to control this behavior.\n",
            "  _warn_prf(average, modifier, msg_start, len(result))\n",
            "/usr/local/lib/python3.8/dist-packages/sklearn/metrics/_classification.py:1318: UndefinedMetricWarning: Precision and F-score are ill-defined and being set to 0.0 in labels with no predicted samples. Use `zero_division` parameter to control this behavior.\n",
            "  _warn_prf(average, modifier, msg_start, len(result))\n"
          ]
        }
      ],
      "source": [
        "from sklearn.metrics import classification_report\n",
        "#using sklearn to find out the precision, f1 and recall\n",
        "print(f\"logistic reg{classification_report(y_testN, ypred_lN)}\")\n",
        "print(f\"decision treeg{classification_report(y_testN, ypred_dN)}\")\n",
        "print(f\"random forest{classification_report(y_testN, ypred_fN)}\")\n"
      ]
    },
    {
      "cell_type": "markdown",
      "metadata": {
        "id": "73YXyx_pDixx"
      },
      "source": [
        "From the data above it can be seen that only Logistic regression was able to predict the one instance of the first class, even though the overall accuracy is high the precision and recall of the first- and second-class prediction is very low in all models."
      ]
    },
    {
      "cell_type": "code",
      "execution_count": null,
      "metadata": {
        "colab": {
          "base_uri": "https://localhost:8080/"
        },
        "id": "pvnO5KsNn6Mt",
        "outputId": "068b01c7-e54d-403b-b653-87e8feb4d8ea"
      },
      "outputs": [
        {
          "output_type": "stream",
          "name": "stdout",
          "text": [
            "conf for L[[1118   70  148]\n",
            " [   0    1    0]\n",
            " [   8    0   55]]\n",
            "conf for d[[1289   10   37]\n",
            " [   1    0    0]\n",
            " [  26    0   37]]\n",
            "conf for f[[1326    0   10]\n",
            " [   1    0    0]\n",
            " [  34    0   29]]\n"
          ]
        }
      ],
      "source": [
        "from sklearn.metrics import confusion_matrix\n",
        "print(f\"conf for L{confusion_matrix(y_testN, ypred_lN)}\")\n",
        "print(f\"conf for d{confusion_matrix(y_testN, ypred_dN)}\")\n",
        "print(f\"conf for f{confusion_matrix(y_testN, ypred_fN)}\")"
      ]
    },
    {
      "cell_type": "code",
      "execution_count": null,
      "metadata": {
        "colab": {
          "base_uri": "https://localhost:8080/",
          "height": 431
        },
        "id": "FA_Hy2qTn6Mt",
        "outputId": "be95dd4f-82e7-46f7-fd9b-430c32519f9e"
      },
      "outputs": [
        {
          "output_type": "display_data",
          "data": {
            "text/plain": [
              "<Figure size 648x504 with 2 Axes>"
            ],
            "image/png": "[encoded data removed]"
          },
          "metadata": {}
        }
      ],
      "source": [
        "import seaborn as sns\n",
        "#logistic regression confusion matrix\n",
        "ax1 = sns.heatmap(confusion_matrix(y_testN, ypred_lN), annot = True, fmt = \"d\")\n",
        "\n"
      ]
    },
    {
      "cell_type": "markdown",
      "metadata": {
        "id": "vt9KNS4cG4te"
      },
      "source": [
        "Logistic regression has: 1118 of true negative predictions, 70 false positive predictions for the first class, and 148 false positive predictions second class. \n",
        "1 of true positive predictions first class, 0 false negatives, and 0 false positives   for second class.\n",
        "\n",
        "55 of true positive predictions for the second class, 8 false negatives, and 0 false positives for 2 class."
      ]
    },
    {
      "cell_type": "code",
      "execution_count": null,
      "metadata": {
        "colab": {
          "base_uri": "https://localhost:8080/",
          "height": 431
        },
        "id": "DRHUmcRVn6Mt",
        "outputId": "cbf87f1e-6428-467d-8159-9768f3a9315a"
      },
      "outputs": [
        {
          "output_type": "display_data",
          "data": {
            "text/plain": [
              "<Figure size 648x504 with 2 Axes>"
            ],
            "image/png": "[encoded data removed]"
          },
          "metadata": {}
        }
      ],
      "source": [
        "#dec tree confusion matrix\n",
        "\n",
        "ax2 = sns.heatmap(confusion_matrix(y_testN, ypred_dN), annot = True, fmt = \"d\")"
      ]
    },
    {
      "cell_type": "markdown",
      "metadata": {
        "id": "Jw29gGneRlTw"
      },
      "source": [
        "Decision tree has \n",
        "\n",
        "1289 true negatives, 10 false positives 1st class, 37 false positives 2nd class,\n",
        "0 of true positive predictions 1st class, 1 false negative, and 0 false positives for 2nd class.\n",
        "\n",
        "37 of true positives 2nd class, 26 false negatives, and 0 false positives for 1st class.\n",
        "\n",
        "\n"
      ]
    },
    {
      "cell_type": "code",
      "execution_count": null,
      "metadata": {
        "colab": {
          "base_uri": "https://localhost:8080/",
          "height": 431
        },
        "id": "M3n5NXPLn6Mt",
        "outputId": "627bf9dc-5a51-4899-9702-7a4ab668cc4f"
      },
      "outputs": [
        {
          "output_type": "display_data",
          "data": {
            "text/plain": [
              "<Figure size 648x504 with 2 Axes>"
            ],
            "image/png": "[encoded data removed]"
          },
          "metadata": {}
        }
      ],
      "source": [
        "#forest confusion matrix\n",
        "ax3 = sns.heatmap(confusion_matrix(y_testN, ypred_fN), annot = True, fmt = \"d\")"
      ]
    },
    {
      "cell_type": "markdown",
      "metadata": {
        "id": "9nVE6B6ZSzbH"
      },
      "source": [
        "Random Forest has: \n",
        "\n",
        "1326 true negatives, 0 false positives 1st class, 10 false positives 2nd class\n",
        "0 of true positive predictions 1st class, 1 false negatives, and 0 false positives for 2nd class.\n",
        "\n",
        "29 of true positives 2nd class, 34 false negatives, and 0 false positives for 1st class."
      ]
    },
    {
      "cell_type": "markdown",
      "metadata": {
        "id": "fCVBzRm0j6ti"
      },
      "source": [
        "Without splitting the data I would say that Logistic Regression has best performance being able to predict the only positive case of the first class it shows some promise, out of this case I will proceed with testing of this model on the separate dataset. "
      ]
    },
    {
      "cell_type": "markdown",
      "metadata": {
        "id": "IQ5ki2ycla5d"
      },
      "source": [
        "## Evaluation NearMiss then Smote Resampling\n",
        "Here I will evaluate the models that were trained with SMOTE and NearMiss resampled data."
      ]
    },
    {
      "cell_type": "code",
      "execution_count": null,
      "metadata": {
        "id": "NABEClm2pqwi"
      },
      "outputs": [],
      "source": [
        "#creating the prediction variables for each model\n",
        "\n",
        "ypred_l = log1.predict(x_test1)\n",
        "ypred_d = dec1.predict(x_test1)\n",
        "ypred_f = fors1.predict(x_test1)\n",
        "\n",
        "\n",
        "act1 = y_test1\n",
        "dicL = {\"Actual\":act1,\"Prediction\":ypred_l, \"correct\":0}\n",
        "dicd = {\"Actual\":act1,\"Prediction\":ypred_d, \"correct\":0}\n",
        "dicf = {\"Actual\":act1,\"Prediction\":ypred_f, \"correct\":0}\n",
        "dl = pd.DataFrame(dicL)\n",
        "dd = pd.DataFrame(dicd)\n",
        "df = pd.DataFrame(dicf)"
      ]
    },
    {
      "cell_type": "code",
      "execution_count": null,
      "metadata": {
        "id": "axFnzGMWpqwj"
      },
      "outputs": [],
      "source": [
        "\n",
        "dl[\"correct\"] = dl.apply(lambda x: myFunc(x.Actual, x.Prediction), axis = 1)\n",
        "dd[\"correct\"] = dl.apply(lambda x: myFunc(x.Actual, x.Prediction), axis = 1)\n",
        "df[\"correct\"] = dl.apply(lambda x: myFunc(x.Actual, x.Prediction), axis = 1)"
      ]
    },
    {
      "cell_type": "code",
      "execution_count": null,
      "metadata": {
        "colab": {
          "base_uri": "https://localhost:8080/"
        },
        "id": "ygflUUIlpqwj",
        "outputId": "91e7e8c4-c27a-4c2c-f515-7a1d160cb012"
      },
      "outputs": [
        {
          "output_type": "stream",
          "name": "stdout",
          "text": [
            "The Logistic Expression model accuracy on Smote and NearMiss resampled testing set is0.94\n",
            "The Decision Tree Classifier model accuracy on Smote and NearMiss resampled testing set is0.97\n",
            "The Random Forest Classifier model accuracy on testing Smote and NearMiss resampled set is0.97\n"
          ]
        }
      ],
      "source": [
        "#accuracy score for each model in this section\n",
        "from sklearn.metrics import accuracy_score\n",
        "print(f\"The Logistic Expression model accuracy on Smote and NearMiss resampled testing set is{round(accuracy_score(y_test1, ypred_l),2)}\")\n",
        "print(f\"The Decision Tree Classifier model accuracy on Smote and NearMiss resampled testing set is{round(accuracy_score(y_test1, ypred_d),2)}\")\n",
        "print(f\"The Random Forest Classifier model accuracy on testing Smote and NearMiss resampled set is{round(accuracy_score(y_test1, ypred_f),2)}\")"
      ]
    },
    {
      "cell_type": "markdown",
      "source": [
        "With near miss and smote resampling there is a noticeable increase in the model accuracy as shown by the function above. But I need to see the precision, recall and f1 scores to assess them fully. "
      ],
      "metadata": {
        "id": "ezEK3ClRmlth"
      }
    },
    {
      "cell_type": "code",
      "execution_count": null,
      "metadata": {
        "colab": {
          "base_uri": "https://localhost:8080/"
        },
        "id": "dXmF-eEFpqwj",
        "outputId": "8c95253e-2144-4e7b-c4b7-0ed4dd430388"
      },
      "outputs": [
        {
          "output_type": "stream",
          "name": "stdout",
          "text": [
            "logistic reg              precision    recall  f1-score   support\n",
            "\n",
            "           0       0.94      0.87      0.90       146\n",
            "           1       0.92      1.00      0.96       142\n",
            "           2       0.96      0.95      0.96       162\n",
            "\n",
            "    accuracy                           0.94       450\n",
            "   macro avg       0.94      0.94      0.94       450\n",
            "weighted avg       0.94      0.94      0.94       450\n",
            "\n",
            "decision trees              precision    recall  f1-score   support\n",
            "\n",
            "           0       0.96      0.96      0.96       146\n",
            "           1       0.97      0.98      0.98       142\n",
            "           2       0.99      0.98      0.98       162\n",
            "\n",
            "    accuracy                           0.97       450\n",
            "   macro avg       0.97      0.97      0.97       450\n",
            "weighted avg       0.97      0.97      0.97       450\n",
            "\n",
            "random forest              precision    recall  f1-score   support\n",
            "\n",
            "           0       0.94      0.96      0.95       146\n",
            "           1       0.96      0.97      0.97       142\n",
            "           2       1.00      0.97      0.98       162\n",
            "\n",
            "    accuracy                           0.97       450\n",
            "   macro avg       0.97      0.97      0.97       450\n",
            "weighted avg       0.97      0.97      0.97       450\n",
            "\n"
          ]
        }
      ],
      "source": [
        "from sklearn.metrics import classification_report\n",
        "#classificatio report to see the precision, f1-score and recall\n",
        "print(f\"logistic reg{classification_report(y_test1, ypred_l)}\")\n",
        "print(f\"decision trees{classification_report(y_test1, ypred_d)}\")\n",
        "print(f\"random forest{classification_report(y_test1, ypred_f)}\")\n"
      ]
    },
    {
      "cell_type": "markdown",
      "metadata": {
        "id": "3J7ab-lMmLTM"
      },
      "source": [
        "With the partial under and oversampling the models seem to behave a lot better with the precision scores towards 100 %"
      ]
    },
    {
      "cell_type": "code",
      "execution_count": null,
      "metadata": {
        "colab": {
          "base_uri": "https://localhost:8080/"
        },
        "id": "v-QP5wGDpqwj",
        "outputId": "3e31e32d-d5d1-44bf-9d6f-a038340087d7"
      },
      "outputs": [
        {
          "output_type": "stream",
          "name": "stdout",
          "text": [
            "conf for L[[127  13   6]\n",
            " [  0 142   0]\n",
            " [  8   0 154]]\n",
            "conf for d[[140   4   2]\n",
            " [  3 139   0]\n",
            " [  3   0 159]]\n",
            "conf for f[[140   6   0]\n",
            " [  4 138   0]\n",
            " [  5   0 157]]\n"
          ]
        }
      ],
      "source": [
        "from sklearn.metrics import confusion_matrix\n",
        "print(f\"conf for L{confusion_matrix(y_test1, ypred_l)}\")\n",
        "print(f\"conf for d{confusion_matrix(y_test1, ypred_d)}\")\n",
        "print(f\"conf for f{confusion_matrix(y_test1, ypred_f)}\")"
      ]
    },
    {
      "cell_type": "code",
      "execution_count": null,
      "metadata": {
        "colab": {
          "base_uri": "https://localhost:8080/",
          "height": 431
        },
        "id": "BVfIz9KKpqwj",
        "outputId": "a1fd0fd5-aaca-4d54-e526-cee444c7f75b"
      },
      "outputs": [
        {
          "output_type": "display_data",
          "data": {
            "text/plain": [
              "<Figure size 648x504 with 2 Axes>"
            ],
            "image/png": "[encoded data removed]"
          },
          "metadata": {}
        }
      ],
      "source": [
        "import seaborn as sns\n",
        "#logistic regression confusion matrix\n",
        "ax1 = sns.heatmap(confusion_matrix(y_test1, ypred_l), annot = True, fmt = \"d\")\n",
        "\n"
      ]
    },
    {
      "cell_type": "markdown",
      "metadata": {
        "id": "Rw9VJgYhmtKk"
      },
      "source": [
        "Logistic regression\n",
        "\n",
        "0 (127 true negatives, 13 false positives 1st class,6 false positives 2nd class.),\n",
        "\n",
        "1 (140 of true positive predictions 1st class, 2 false negatives, and 0 false positives for 2nd class.,\n",
        " \n",
        "2 (155 of true positives 2nd class, 7 false negatives, and 0 false positives for 1st class.)\n"
      ]
    },
    {
      "cell_type": "code",
      "execution_count": null,
      "metadata": {
        "colab": {
          "base_uri": "https://localhost:8080/",
          "height": 431
        },
        "id": "NZgRMVaopqwj",
        "outputId": "27876ba9-fb39-43c5-f6f8-57864e1aa9b5"
      },
      "outputs": [
        {
          "output_type": "display_data",
          "data": {
            "text/plain": [
              "<Figure size 648x504 with 2 Axes>"
            ],
            "image/png": "[encoded data removed]"
          },
          "metadata": {}
        }
      ],
      "source": [
        "#dec tree confusion matrix\n",
        "\n",
        "ax2 = sns.heatmap(confusion_matrix(y_test1, ypred_d), annot = True, fmt = \"d\")"
      ]
    },
    {
      "cell_type": "markdown",
      "metadata": {
        "id": "XSTRbzugoGm9"
      },
      "source": [
        "Decision Tree\n",
        "\n",
        "0 (138 true negatives, 5 false positives 1st class, 3 false positives 2nd class.),\n",
        "\n",
        "1 (142 of true positive predictions 1st class, 0 false negatives, and 0 false positives for 2nd class,\n",
        "\n",
        "2 (160 of true positives 2nd class, 2 false negatives, and 0 false positives for 1st class.)\n"
      ]
    },
    {
      "cell_type": "code",
      "execution_count": null,
      "metadata": {
        "colab": {
          "base_uri": "https://localhost:8080/",
          "height": 431
        },
        "id": "6pYuAG2zpqwj",
        "outputId": "29f0c74e-ddc0-442d-9db5-bc51edcc7391"
      },
      "outputs": [
        {
          "output_type": "display_data",
          "data": {
            "text/plain": [
              "<Figure size 648x504 with 2 Axes>"
            ],
            "image/png": "[encoded data removed]"
          },
          "metadata": {}
        }
      ],
      "source": [
        "#forest confusion matrix\n",
        "ax3 = sns.heatmap(confusion_matrix(y_test1, ypred_f), annot = True, fmt = \"d\")"
      ]
    },
    {
      "cell_type": "markdown",
      "metadata": {
        "id": "DI9-_hg0ofCd"
      },
      "source": [
        "Random forest\n",
        "\n",
        "0 (140 true negatives, 6 false positives 1st class, 0 false positives 2nd class.),\n",
        "\n",
        "1 (142 of true positive predictions 1st class, 0 false negatives , and 0 false positives for 2nd class.,\n",
        " \n",
        "2 (160 of true positives 2nd class, 2 false negatives, and 0 false positives for 1st class.)\n"
      ]
    },
    {
      "cell_type": "markdown",
      "metadata": {
        "id": "Vuszdppnplwf"
      },
      "source": [
        "Among the three models The Random forest seem to have best performance with fewer false positives and better precision rate then the other models. This model will be used for predictions on the separate dataset."
      ]
    },
    {
      "cell_type": "markdown",
      "metadata": {
        "id": "KlYEN60Ah71w"
      },
      "source": [
        "## Evaluation Smote oversampled"
      ]
    },
    {
      "cell_type": "markdown",
      "metadata": {
        "id": "GwM1moMh2XYF"
      },
      "source": [
        "Here I will evaluate the models that were trained with the fully oversampled dataset with smote. "
      ]
    },
    {
      "cell_type": "code",
      "execution_count": null,
      "metadata": {
        "id": "ZCZTclsrA9EA"
      },
      "outputs": [],
      "source": [
        "\n",
        "#creating the predictions\n",
        "ypred_l = log.predict(x_test)\n",
        "ypred_d = dec.predict(x_test)\n",
        "ypred_f = fors.predict(x_test)\n",
        "act = y_test\n",
        "dicL = {\"Actual\":act,\"Prediction\":ypred_l, \"correct\":0}\n",
        "dicd = {\"Actual\":act,\"Prediction\":ypred_d, \"correct\":0}\n",
        "dicf = {\"Actual\":act,\"Prediction\":ypred_f, \"correct\":0}\n",
        "dl = pd.DataFrame(dicL)\n",
        "dd = pd.DataFrame(dicd)\n",
        "df = pd.DataFrame(dicf)"
      ]
    },
    {
      "cell_type": "code",
      "execution_count": null,
      "metadata": {
        "id": "YXXBayyNCGLx"
      },
      "outputs": [],
      "source": [
        "\n",
        "dl[\"correct\"] = dl.apply(lambda x: myFunc(x.Actual, x.Prediction), axis = 1)\n",
        "dd[\"correct\"] = dl.apply(lambda x: myFunc(x.Actual, x.Prediction), axis = 1)\n",
        "df[\"correct\"] = dl.apply(lambda x: myFunc(x.Actual, x.Prediction), axis = 1)"
      ]
    },
    {
      "cell_type": "code",
      "execution_count": null,
      "metadata": {
        "colab": {
          "base_uri": "https://localhost:8080/"
        },
        "id": "hesE568hCwRr",
        "outputId": "9905c80f-8c6b-444c-d3c5-0c96caff518b"
      },
      "outputs": [
        {
          "output_type": "stream",
          "name": "stdout",
          "text": [
            "The Logistic Expression model accuracy  on the smote oversampled testing set is0.93\n",
            "The Decision Tree Classifier model accuracy on the smote oversampled testing set is0.98\n",
            "The Random Forest Classifier model accuracy on the smote oversampled testing set is0.99\n"
          ]
        }
      ],
      "source": [
        "from sklearn.metrics import accuracy_score\n",
        "#creating the accuracy score\n",
        "print(f\"The Logistic Expression model accuracy  on the smote oversampled testing set is{round(accuracy_score(y_test, ypred_l),2)}\")\n",
        "print(f\"The Decision Tree Classifier model accuracy on the smote oversampled testing set is{round(accuracy_score(y_test, ypred_d),2)}\")\n",
        "print(f\"The Random Forest Classifier model accuracy on the smote oversampled testing set is{round(accuracy_score(y_test, ypred_f),2)}\")"
      ]
    },
    {
      "cell_type": "markdown",
      "source": [
        "The accuracy score of the Random forest classifier is the highest, now I will explore the Precision, recall and f1-score."
      ],
      "metadata": {
        "id": "BMUKkr5n_QdM"
      }
    },
    {
      "cell_type": "code",
      "execution_count": null,
      "metadata": {
        "colab": {
          "base_uri": "https://localhost:8080/"
        },
        "id": "gie81ReZEFyE",
        "outputId": "8222020e-d20c-4ec0-a0c1-8ed5128918ca"
      },
      "outputs": [
        {
          "output_type": "stream",
          "name": "stdout",
          "text": [
            "logistic reg smote oversampled              precision    recall  f1-score   support\n",
            "\n",
            "           0       0.92      0.88      0.90       800\n",
            "           1       0.95      1.00      0.98       794\n",
            "           2       0.93      0.93      0.93       807\n",
            "\n",
            "    accuracy                           0.93      2401\n",
            "   macro avg       0.93      0.93      0.93      2401\n",
            "weighted avg       0.93      0.93      0.93      2401\n",
            "\n",
            "decision treeg smote oversampled              precision    recall  f1-score   support\n",
            "\n",
            "           0       0.98      0.96      0.97       800\n",
            "           1       0.99      1.00      0.99       794\n",
            "           2       0.97      0.99      0.98       807\n",
            "\n",
            "    accuracy                           0.98      2401\n",
            "   macro avg       0.98      0.98      0.98      2401\n",
            "weighted avg       0.98      0.98      0.98      2401\n",
            "\n",
            "random forest smote oversampled              precision    recall  f1-score   support\n",
            "\n",
            "           0       0.99      0.97      0.98       800\n",
            "           1       0.99      1.00      1.00       794\n",
            "           2       0.98      0.99      0.99       807\n",
            "\n",
            "    accuracy                           0.99      2401\n",
            "   macro avg       0.99      0.99      0.99      2401\n",
            "weighted avg       0.99      0.99      0.99      2401\n",
            "\n"
          ]
        }
      ],
      "source": [
        "from sklearn.metrics import classification_report\n",
        "print(f\"logistic reg smote oversampled{classification_report(y_test, ypred_l)}\")\n",
        "print(f\"decision treeg smote oversampled{classification_report(y_test, ypred_d)}\")\n",
        "print(f\"random forest smote oversampled{classification_report(y_test, ypred_f)}\")\n"
      ]
    },
    {
      "cell_type": "markdown",
      "source": [
        "Among the models evaluated the Random Forest seems to have the best precision and recall than the other models, it will be used on the separate dataset for the crossdataset evaluation."
      ],
      "metadata": {
        "id": "2YA-Zp26_j43"
      }
    },
    {
      "cell_type": "code",
      "execution_count": null,
      "metadata": {
        "colab": {
          "base_uri": "https://localhost:8080/"
        },
        "id": "1gGFnnuJFIxZ",
        "outputId": "44ff6e3d-4542-4da2-9a2f-f85cf8270d05"
      },
      "outputs": [
        {
          "output_type": "stream",
          "name": "stdout",
          "text": [
            "conf for L[[703  38  59]\n",
            " [  0 794   0]\n",
            " [ 60   0 747]]\n",
            "conf for d[[770   6  24]\n",
            " [  2 792   0]\n",
            " [ 12   0 795]]\n",
            "conf for f[[776   6  18]\n",
            " [  0 794   0]\n",
            " [  5   0 802]]\n"
          ]
        }
      ],
      "source": [
        "from sklearn.metrics import confusion_matrix\n",
        "print(f\"conf for L{confusion_matrix(y_test, ypred_l)}\")\n",
        "print(f\"conf for d{confusion_matrix(y_test, ypred_d)}\")\n",
        "print(f\"conf for f{confusion_matrix(y_test, ypred_f)}\")"
      ]
    },
    {
      "cell_type": "code",
      "execution_count": null,
      "metadata": {
        "colab": {
          "base_uri": "https://localhost:8080/",
          "height": 431
        },
        "id": "GX3gE3XRFmtZ",
        "outputId": "107fbf15-169c-4d4b-bffd-53576b1dbe6f"
      },
      "outputs": [
        {
          "output_type": "display_data",
          "data": {
            "text/plain": [
              "<Figure size 648x504 with 2 Axes>"
            ],
            "image/png": "[encoded data removed]"
          },
          "metadata": {}
        }
      ],
      "source": [
        "import seaborn as sns\n",
        "#logistic regression confusion matrix\n",
        "ax1 = sns.heatmap(confusion_matrix(y_test, ypred_l), annot = True, fmt = \"d\")\n",
        "\n"
      ]
    },
    {
      "cell_type": "markdown",
      "metadata": {
        "id": "mU1iF8u23D3B"
      },
      "source": [
        "Logistic Regression\n",
        "\n",
        "0 (700 true negatives, 40 false positives 1st class, 60 false positives 2nd class.),\n",
        "\n",
        "1 (794 of true positive predictions 1st class, 0 false false negatives, and 0 false positives for 2nd class.,\n",
        "\n",
        "2 (746 of true positives 2nd class, 61 false negatives, and 0 false positives for 1st class.)"
      ]
    },
    {
      "cell_type": "code",
      "execution_count": null,
      "metadata": {
        "colab": {
          "base_uri": "https://localhost:8080/",
          "height": 431
        },
        "id": "SB5ylYIIGh5k",
        "outputId": "5fd10618-a877-49cf-91bc-228abbf6ed3e"
      },
      "outputs": [
        {
          "output_type": "display_data",
          "data": {
            "text/plain": [
              "<Figure size 648x504 with 2 Axes>"
            ],
            "image/png": "[encoded data removed]"
          },
          "metadata": {}
        }
      ],
      "source": [
        "#dec tree confusion matrix\n",
        "\n",
        "ax2 = sns.heatmap(confusion_matrix(y_test, ypred_d), annot = True, fmt = \"d\")"
      ]
    },
    {
      "cell_type": "markdown",
      "metadata": {
        "id": "aY5fX-yC3c-L"
      },
      "source": [
        "Decision Tree\n",
        "\n",
        "0 (767 true negatives, 6 false positives 1st class, 27 false positives 2nd class.),\n",
        "\n",
        "1 (794 of true positive predictions 1st class, 0 false negatives, and 0 false positives for 2nd class.,\n",
        "\n",
        "2 (788 of true positives 2nd class, 19 false false negatives, and 0 false positives for 1st class.)"
      ]
    },
    {
      "cell_type": "code",
      "execution_count": null,
      "metadata": {
        "colab": {
          "base_uri": "https://localhost:8080/",
          "height": 434
        },
        "id": "Tf1aRNJqGrM9",
        "outputId": "3568fa59-74a8-45b5-8506-6c3643bbd38e"
      },
      "outputs": [
        {
          "output_type": "display_data",
          "data": {
            "text/plain": [
              "<Figure size 648x504 with 2 Axes>"
            ],
            "image/png": "[encoded data removed]"
          },
          "metadata": {}
        }
      ],
      "source": [
        "#forest confusion matrix\n",
        "ax3 = sns.heatmap(confusion_matrix(y_test, ypred_f), annot = True, fmt = \"d\")"
      ]
    },
    {
      "cell_type": "markdown",
      "metadata": {
        "id": "2s4F_Nz13ujd"
      },
      "source": [
        "Random Forest\n",
        "\n",
        "0 (776 true negatives, 6 false negatives 1st class, 18 false negatives 2nd class.),\n",
        "\n",
        "1 (794 of true positive predictions 1st class, 0 false positives for the 0 class, and 0 false positives for 2nd class.,\n",
        "\n",
        "2 (801 of true positives 2nd class, 6 false negatives, and 0 false positives for 1st class.)"
      ]
    },
    {
      "cell_type": "markdown",
      "metadata": {
        "id": "GXB8rVPU4BR3"
      },
      "source": [
        "Among the models in this section, the best performing one apperas to be Random Forest. With fewer false positives and more true values."
      ]
    },
    {
      "cell_type": "markdown",
      "metadata": {
        "id": "J-Ww0iQCeo55"
      },
      "source": [
        "# **Preparing the new dataset**\n",
        "I will have to process the second dataset the same way I processed the main dataset."
      ]
    },
    {
      "cell_type": "code",
      "execution_count": null,
      "metadata": {
        "id": "wFDFFSf7euRQ"
      },
      "outputs": [],
      "source": [
        "# i iterate through the dataset in order to check the value\n",
        "# once the value of the string has been assessed it will be replaced by a corresponding variable\n",
        "for row in d2[\"Results\"]:\n",
        "  if \"decreased\" in str(row):\n",
        "    d2[\"Results\"] = d2[\"Results\"].replace(row, int(1))\n",
        "  elif \"increased\" in str(row):\n",
        "    d2[\"Results\"] = d2[\"Results\"].replace(row, int(2))\n",
        "  elif \"negative\" in str(row):\n",
        "    d2[\"Results\"] = d2[\"Results\"].replace(row, int(0))"
      ]
    },
    {
      "cell_type": "code",
      "execution_count": null,
      "metadata": {
        "colab": {
          "base_uri": "https://localhost:8080/"
        },
        "id": "7dUfEK5ytkIK",
        "outputId": "20796005-a851-4482-e6be-b90eb18b0ea1"
      },
      "outputs": [
        {
          "output_type": "execute_result",
          "data": {
            "text/plain": [
              "0    942\n",
              "2     25\n",
              "1      5\n",
              "Name: Results, dtype: int64"
            ]
          },
          "metadata": {},
          "execution_count": 78
        }
      ],
      "source": [
        "d2[\"Results\"].value_counts()"
      ]
    },
    {
      "cell_type": "code",
      "execution_count": null,
      "metadata": {
        "colab": {
          "base_uri": "https://localhost:8080/"
        },
        "id": "RK-uL0kSt636",
        "outputId": "3109d1d6-0d2d-4d8f-a75b-94a35260a9a8"
      },
      "outputs": [
        {
          "output_type": "execute_result",
          "data": {
            "text/plain": [
              "972"
            ]
          },
          "metadata": {},
          "execution_count": 79
        }
      ],
      "source": [
        "d2.shape[0]"
      ]
    },
    {
      "cell_type": "code",
      "execution_count": null,
      "metadata": {
        "id": "4btbAy36euRR"
      },
      "outputs": [],
      "source": [
        "\n",
        "for column in d2.columns:\n",
        "  for row in d2[column]:\n",
        "    \n",
        "    \n",
        "    if \"f\" in str(row):\n",
        "      d2[column] = d2[column].replace(row, int(0) )\n",
        "    elif \"t\" in str(row):\n",
        "      d2[column] = d2[column].replace(row, int(1) )\n",
        "    \n",
        "      \n",
        "    elif \"F\" in str(row):\n",
        "      d2[column] = d2[column].replace(row, int(0) )\n",
        "    elif \"M\" in str(row):\n",
        "      d2[column] = d2[column].replace(row, int(1) )\n",
        "\n",
        "\n",
        "\n"
      ]
    },
    {
      "cell_type": "code",
      "execution_count": null,
      "metadata": {
        "id": "wSy991X-euRR"
      },
      "outputs": [],
      "source": [
        "\n",
        "\n",
        "# I create a loop which iterate through each value in a defined column\n",
        "# then the if statement will wether the value is a \"?\"\n",
        "# once its been confirmed the value of the row is not a \"?\" it will proceed to replace the contents of the row with its numeric value\n",
        "# the said operations will be repeated for each column specified in the description  above   \n",
        "for row in d2[\"age\"]:\n",
        "  if str(row) != \"?\" :\n",
        "    d2[\"age\"] = d2[\"age\"].replace(row, int(row) )\n",
        "  \n",
        "    \n",
        "for row in d2[\"TT4\"]:\n",
        "  if str(row) != \"?\" :\n",
        "    d2[\"TT4\"] = d2[\"TT4\"].replace(row, float(row) )\n",
        " \n",
        "    \n",
        "for row in d2[\"FTI\"]:\n",
        "  if str(row) != \"?\" :\n",
        "    d2[\"FTI\"] = d2[\"FTI\"].replace(row, float(row) )\n",
        "    \n",
        "for row in d2[\"TSH\"]:\n",
        "  if str(row) != \"?\" :\n",
        "   d2[\"TSH\"] = d2[\"TSH\"].replace(row, float(row) )\n",
        "    \n",
        "for row in d2[\"T3\"]:\n",
        "  if str(row) != \"?\" :\n",
        "    d2[\"T3\"] = d2[\"T3\"].replace(row, float(row) )\n",
        "    \n",
        "\n",
        "for row in d2[\"T4U\"]:\n",
        "  if str(row) != \"?\" :\n",
        "    d2[\"T4U\"] = d2[\"T4U\"].replace(row, float(row) )\n",
        "    \n",
        "  "
      ]
    },
    {
      "cell_type": "code",
      "execution_count": null,
      "metadata": {
        "id": "kA_qLZ1weuRR"
      },
      "outputs": [],
      "source": [
        "for row in d2[\"sex\"]:\n",
        "  if str(row) == \"?\" :\n",
        "    d2[\"sex\"] = d2[\"sex\"].replace(row, int(0) )"
      ]
    },
    {
      "cell_type": "code",
      "execution_count": null,
      "metadata": {
        "id": "h18gKi-EeuRR"
      },
      "outputs": [],
      "source": [
        "for column in d2.columns:\n",
        "  for row in d2[column]:\n",
        "    if \"?\" in str(row):\n",
        "      d2[column] = d2[column].replace(row, np.NaN )\n"
      ]
    },
    {
      "cell_type": "code",
      "execution_count": null,
      "metadata": {
        "id": "JNsOzXdWgxBP"
      },
      "outputs": [],
      "source": [
        "del d2[\"referral s\"]\n",
        "del d2[\"TBG\"]\n"
      ]
    },
    {
      "cell_type": "code",
      "execution_count": null,
      "metadata": {
        "id": "buyMP4bKx9WE"
      },
      "outputs": [],
      "source": [
        "del d2[\"TBG m\"]"
      ]
    },
    {
      "cell_type": "code",
      "execution_count": null,
      "metadata": {
        "id": "c8aUHEZpgw8h"
      },
      "outputs": [],
      "source": [
        "for column in d2.columns:\n",
        "  d2[column]=d2[column].fillna(d2[column].mean())"
      ]
    },
    {
      "cell_type": "markdown",
      "metadata": {
        "id": "0gGGY_xB6FmH"
      },
      "source": [
        "# Cross Dataset Evaluation\n",
        "From each evaluation stage I selected a model, now I will use those models on a separate dataset to test its performance. "
      ]
    },
    {
      "cell_type": "markdown",
      "metadata": {
        "id": "N8e2fG-G77xf"
      },
      "source": [
        "## Predicting variables"
      ]
    },
    {
      "cell_type": "code",
      "execution_count": null,
      "metadata": {
        "id": "-kxsJDw7hPhy"
      },
      "outputs": [],
      "source": [
        "#defining the x and y values\n",
        "\n",
        "xr = d2.drop(\"Results\", axis = 1)\n",
        "yr = d2[\"Results\"]\n",
        "\n",
        "\n"
      ]
    },
    {
      "cell_type": "code",
      "execution_count": null,
      "metadata": {
        "id": "fpF43h0h8XZx",
        "colab": {
          "base_uri": "https://localhost:8080/"
        },
        "outputId": "a631e881-436e-471c-8999-3fc712e869e6"
      },
      "outputs": [
        {
          "output_type": "stream",
          "name": "stderr",
          "text": [
            "/usr/local/lib/python3.8/dist-packages/sklearn/base.py:443: UserWarning: X has feature names, but LogisticRegression was fitted without feature names\n",
            "  warnings.warn(\n",
            "/usr/local/lib/python3.8/dist-packages/sklearn/base.py:443: UserWarning: X has feature names, but RandomForestClassifier was fitted without feature names\n",
            "  warnings.warn(\n",
            "/usr/local/lib/python3.8/dist-packages/sklearn/base.py:443: UserWarning: X has feature names, but RandomForestClassifier was fitted without feature names\n",
            "  warnings.warn(\n"
          ]
        }
      ],
      "source": [
        "#predicting the values using the new data on the selected models\n",
        "ypN = logN.predict(xr)\n",
        "ypMS = fors1.predict(xr)\n",
        "ypS = fors.predict(xr)"
      ]
    },
    {
      "cell_type": "markdown",
      "metadata": {
        "id": "nnDTIt4j9VB0"
      },
      "source": [
        "## Evaluating the models' performance"
      ]
    },
    {
      "cell_type": "markdown",
      "metadata": {
        "id": "sUqB7M3O9zaF"
      },
      "source": [
        "##Accuracy scores"
      ]
    },
    {
      "cell_type": "code",
      "execution_count": null,
      "metadata": {
        "id": "ntStxWqA9zPZ",
        "colab": {
          "base_uri": "https://localhost:8080/"
        },
        "outputId": "f87671e6-c61c-435a-d167-eb015bbe664b"
      },
      "outputs": [
        {
          "output_type": "stream",
          "name": "stdout",
          "text": [
            "The Logistic Expression model trained on non resampled dataset0.95\n",
            "The Random Forest Classifier model trained on Smote and NearMiss resampled dataset  accuracy score0.92\n",
            "The Random Forest Classifier model trained on smote oversampled dataset accuracy score0.97\n"
          ]
        }
      ],
      "source": [
        "#the accuracy scores for each selected model\n",
        "\n",
        "print(f\"The Logistic Expression model trained on non resampled dataset{round(accuracy_score(yr, ypN),2)}\")\n",
        "print(f\"The Random Forest Classifier model trained on Smote and NearMiss resampled dataset  accuracy score{round(accuracy_score(yr, ypMS),2)}\")\n",
        "print(f\"The Random Forest Classifier model trained on smote oversampled dataset accuracy score{round(accuracy_score(yr, ypS),2)}\")"
      ]
    },
    {
      "cell_type": "markdown",
      "source": [
        "The Random Forest trained on the smote oversampled dataset seems to be the best accuracy score (0.97) , now I will examine the precision, recall and f1-score to get a better insight into the models' performance. "
      ],
      "metadata": {
        "id": "xfstfCnuB9o3"
      }
    },
    {
      "cell_type": "markdown",
      "metadata": {
        "id": "ylTKRewhAABd"
      },
      "source": [
        "## Classification reports\n"
      ]
    },
    {
      "cell_type": "code",
      "execution_count": null,
      "metadata": {
        "id": "EUPC3OP2Aauy",
        "colab": {
          "base_uri": "https://localhost:8080/"
        },
        "outputId": "9b63c0d2-b944-4cbf-9ed5-1a5d5b392135"
      },
      "outputs": [
        {
          "output_type": "stream",
          "name": "stdout",
          "text": [
            "logistic regression trained on non resampled dataset               precision    recall  f1-score   support\n",
            "\n",
            "           0       0.98      0.97      0.98       942\n",
            "           1       0.21      1.00      0.34         5\n",
            "           2       0.50      0.28      0.36        25\n",
            "\n",
            "    accuracy                           0.95       972\n",
            "   macro avg       0.56      0.75      0.56       972\n",
            "weighted avg       0.96      0.95      0.96       972\n",
            "\n",
            "The Random Forest Classifier model trained on smote oversampled dataset               precision    recall  f1-score   support\n",
            "\n",
            "           0       0.97      1.00      0.98       942\n",
            "           1       0.00      0.00      0.00         5\n",
            "           2       0.00      0.00      0.00        25\n",
            "\n",
            "    accuracy                           0.97       972\n",
            "   macro avg       0.32      0.33      0.33       972\n",
            "weighted avg       0.94      0.97      0.95       972\n",
            "\n",
            "The Random Forest Classifier model trainde on Smote and NearMiss resampled dataset               precision    recall  f1-score   support\n",
            "\n",
            "           0       0.97      0.95      0.96       942\n",
            "           1       0.00      0.00      0.00         5\n",
            "           2       0.00      0.00      0.00        25\n",
            "\n",
            "    accuracy                           0.92       972\n",
            "   macro avg       0.32      0.32      0.32       972\n",
            "weighted avg       0.94      0.92      0.93       972\n",
            "\n"
          ]
        },
        {
          "output_type": "stream",
          "name": "stderr",
          "text": [
            "/usr/local/lib/python3.8/dist-packages/sklearn/metrics/_classification.py:1318: UndefinedMetricWarning: Precision and F-score are ill-defined and being set to 0.0 in labels with no predicted samples. Use `zero_division` parameter to control this behavior.\n",
            "  _warn_prf(average, modifier, msg_start, len(result))\n",
            "/usr/local/lib/python3.8/dist-packages/sklearn/metrics/_classification.py:1318: UndefinedMetricWarning: Precision and F-score are ill-defined and being set to 0.0 in labels with no predicted samples. Use `zero_division` parameter to control this behavior.\n",
            "  _warn_prf(average, modifier, msg_start, len(result))\n",
            "/usr/local/lib/python3.8/dist-packages/sklearn/metrics/_classification.py:1318: UndefinedMetricWarning: Precision and F-score are ill-defined and being set to 0.0 in labels with no predicted samples. Use `zero_division` parameter to control this behavior.\n",
            "  _warn_prf(average, modifier, msg_start, len(result))\n",
            "/usr/local/lib/python3.8/dist-packages/sklearn/metrics/_classification.py:1318: UndefinedMetricWarning: Precision and F-score are ill-defined and being set to 0.0 in labels with no predicted samples. Use `zero_division` parameter to control this behavior.\n",
            "  _warn_prf(average, modifier, msg_start, len(result))\n",
            "/usr/local/lib/python3.8/dist-packages/sklearn/metrics/_classification.py:1318: UndefinedMetricWarning: Precision and F-score are ill-defined and being set to 0.0 in labels with no predicted samples. Use `zero_division` parameter to control this behavior.\n",
            "  _warn_prf(average, modifier, msg_start, len(result))\n",
            "/usr/local/lib/python3.8/dist-packages/sklearn/metrics/_classification.py:1318: UndefinedMetricWarning: Precision and F-score are ill-defined and being set to 0.0 in labels with no predicted samples. Use `zero_division` parameter to control this behavior.\n",
            "  _warn_prf(average, modifier, msg_start, len(result))\n"
          ]
        }
      ],
      "source": [
        "# This function prints out the classification reports for each model\n",
        "\n",
        "print(f\"logistic regression trained on non resampled dataset {classification_report(yr, ypN)}\")\n",
        "print(f\"The Random Forest Classifier model trained on smote oversampled dataset {classification_report(yr,ypS)}\")\n",
        "print(f\"The Random Forest Classifier model trainde on Smote and NearMiss resampled dataset {classification_report(yr,ypMS)}\")"
      ]
    },
    {
      "cell_type": "markdown",
      "metadata": {
        "id": "-ZckuJSIBfEp"
      },
      "source": [
        "Event with a higher accuracy the Random forest fails to predict any true positives, so does the Decision tree. Logistic regression seems to have the best performance among the 3 models. Logistic Regression seems to be the most appropriate model for this dataset, and the oversampling of the data allows the other models to predict the negative cases with high precision but fails to train them to predict the positive cases."
      ]
    },
    {
      "cell_type": "markdown",
      "source": [],
      "metadata": {
        "id": "TQViqQOWVuHY"
      }
    },
    {
      "cell_type": "markdown",
      "metadata": {
        "id": "_SIp9K6YCfY0"
      },
      "source": [
        "## Confusion Matrix"
      ]
    },
    {
      "cell_type": "markdown",
      "metadata": {
        "id": "Aok0T-y_C7dm"
      },
      "source": [
        "### Confusion matrix logistic regression trained on non resampled dataset"
      ]
    },
    {
      "cell_type": "code",
      "execution_count": null,
      "metadata": {
        "id": "A3--JDJc9zMu",
        "colab": {
          "base_uri": "https://localhost:8080/",
          "height": 431
        },
        "outputId": "79f7327a-5128-4050-8bb6-bb50daa61eea"
      },
      "outputs": [
        {
          "output_type": "display_data",
          "data": {
            "text/plain": [
              "<Figure size 648x504 with 2 Axes>"
            ],
            "image/png": "[encoded data removed]"
          },
          "metadata": {}
        }
      ],
      "source": [
        "ax3 = sns.heatmap(confusion_matrix(yr, ypN), annot = True, fmt = \"d\")"
      ]
    },
    {
      "cell_type": "markdown",
      "metadata": {
        "id": "2SihtIS5DZvf"
      },
      "source": [
        "\n",
        "\n",
        "0 (916 true negatives, 19 false positives 1st class, 7 false positives 2nd class.),\n",
        "\n",
        "1 (5 of true positive predictions 1st class, 0 false negatives, and 0 false positives for 2nd class.,\n",
        "\n",
        "2 (7 of true positives 2nd class, 18 false negatives, and 0 false positives for 1st class.)"
      ]
    },
    {
      "cell_type": "markdown",
      "metadata": {
        "id": "xVhYHmV_DuVQ"
      },
      "source": [
        "### Confusion matrix  Random Forest Classifier model trained on smote oversampled dataset"
      ]
    },
    {
      "cell_type": "code",
      "execution_count": null,
      "metadata": {
        "id": "9hr2J_YaC1_0",
        "colab": {
          "base_uri": "https://localhost:8080/",
          "height": 431
        },
        "outputId": "c6c0e5f2-37ac-4229-cba4-5009f63fc450"
      },
      "outputs": [
        {
          "output_type": "display_data",
          "data": {
            "text/plain": [
              "<Figure size 648x504 with 2 Axes>"
            ],
            "image/png": "[encoded data removed]"
          },
          "metadata": {}
        }
      ],
      "source": [
        "ax3 = sns.heatmap(confusion_matrix(yr, ypS), annot = True, fmt = \"d\")"
      ]
    },
    {
      "cell_type": "markdown",
      "metadata": {
        "id": "pt3gYgELFKHz"
      },
      "source": [
        "\n",
        "\n",
        "0 (942 true negatives, 0 false positives 1st class, 0 false positives 2nd class.),\n",
        "\n",
        "1 (0 of true positive predictions 1st class, 5 false negatives, and 0 false positives for 2nd class.,\n",
        "\n",
        "2 (25 of true positives 2nd class, 0 false negatives, and 0 false positives for 1st class.)"
      ]
    },
    {
      "cell_type": "markdown",
      "metadata": {
        "id": "A0hTmkNbEcM_"
      },
      "source": [
        "### Random Forest Classifier model trained on Smote and NearMiss resampled dataset "
      ]
    },
    {
      "cell_type": "code",
      "execution_count": null,
      "metadata": {
        "id": "gXmeOfJFFebR",
        "colab": {
          "base_uri": "https://localhost:8080/",
          "height": 431
        },
        "outputId": "d49254d1-a817-4e90-e430-85936e8bbc0e"
      },
      "outputs": [
        {
          "output_type": "display_data",
          "data": {
            "text/plain": [
              "<Figure size 648x504 with 2 Axes>"
            ],
            "image/png": "[encoded data removed]"
          },
          "metadata": {}
        }
      ],
      "source": [
        "ax3 = sns.heatmap(confusion_matrix(yr, ypMS), annot = True, fmt = \"d\")"
      ]
    },
    {
      "cell_type": "markdown",
      "metadata": {
        "id": "B4jdGaLeGDWu"
      },
      "source": [
        "0 (894 true negatives, 0 false positives 1st class, 48 false positives 2nd class.),\n",
        "\n",
        "1 (0 of true positive predictions 1st class, 5 false negatives class, and 0 false positives for 2nd class.,\n",
        "\n",
        "2 (0 of true positives 2nd class, 25 false negatives, and 0 false positives for 1st class.)"
      ]
    },
    {
      "cell_type": "markdown",
      "metadata": {
        "id": "sZAYjPu-Ib47"
      },
      "source": [
        "Among the models in this chapter Logistic regression trained on non resampled data is best performing. Its the only model that is able to predict the  true positives in the second and first classes. Still the precision in predicting the positives is very low, that means that there are too many of false positives. "
      ]
    },
    {
      "cell_type": "markdown",
      "source": [
        "# **Summary**\n",
        "The selected dataset was explored, prepared, and analysed. From this report I can draw conclusion that oversampling techniques are efficient only to a certain point, the models that are trained on that kind of data are going to perform well on the spitted testing set but not on a separate dataset. For that reason, the oversampling must be combined with other methods of the data balancing techniques. The true positives precision of the models trained on the oversampled datasets drops during the cross-dataset testing, but remains high on the splitted testing dataset. While the Precision of the true negatives remains high. That would indicate that the oversampled nature of the dataset is very damaging to the models' performance."
      ],
      "metadata": {
        "id": "_EGykqinFmZf"
      }
    },
    {
      "cell_type": "markdown",
      "source": [
        "## Solution\n",
        "The Logistic regression selected for the solution has a high true negative precision but a low precision in predicting the positive cases, even though I would not have time to proceed with the following actions, I would say that the model performance can be improved by assigning the class weight, trying different solvers, and changing other parameters."
      ],
      "metadata": {
        "id": "tz2Add1bGyuo"
      }
    },
    {
      "cell_type": "markdown",
      "source": [
        "# **The Paper Link**\n",
        "\n",
        "\n",
        "\n",
        "*   Vili Podgorelec, Peter Kokol, Bruno Stiglic, Ivan Rozman. (October 2002). **Decision Trees: An Overview and Their Use in Medicine.** [Online]. www.researchgate.net. Last Updated: November 2002. Available at: https://www.researchgate.net/publication/11205595_Decision_Trees_An_Overview_and_Their_Use_in_Medici [Accessed 28/10/22].\n",
        "\n",
        "\n"
      ],
      "metadata": {
        "id": "CwrfKTpjQN7I"
      }
    },
    {
      "cell_type": "markdown",
      "source": [
        "# **The Dataset Links**\n",
        "\n",
        "\n",
        "*   UCI. (N/A). **The main Dataset (allbp.data)**. [Online].http://archive.ics.uci.edu/ml/datasets/thyroid+disease. Downloaded on: 28/10/22. Available at: http://archive.ics.uci.edu/ml/machine-learning-databases/thyroid-disease/\n",
        "*   UCI. (N/A). **The Second Dataset (allbp.test)**. [Online].http://archive.ics.uci.edu/ml/datasets/thyroid+disease. Downloaded on: 28/10/22. Available at: http://archive.ics.uci.edu/ml/machine-learning-databases/thyroid-disease/\n",
        "* UCI. (N/A). **The Column Names (allbp.names)**. [Online].http://archive.ics.uci.edu/ml/datasets/thyroid+disease. Downloaded on: 28/10/22. Available at: http://archive.ics.uci.edu/ml/machine-learning-databases/thyroid-disease/\n",
        "* UCI. (N/A). **The General information (HELLO)**. [Online].http://archive.ics.uci.edu/ml/datasets/thyroid+disease. Downloaded on: 28/10/22. Available at: http://archive.ics.uci.edu/ml/machine-learning-databases/thyroid-disease/\n"
      ],
      "metadata": {
        "id": "sxHBD6K6OFuL"
      }
    },
    {
      "cell_type": "markdown",
      "metadata": {
        "id": "pmkNOdoHYRhm"
      },
      "source": [
        "# **References.**\n",
        "\n",
        "\n",
        "\n",
        "*   N/A. (On July 23, 2020). 10 Techniques to deal with Imbalanced Classes in Machine Learning. [Online]. https://www.analyticsvidhya.com/. Last Updated: November 30th, 2022. Available at: https://www.analyticsvidhya.com/blog/2020/07/10-techniques-to-deal-with-class-imbalance-in-machine-l [Accessed 8 December 2022].\n",
        "*  Guillaume Lemaitre. (N/A). NearMiss. [Online]. https://imbalanced-learn.org/. Last Updated: N/A. Available at: https://imbalanced-learn.org/dev/references/generated/imblearn.under_sampling.NearMiss.html [Accessed 8 December 2022].\n",
        "* Jason Brownlee. (January 17, 2020). SMOTE for Imbalanced Classification with Python. [Online]. https://machinelearningmastery.com/. Last Updated: March 17, 2021. Available at: https://machinelearningmastery.com/smote-oversampling-for-imbalanced-classification/ [Accessed 8 December 2022].\n",
        "\n",
        "\n",
        "\n",
        "\n",
        "\n",
        "near miss \n",
        "https://imbalanced-learn.org/dev/references/generated/imblearn.under_sampling.NearMiss.html"
      ]
    },
    {
      "cell_type": "markdown",
      "source": [
        "# **Google Colab Link**\n",
        "\n",
        "https://colab.research.google.com/drive/15ji-DBx3eBkKXH6AY8M4fnSImLCkqyhy?usp=sharing"
      ],
      "metadata": {
        "id": "rBzSLzkiWWgs"
      }
    },
    {
      "cell_type": "markdown",
      "source": [
        "# **GitHub Repository Link**\n",
        "https://github.com/Sergei199352/Machine-Learning-Project.git"
      ],
      "metadata": {
        "id": "sigoBIzJWb2l"
      }
    },
    {
      "cell_type": "markdown",
      "source": [],
      "metadata": {
        "id": "Wi5ewq4OYT90"
      }
    },
    {
      "cell_type": "code",
      "execution_count": null,
      "metadata": {
        "id": "7RJk2L3atrk7",
        "colab": {
          "base_uri": "https://localhost:8080/"
        },
        "outputId": "935451c9-849d-4561-b5fe-26f26982bf3b"
      },
      "outputs": [
        {
          "output_type": "stream",
          "name": "stdout",
          "text": [
            "[NbConvertApp] Converting notebook /content/drive/MyDrive/ColabNotebooks/mydataset/report.ipynb to HTML\n",
            "[NbConvertApp] Writing 498444 bytes to /content/drive/MyDrive/ColabNotebooks/mydataset/report.html\n"
          ]
        }
      ],
      "source": [
        "\n",
        "#this shell script converts the code into the html file\n",
        "#!jupyter nbconvert --to HTML /content/drive/MyDrive/ColabNotebooks/mydataset/report.ipynb"
      ]
    }
  ],
  "metadata": {
    "colab": {
      "collapsed_sections": [
        "8Sy7r25Ep3Sn",
        "TqULcfGZqz1z",
        "Bew6EozXujzX",
        "aoq4_3VHxU82",
        "i7IYBqx5X0XE",
        "IJ_U89H2Zq_m",
        "RyQK7fbQuLO5",
        "IAt6nhyKwr85",
        "e72AeU0wxPtP",
        "Ank1iYIswXxg",
        "9X6idNK4o9wY",
        "ThwMt7jO7L4J",
        "AXRD-cBZADqJ",
        "1ALq4LC_NGT6",
        "zHjJ03k421Z1"
      ],
      "provenance": [],
      "mount_file_id": "15ji-DBx3eBkKXH6AY8M4fnSImLCkqyhy",
      "authorship_tag": "ABX9TyMnLeDXmrFl4LpfrRTJsUna",
      "include_colab_link": true
    },
    "kernelspec": {
      "display_name": "Python 3",
      "name": "python3"
    },
    "language_info": {
      "name": "python"
    }
  },
  "nbformat": 4,
  "nbformat_minor": 0
}