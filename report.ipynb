{
  "nbformat": 4,
  "nbformat_minor": 0,
  "metadata": {
    "colab": {
      "provenance": [],
      "toc_visible": true,
      "collapsed_sections": [
        "8Sy7r25Ep3Sn",
        "TqULcfGZqz1z",
        "Bew6EozXujzX",
        "aoq4_3VHxU82",
        "i7IYBqx5X0XE",
        "IJ_U89H2Zq_m",
        "RyQK7fbQuLO5",
        "IAt6nhyKwr85",
        "e72AeU0wxPtP",
        "Ank1iYIswXxg",
        "9X6idNK4o9wY",
        "ThwMt7jO7L4J",
        "AXRD-cBZADqJ",
        "1ALq4LC_NGT6",
        "zHjJ03k421Z1"
      ],
      "mount_file_id": "15ji-DBx3eBkKXH6AY8M4fnSImLCkqyhy",
      "authorship_tag": "ABX9TyMrMD/5VMQRVYx5G04r3+GL",
      "include_colab_link": true
    },
    "kernelspec": {
      "name": "python3",
      "display_name": "Python 3"
    },
    "language_info": {
      "name": "python"
    }
  },
  "cells": [
    {
      "cell_type": "markdown",
      "metadata": {
        "id": "view-in-github",
        "colab_type": "text"
      },
      "source": [
        "<a href=\"https://colab.research.google.com/github/Sergei199352/Machine-Learning-Project/blob/main/report.ipynb\" target=\"_parent\"><img src=\"https://colab.research.google.com/assets/colab-badge.svg\" alt=\"Open In Colab\"/></a>"
      ]
    },
    {
      "cell_type": "markdown",
      "source": [
        "# **Dataset**\n",
        "\n",
        "Thyroid Disease Data Set named \"allbp.data\" downloaded from the UCI machine learning repository on 28/10/22, contains the recods of patients with different Thtroid Desease. I chose this dataset because myself, my mother and my sister all suffer from hypothyroidism, so I had personal interest in exploring this type of data. This dataset comes accompanied by other files that provide some more information regarding the dataset and how t o read it. These files are: HELLO (provides information about where the information is coming from and how the information is presented), allbp.names(provides the column names which are not included in the dataset), allbp.test (a separate dataset that can be used to test the created model for ulterior development)."
      ],
      "metadata": {
        "id": "IbQ5d--iMHtf"
      }
    },
    {
      "cell_type": "markdown",
      "source": [
        "# **Objective**\n",
        "There are two kinds of thyroid disease that , are included in this dataset, increased binding protein and decreased binding protein, so I will build a model to predict if the patient is affected by yhe desease and which one is it."
      ],
      "metadata": {
        "id": "_oooW5gFvSCm"
      }
    },
    {
      "cell_type": "markdown",
      "source": [
        "# **Peer Reviewed paper**"
      ],
      "metadata": {
        "id": "Mgh8G90zN_0B"
      }
    },
    {
      "cell_type": "markdown",
      "source": [
        "\n",
        "The paper I selected is called: “Decision trees: An overview and their use in Medicine”. In this paper the writer discusses different methods of applying the decision trees to the medical data, the Decision trees are good decision-making models that provide high classification accuracy with a simple presentation of the decision making process. Wich can be easily assessed by an expert and taken into consideration when reaching a diagnosis. \n",
        "## Combination of decision trees and other models\n",
        "When comparing decision trees and neural networks, it can be noted that their advantages and drawbacks are almost complementary. While it is easy for humans to interpret the knowledge representation of decision trees it is not so in case of the neural networks, the neural networks are more efficient with dealing with noise in the dataset than the decision trees, while the decision trees models are faster at learning then neural network. Therefore, the idea is to combine the two models to unite their advantages. \n",
        "Another method which is used in medicine is to unite the evolutionary algorithm, which is used for complex optimization tasks, with the decision trees. AREX algorithm, is one of the most recent approaches to the evolutionary induction of decision trees-like methods. This approach includes the multi-level classification model, based on the difference between objects.\n",
        "## Target of the paper\n",
        "The paper discussed different methods that use decision trees model combined with other models to improve its efficiency, the methods are not superior to each other but are meant to be used for different and appropriate cases. The writer wanted to introduce this variety of methods to the reader and promote the usage of several methods instead of single one to resolve a problem.\n"
      ],
      "metadata": {
        "id": "vOhEEKOemI74"
      }
    },
    {
      "cell_type": "markdown",
      "source": [
        "# **Data Exploration**\n",
        "In the following steps I will load the data and explore the dataset, I need to understand what kind of data it is and what must be done before I fit it into a model. I also load two separate binary data files provided by the UCI to aid the understanding of the data, and its processing.\n"
      ],
      "metadata": {
        "id": "CSen348ONdd9"
      }
    },
    {
      "cell_type": "markdown",
      "source": [
        "In addition to loading the main dataset \"d1\" I will load another dataset that was provided by UCI which I will use to test my model once it has been trained. The second dataset follows the same format of the main dataset."
      ],
      "metadata": {
        "id": "0Bd7IPylPQ_d"
      }
    },
    {
      "cell_type": "code",
      "execution_count": 580,
      "metadata": {
        "id": "L_8gqkO-Ihor"
      },
      "outputs": [],
      "source": [
        "import pandas as pd\n",
        "import numpy as np\n",
        "import matplotlib.pyplot as plt\n",
        "from sklearn.datasets import make_blobs\n",
        "import math\n",
        "\n",
        "\n",
        "\n",
        "#loading the first dataset\n",
        "d1 = pd.read_csv(\"/content/drive/MyDrive/ColabNotebooks/mydataset/allbp.data\", header = None)\n",
        "\n",
        "#loading the second dataset\n",
        "\n",
        "d2 = pd.read_csv(\"/content/drive/MyDrive/ColabNotebooks/mydataset/allbp.test\", header = None)\n",
        "\n",
        "#additional files that provide more info regarding the datasets\n",
        "file2 = open(\"/content/drive/MyDrive/ColabNotebooks/mydataset/HELLO\")\n",
        "file = open(\"/content/drive/MyDrive/ColabNotebooks/mydataset/allbp.names\")\n",
        "name = file.read()\n",
        "info = file2.read()\n"
      ]
    },
    {
      "cell_type": "code",
      "source": [
        "#data size\n",
        "print(f\"The dataset contains {d1.shape[0]} rows and {d1.shape[1]} columns\")"
      ],
      "metadata": {
        "colab": {
          "base_uri": "https://localhost:8080/"
        },
        "id": "0i4DxyXVwjdG",
        "outputId": "29ba21a8-f097-4300-96c6-40ac214ab4a2"
      },
      "execution_count": 581,
      "outputs": [
        {
          "output_type": "stream",
          "name": "stdout",
          "text": [
            "The dataset contains 2800 rows and 30 columns\n"
          ]
        }
      ]
    },
    {
      "cell_type": "markdown",
      "source": [
        "Now that i know the size of the dataset I will examine the information files provided by the UCI. "
      ],
      "metadata": {
        "id": "WzbXA7DhQLxW"
      }
    },
    {
      "cell_type": "code",
      "source": [
        "print(name)"
      ],
      "metadata": {
        "colab": {
          "base_uri": "https://localhost:8080/"
        },
        "id": "nk8wkyff8gUb",
        "outputId": "ebe81cbc-d406-4475-e4b2-2f26ac253816"
      },
      "execution_count": 582,
      "outputs": [
        {
          "output_type": "stream",
          "name": "stdout",
          "text": [
            ";\n",
            "; Thyroid disease records supplied by the Garavan Institute and J. Ross\n",
            "; Quinlan, New South Wales Institute, Syndney, Australia.\n",
            ";\n",
            "; 1987.\n",
            ";\n",
            "\n",
            "increased binding protein, decreased binding protein,\n",
            "negative.\t\t\t|  classes\n",
            "\n",
            "age:\t\t\t\tcontinuous.\n",
            "sex:\t\t\t\tM, F.\n",
            "on thyroxine:\t\t\tf, t.\n",
            "query on thyroxine:\t\tf, t.\n",
            "on antithyroid medication:\tf, t.\n",
            "sick:\t\t\t\tf, t.\n",
            "pregnant:\t\t\tf, t.\n",
            "thyroid surgery:\t\tf, t.\n",
            "I131 treatment:\t\t\tf, t.\n",
            "query hypothyroid:\t\tf, t.\n",
            "query hyperthyroid:\t\tf, t.\n",
            "lithium:\t\t\tf, t.\n",
            "goitre:\t\t\t\tf, t.\n",
            "tumor:\t\t\t\tf, t.\n",
            "hypopituitary:\t\t\tf, t.\n",
            "psych:\t\t\t\tf, t.\n",
            "TSH measured:\t\t\tf, t.\n",
            "TSH:\t\t\t\tcontinuous.\n",
            "T3 measured:\t\t\tf, t.\n",
            "T3:\t\t\t\tcontinuous.\n",
            "TT4 measured:\t\t\tf, t.\n",
            "TT4:\t\t\t\tcontinuous.\n",
            "T4U measured:\t\t\tf, t.\n",
            "T4U:\t\t\t\tcontinuous.\n",
            "FTI measured:\t\t\tf, t.\n",
            "FTI:\t\t\t\tcontinuous.\n",
            "TBG measured:\t\t\tf, t.\n",
            "TBG:\t\t\t\tcontinuous.\n",
            "referral source:\t\tWEST, STMW, SVHC, SVI, SVHD, other.\n",
            "\n"
          ]
        }
      ]
    },
    {
      "cell_type": "markdown",
      "source": [
        "This file contains the names of the columns for the dataset, and indicates the separation of the classes in each column, most columns have 2 categorical values, the target column has 3. "
      ],
      "metadata": {
        "id": "N5uE0NTiQi68"
      }
    },
    {
      "cell_type": "code",
      "source": [
        "print(info)"
      ],
      "metadata": {
        "colab": {
          "base_uri": "https://localhost:8080/"
        },
        "id": "TaM_r20yOjGT",
        "outputId": "94ec5d70-3671-4b10-95c4-00ca108a5c4d"
      },
      "execution_count": 583,
      "outputs": [
        {
          "output_type": "stream",
          "name": "stdout",
          "text": [
            "          General Description of Thyroid Disease Databases \n",
            "                        and Related Files\n",
            "\n",
            "This directory contains 6 databases, corresponding test set, and \n",
            "corresponding documentation.  They were left at the University of\n",
            "California at Irvine by Ross Quinlan during his visit in 1987 for\n",
            "the 1987 Machine Learning Workshop.  \n",
            "\n",
            "The documentation files (with file extension \"names\") are formatted to\n",
            "be read by Quinlan's C4 decision tree program.  Though briefer than\n",
            "the other documentation files found in this database repository, they\n",
            "should suffice to describe the database, specifically:\n",
            "\n",
            "    1. Source\n",
            "    2. Number and names of attributes (including class names)\n",
            "    3. Types of values that each attribute takes\n",
            "\n",
            "In general, these databases are quite similar and can be characterized\n",
            "somewhat as follows:\n",
            "\n",
            "    1. Many attributes (29 or so, mostly the same set over all the databases)\n",
            "    2. mostly numeric or Boolean valued attributes\n",
            "    3. thyroid disease domains (records provided by the Garavan Institute\n",
            "       of Sydney, Australia)\n",
            "    4. several missing attribute values (signified by \"?\")\n",
            "    5. small number of classes (under 10, changes with each database)\n",
            "    7. 2800 instances in each data set\n",
            "    8. 972 instances in each test set (It seems that the test sets' instances\n",
            "       are disjoint with respect to the corresponding data sets, but this has \n",
            "       not been verified)\n",
            "\n",
            "See the following for a discussion of relevant experiments and related work:\n",
            "   Quinlan,J.R., Compton,P.J., Horn,K.A., & Lazurus,L. (1986).\n",
            "   Inductive knowledge acquisition: A case study.\n",
            "   In Proceedings of the Second Australian Conference on Applications\n",
            "   of Expert Systems.  Sydney, Australia.\n",
            "\n",
            "   Quinlan,J.R. (1986). Induction of decision trees. Machine Learning,\n",
            "   1, 81--106.\n",
            "\n",
            "Note that the instances in these databases are followed by a vertical\n",
            "bar and a number.  These appear to be a patient id number.  The vertical\n",
            "bar is interepreted by Quinlan's algorithms as \"ignore the remainder of\n",
            "this line\". \n",
            "\n",
            "======================================================================\n",
            "This database now also contains an additional two data files, named \n",
            "hypothyroid.data and sick-euthyroid.data.  They have approximately the\n",
            "same data format and set of attributes as the other 6 databases, but\n",
            "their integrity is questionable.  Ross Quinlan is concerned that they\n",
            "may have been corrupted since they first arrived at UCI, but we have not\n",
            "yet established the validity of this possibility.  These 2 databases differ\n",
            "in terms of their number of instances (3163) and lack of corresponding \n",
            "test files.  They each have 2 concepts (negative/hypothyroid and \n",
            "sick-euthyroid/negative respectively).  Their source also appears to\n",
            "be the Garavan institute.  Each contains several missing values.\n",
            "\n",
            "Another relatively recent file thyroid0387.data has been added that \n",
            "contains the latest version of an archive of thyroid diagnoses obtained \n",
            "from the Garvan Institute, consisting of 9172 records from 1984 to early 1987.\n",
            "\n",
            "A domain theory related to thyroid desease has also been added recently \n",
            "(thyroid.theory).\n",
            "\n",
            "The files new-thyroid.[names,data] were donated by Stefan Aberhard.\n",
            "\n",
            "\n",
            "\n",
            "\n"
          ]
        }
      ]
    },
    {
      "cell_type": "markdown",
      "source": [
        "This file provides general information about the datasets in the repository where I downloaded mine, I would like to bring attention of the reader to the line \"4. several missing attribute values (signified by \"?\")\", which will be important during the data pre-processing."
      ],
      "metadata": {
        "id": "I2brej1mQsbT"
      }
    },
    {
      "cell_type": "markdown",
      "source": [
        "## Columns"
      ],
      "metadata": {
        "id": "rPik1AmqpIt2"
      }
    },
    {
      "cell_type": "code",
      "source": [
        "d1.head(10)"
      ],
      "metadata": {
        "colab": {
          "base_uri": "https://localhost:8080/",
          "height": 392
        },
        "id": "cslRcx6m7EhL",
        "outputId": "25535a73-3817-4ea6-9b83-b3ef7fccfabd"
      },
      "execution_count": 584,
      "outputs": [
        {
          "output_type": "execute_result",
          "data": {
            "text/plain": [
              "   0  1  2  3  4  5  6  7  8  9   ... 20   21 22    23 24   25 26 27     28  \\\n",
              "0  41  F  f  f  f  f  f  f  f  f  ...  t  125  t  1.14  t  109  f  ?   SVHC   \n",
              "1  23  F  f  f  f  f  f  f  f  f  ...  t  102  f     ?  f    ?  f  ?  other   \n",
              "2  46  M  f  f  f  f  f  f  f  f  ...  t  109  t  0.91  t  120  f  ?  other   \n",
              "3  70  F  t  f  f  f  f  f  f  f  ...  t  175  f     ?  f    ?  f  ?  other   \n",
              "4  70  F  f  f  f  f  f  f  f  f  ...  t   61  t  0.87  t   70  f  ?    SVI   \n",
              "5  18  F  t  f  f  f  f  f  f  f  ...  t  183  t   1.3  t  141  f  ?  other   \n",
              "6  59  F  f  f  f  f  f  f  f  f  ...  t   72  t  0.92  t   78  f  ?  other   \n",
              "7  80  F  f  f  f  f  f  f  f  f  ...  t   80  t   0.7  t  115  f  ?    SVI   \n",
              "8  66  F  f  f  f  f  f  f  f  f  ...  t  123  t  0.93  t  132  f  ?    SVI   \n",
              "9  68  M  f  f  f  f  f  f  f  f  ...  t   83  t  0.89  t   93  f  ?    SVI   \n",
              "\n",
              "               29  \n",
              "0  negative.|3733  \n",
              "1  negative.|1442  \n",
              "2  negative.|2965  \n",
              "3   negative.|806  \n",
              "4  negative.|2807  \n",
              "5  negative.|3434  \n",
              "6  negative.|1595  \n",
              "7  negative.|1367  \n",
              "8  negative.|1787  \n",
              "9  negative.|2534  \n",
              "\n",
              "[10 rows x 30 columns]"
            ],
            "text/html": [
              "\n",
              "  <div id=\"df-b0a66f08-395f-40ad-b624-6a8caeaab9e5\">\n",
              "    <div class=\"colab-df-container\">\n",
              "      <div>\n",
              "<style scoped>\n",
              "    .dataframe tbody tr th:only-of-type {\n",
              "        vertical-align: middle;\n",
              "    }\n",
              "\n",
              "    .dataframe tbody tr th {\n",
              "        vertical-align: top;\n",
              "    }\n",
              "\n",
              "    .dataframe thead th {\n",
              "        text-align: right;\n",
              "    }\n",
              "</style>\n",
              "<table border=\"1\" class=\"dataframe\">\n",
              "  <thead>\n",
              "    <tr style=\"text-align: right;\">\n",
              "      <th></th>\n",
              "      <th>0</th>\n",
              "      <th>1</th>\n",
              "      <th>2</th>\n",
              "      <th>3</th>\n",
              "      <th>4</th>\n",
              "      <th>5</th>\n",
              "      <th>6</th>\n",
              "      <th>7</th>\n",
              "      <th>8</th>\n",
              "      <th>9</th>\n",
              "      <th>...</th>\n",
              "      <th>20</th>\n",
              "      <th>21</th>\n",
              "      <th>22</th>\n",
              "      <th>23</th>\n",
              "      <th>24</th>\n",
              "      <th>25</th>\n",
              "      <th>26</th>\n",
              "      <th>27</th>\n",
              "      <th>28</th>\n",
              "      <th>29</th>\n",
              "    </tr>\n",
              "  </thead>\n",
              "  <tbody>\n",
              "    <tr>\n",
              "      <th>0</th>\n",
              "      <td>41</td>\n",
              "      <td>F</td>\n",
              "      <td>f</td>\n",
              "      <td>f</td>\n",
              "      <td>f</td>\n",
              "      <td>f</td>\n",
              "      <td>f</td>\n",
              "      <td>f</td>\n",
              "      <td>f</td>\n",
              "      <td>f</td>\n",
              "      <td>...</td>\n",
              "      <td>t</td>\n",
              "      <td>125</td>\n",
              "      <td>t</td>\n",
              "      <td>1.14</td>\n",
              "      <td>t</td>\n",
              "      <td>109</td>\n",
              "      <td>f</td>\n",
              "      <td>?</td>\n",
              "      <td>SVHC</td>\n",
              "      <td>negative.|3733</td>\n",
              "    </tr>\n",
              "    <tr>\n",
              "      <th>1</th>\n",
              "      <td>23</td>\n",
              "      <td>F</td>\n",
              "      <td>f</td>\n",
              "      <td>f</td>\n",
              "      <td>f</td>\n",
              "      <td>f</td>\n",
              "      <td>f</td>\n",
              "      <td>f</td>\n",
              "      <td>f</td>\n",
              "      <td>f</td>\n",
              "      <td>...</td>\n",
              "      <td>t</td>\n",
              "      <td>102</td>\n",
              "      <td>f</td>\n",
              "      <td>?</td>\n",
              "      <td>f</td>\n",
              "      <td>?</td>\n",
              "      <td>f</td>\n",
              "      <td>?</td>\n",
              "      <td>other</td>\n",
              "      <td>negative.|1442</td>\n",
              "    </tr>\n",
              "    <tr>\n",
              "      <th>2</th>\n",
              "      <td>46</td>\n",
              "      <td>M</td>\n",
              "      <td>f</td>\n",
              "      <td>f</td>\n",
              "      <td>f</td>\n",
              "      <td>f</td>\n",
              "      <td>f</td>\n",
              "      <td>f</td>\n",
              "      <td>f</td>\n",
              "      <td>f</td>\n",
              "      <td>...</td>\n",
              "      <td>t</td>\n",
              "      <td>109</td>\n",
              "      <td>t</td>\n",
              "      <td>0.91</td>\n",
              "      <td>t</td>\n",
              "      <td>120</td>\n",
              "      <td>f</td>\n",
              "      <td>?</td>\n",
              "      <td>other</td>\n",
              "      <td>negative.|2965</td>\n",
              "    </tr>\n",
              "    <tr>\n",
              "      <th>3</th>\n",
              "      <td>70</td>\n",
              "      <td>F</td>\n",
              "      <td>t</td>\n",
              "      <td>f</td>\n",
              "      <td>f</td>\n",
              "      <td>f</td>\n",
              "      <td>f</td>\n",
              "      <td>f</td>\n",
              "      <td>f</td>\n",
              "      <td>f</td>\n",
              "      <td>...</td>\n",
              "      <td>t</td>\n",
              "      <td>175</td>\n",
              "      <td>f</td>\n",
              "      <td>?</td>\n",
              "      <td>f</td>\n",
              "      <td>?</td>\n",
              "      <td>f</td>\n",
              "      <td>?</td>\n",
              "      <td>other</td>\n",
              "      <td>negative.|806</td>\n",
              "    </tr>\n",
              "    <tr>\n",
              "      <th>4</th>\n",
              "      <td>70</td>\n",
              "      <td>F</td>\n",
              "      <td>f</td>\n",
              "      <td>f</td>\n",
              "      <td>f</td>\n",
              "      <td>f</td>\n",
              "      <td>f</td>\n",
              "      <td>f</td>\n",
              "      <td>f</td>\n",
              "      <td>f</td>\n",
              "      <td>...</td>\n",
              "      <td>t</td>\n",
              "      <td>61</td>\n",
              "      <td>t</td>\n",
              "      <td>0.87</td>\n",
              "      <td>t</td>\n",
              "      <td>70</td>\n",
              "      <td>f</td>\n",
              "      <td>?</td>\n",
              "      <td>SVI</td>\n",
              "      <td>negative.|2807</td>\n",
              "    </tr>\n",
              "    <tr>\n",
              "      <th>5</th>\n",
              "      <td>18</td>\n",
              "      <td>F</td>\n",
              "      <td>t</td>\n",
              "      <td>f</td>\n",
              "      <td>f</td>\n",
              "      <td>f</td>\n",
              "      <td>f</td>\n",
              "      <td>f</td>\n",
              "      <td>f</td>\n",
              "      <td>f</td>\n",
              "      <td>...</td>\n",
              "      <td>t</td>\n",
              "      <td>183</td>\n",
              "      <td>t</td>\n",
              "      <td>1.3</td>\n",
              "      <td>t</td>\n",
              "      <td>141</td>\n",
              "      <td>f</td>\n",
              "      <td>?</td>\n",
              "      <td>other</td>\n",
              "      <td>negative.|3434</td>\n",
              "    </tr>\n",
              "    <tr>\n",
              "      <th>6</th>\n",
              "      <td>59</td>\n",
              "      <td>F</td>\n",
              "      <td>f</td>\n",
              "      <td>f</td>\n",
              "      <td>f</td>\n",
              "      <td>f</td>\n",
              "      <td>f</td>\n",
              "      <td>f</td>\n",
              "      <td>f</td>\n",
              "      <td>f</td>\n",
              "      <td>...</td>\n",
              "      <td>t</td>\n",
              "      <td>72</td>\n",
              "      <td>t</td>\n",
              "      <td>0.92</td>\n",
              "      <td>t</td>\n",
              "      <td>78</td>\n",
              "      <td>f</td>\n",
              "      <td>?</td>\n",
              "      <td>other</td>\n",
              "      <td>negative.|1595</td>\n",
              "    </tr>\n",
              "    <tr>\n",
              "      <th>7</th>\n",
              "      <td>80</td>\n",
              "      <td>F</td>\n",
              "      <td>f</td>\n",
              "      <td>f</td>\n",
              "      <td>f</td>\n",
              "      <td>f</td>\n",
              "      <td>f</td>\n",
              "      <td>f</td>\n",
              "      <td>f</td>\n",
              "      <td>f</td>\n",
              "      <td>...</td>\n",
              "      <td>t</td>\n",
              "      <td>80</td>\n",
              "      <td>t</td>\n",
              "      <td>0.7</td>\n",
              "      <td>t</td>\n",
              "      <td>115</td>\n",
              "      <td>f</td>\n",
              "      <td>?</td>\n",
              "      <td>SVI</td>\n",
              "      <td>negative.|1367</td>\n",
              "    </tr>\n",
              "    <tr>\n",
              "      <th>8</th>\n",
              "      <td>66</td>\n",
              "      <td>F</td>\n",
              "      <td>f</td>\n",
              "      <td>f</td>\n",
              "      <td>f</td>\n",
              "      <td>f</td>\n",
              "      <td>f</td>\n",
              "      <td>f</td>\n",
              "      <td>f</td>\n",
              "      <td>f</td>\n",
              "      <td>...</td>\n",
              "      <td>t</td>\n",
              "      <td>123</td>\n",
              "      <td>t</td>\n",
              "      <td>0.93</td>\n",
              "      <td>t</td>\n",
              "      <td>132</td>\n",
              "      <td>f</td>\n",
              "      <td>?</td>\n",
              "      <td>SVI</td>\n",
              "      <td>negative.|1787</td>\n",
              "    </tr>\n",
              "    <tr>\n",
              "      <th>9</th>\n",
              "      <td>68</td>\n",
              "      <td>M</td>\n",
              "      <td>f</td>\n",
              "      <td>f</td>\n",
              "      <td>f</td>\n",
              "      <td>f</td>\n",
              "      <td>f</td>\n",
              "      <td>f</td>\n",
              "      <td>f</td>\n",
              "      <td>f</td>\n",
              "      <td>...</td>\n",
              "      <td>t</td>\n",
              "      <td>83</td>\n",
              "      <td>t</td>\n",
              "      <td>0.89</td>\n",
              "      <td>t</td>\n",
              "      <td>93</td>\n",
              "      <td>f</td>\n",
              "      <td>?</td>\n",
              "      <td>SVI</td>\n",
              "      <td>negative.|2534</td>\n",
              "    </tr>\n",
              "  </tbody>\n",
              "</table>\n",
              "<p>10 rows × 30 columns</p>\n",
              "</div>\n",
              "      <button class=\"colab-df-convert\" onclick=\"convertToInteractive('df-b0a66f08-395f-40ad-b624-6a8caeaab9e5')\"\n",
              "              title=\"Convert this dataframe to an interactive table.\"\n",
              "              style=\"display:none;\">\n",
              "        \n",
              "  <svg xmlns=\"http://www.w3.org/2000/svg\" height=\"24px\"viewBox=\"0 0 24 24\"\n",
              "       width=\"24px\">\n",
              "    <path d=\"M0 0h24v24H0V0z\" fill=\"none\"/>\n",
              "    <path d=\"M18.56 5.44l.94 2.06.94-2.06 2.06-.94-2.06-.94-.94-2.06-.94 2.06-2.06.94zm-11 1L8.5 8.5l.94-2.06 2.06-.94-2.06-.94L8.5 2.5l-.94 2.06-2.06.94zm10 10l.94 2.06.94-2.06 2.06-.94-2.06-.94-.94-2.06-.94 2.06-2.06.94z\"/><path d=\"M17.41 7.96l-1.37-1.37c-.4-.4-.92-.59-1.43-.59-.52 0-1.04.2-1.43.59L10.3 9.45l-7.72 7.72c-.78.78-.78 2.05 0 2.83L4 21.41c.39.39.9.59 1.41.59.51 0 1.02-.2 1.41-.59l7.78-7.78 2.81-2.81c.8-.78.8-2.07 0-2.86zM5.41 20L4 18.59l7.72-7.72 1.47 1.35L5.41 20z\"/>\n",
              "  </svg>\n",
              "      </button>\n",
              "      \n",
              "  <style>\n",
              "    .colab-df-container {\n",
              "      display:flex;\n",
              "      flex-wrap:wrap;\n",
              "      gap: 12px;\n",
              "    }\n",
              "\n",
              "    .colab-df-convert {\n",
              "      background-color: #E8F0FE;\n",
              "      border: none;\n",
              "      border-radius: 50%;\n",
              "      cursor: pointer;\n",
              "      display: none;\n",
              "      fill: #1967D2;\n",
              "      height: 32px;\n",
              "      padding: 0 0 0 0;\n",
              "      width: 32px;\n",
              "    }\n",
              "\n",
              "    .colab-df-convert:hover {\n",
              "      background-color: #E2EBFA;\n",
              "      box-shadow: 0px 1px 2px rgba(60, 64, 67, 0.3), 0px 1px 3px 1px rgba(60, 64, 67, 0.15);\n",
              "      fill: #174EA6;\n",
              "    }\n",
              "\n",
              "    [theme=dark] .colab-df-convert {\n",
              "      background-color: #3B4455;\n",
              "      fill: #D2E3FC;\n",
              "    }\n",
              "\n",
              "    [theme=dark] .colab-df-convert:hover {\n",
              "      background-color: #434B5C;\n",
              "      box-shadow: 0px 1px 3px 1px rgba(0, 0, 0, 0.15);\n",
              "      filter: drop-shadow(0px 1px 2px rgba(0, 0, 0, 0.3));\n",
              "      fill: #FFFFFF;\n",
              "    }\n",
              "  </style>\n",
              "\n",
              "      <script>\n",
              "        const buttonEl =\n",
              "          document.querySelector('#df-b0a66f08-395f-40ad-b624-6a8caeaab9e5 button.colab-df-convert');\n",
              "        buttonEl.style.display =\n",
              "          google.colab.kernel.accessAllowed ? 'block' : 'none';\n",
              "\n",
              "        async function convertToInteractive(key) {\n",
              "          const element = document.querySelector('#df-b0a66f08-395f-40ad-b624-6a8caeaab9e5');\n",
              "          const dataTable =\n",
              "            await google.colab.kernel.invokeFunction('convertToInteractive',\n",
              "                                                     [key], {});\n",
              "          if (!dataTable) return;\n",
              "\n",
              "          const docLinkHtml = 'Like what you see? Visit the ' +\n",
              "            '<a target=\"_blank\" href=https://colab.research.google.com/notebooks/data_table.ipynb>data table notebook</a>'\n",
              "            + ' to learn more about interactive tables.';\n",
              "          element.innerHTML = '';\n",
              "          dataTable['output_type'] = 'display_data';\n",
              "          await google.colab.output.renderOutput(dataTable, element);\n",
              "          const docLink = document.createElement('div');\n",
              "          docLink.innerHTML = docLinkHtml;\n",
              "          element.appendChild(docLink);\n",
              "        }\n",
              "      </script>\n",
              "    </div>\n",
              "  </div>\n",
              "  "
            ]
          },
          "metadata": {},
          "execution_count": 584
        }
      ]
    },
    {
      "cell_type": "code",
      "source": [
        "d1.columns"
      ],
      "metadata": {
        "colab": {
          "base_uri": "https://localhost:8080/"
        },
        "id": "3HecXQrnxmxE",
        "outputId": "2a5b41a1-85ff-4465-cf09-ef0e1ba7f016"
      },
      "execution_count": 585,
      "outputs": [
        {
          "output_type": "execute_result",
          "data": {
            "text/plain": [
              "Int64Index([ 0,  1,  2,  3,  4,  5,  6,  7,  8,  9, 10, 11, 12, 13, 14, 15, 16,\n",
              "            17, 18, 19, 20, 21, 22, 23, 24, 25, 26, 27, 28, 29],\n",
              "           dtype='int64')"
            ]
          },
          "metadata": {},
          "execution_count": 585
        }
      ]
    },
    {
      "cell_type": "markdown",
      "source": [
        "The dataset appears to be without column names and I will have to add column names myself by using the provided ones by the UCI in order to proceed with the data exploration."
      ],
      "metadata": {
        "id": "yUfC85W-tTO6"
      }
    },
    {
      "cell_type": "code",
      "source": [
        "#the names were taken from the document provided by the UCI allbp.data\n",
        "columns=[\"age\",\"sex\",\"on thyroxine\",\"query on thyroxine\" ,\"on antithyroid medication\",\"sick\",\"pregnant\",\"thyroid surgery\",\"I131 treatment\" ,\"query hypothyroid\" ,\"query hyperthyroid\",\"lithium\" ,\"goitre\" ,\"tumor\",\"hypopituitary\",\"psych\",\"TSH m\",\"TSH\",\"T3 m\",\"T3\",\"TT4 m\",\"TT4\",\"T4U m\",\"T4U\",\"FTI m\",\"FTI\",\"TBG m\",\"TBG\",\"referral s\", \"Results\"]\n",
        "\n",
        "\n",
        "d1.columns = columns\n",
        "d2.columns = columns"
      ],
      "metadata": {
        "id": "2KApDKYWrAoW"
      },
      "execution_count": 586,
      "outputs": []
    },
    {
      "cell_type": "markdown",
      "source": [
        "## Data Types \n",
        "Now that I included the names of the columns the data exploration of the dataset will be more meaningful. First I will assess the data types of the values in each column."
      ],
      "metadata": {
        "id": "8Sy7r25Ep3Sn"
      }
    },
    {
      "cell_type": "code",
      "source": [
        "d1.info() # thyis will show me the data types "
      ],
      "metadata": {
        "colab": {
          "base_uri": "https://localhost:8080/"
        },
        "id": "CbOJw7NcyEau",
        "outputId": "9c5e4830-b84c-408f-a81f-962980855738"
      },
      "execution_count": 587,
      "outputs": [
        {
          "output_type": "stream",
          "name": "stdout",
          "text": [
            "<class 'pandas.core.frame.DataFrame'>\n",
            "RangeIndex: 2800 entries, 0 to 2799\n",
            "Data columns (total 30 columns):\n",
            " #   Column                     Non-Null Count  Dtype \n",
            "---  ------                     --------------  ----- \n",
            " 0   age                        2800 non-null   object\n",
            " 1   sex                        2800 non-null   object\n",
            " 2   on thyroxine               2800 non-null   object\n",
            " 3   query on thyroxine         2800 non-null   object\n",
            " 4   on antithyroid medication  2800 non-null   object\n",
            " 5   sick                       2800 non-null   object\n",
            " 6   pregnant                   2800 non-null   object\n",
            " 7   thyroid surgery            2800 non-null   object\n",
            " 8   I131 treatment             2800 non-null   object\n",
            " 9   query hypothyroid          2800 non-null   object\n",
            " 10  query hyperthyroid         2800 non-null   object\n",
            " 11  lithium                    2800 non-null   object\n",
            " 12  goitre                     2800 non-null   object\n",
            " 13  tumor                      2800 non-null   object\n",
            " 14  hypopituitary              2800 non-null   object\n",
            " 15  psych                      2800 non-null   object\n",
            " 16  TSH m                      2800 non-null   object\n",
            " 17  TSH                        2800 non-null   object\n",
            " 18  T3 m                       2800 non-null   object\n",
            " 19  T3                         2800 non-null   object\n",
            " 20  TT4 m                      2800 non-null   object\n",
            " 21  TT4                        2800 non-null   object\n",
            " 22  T4U m                      2800 non-null   object\n",
            " 23  T4U                        2800 non-null   object\n",
            " 24  FTI m                      2800 non-null   object\n",
            " 25  FTI                        2800 non-null   object\n",
            " 26  TBG m                      2800 non-null   object\n",
            " 27  TBG                        2800 non-null   object\n",
            " 28  referral s                 2800 non-null   object\n",
            " 29  Results                    2800 non-null   object\n",
            "dtypes: object(30)\n",
            "memory usage: 656.4+ KB\n"
          ]
        }
      ]
    },
    {
      "cell_type": "markdown",
      "source": [
        "Judging by the Dtype, I will have to reasess each column and transform each value into the numerical values. Luckily I was provided with the legend for each column, which I will use to iterate through the dataset and transform the variables into its respective integer or float values."
      ],
      "metadata": {
        "id": "TBTBLDCUub-P"
      }
    },
    {
      "cell_type": "markdown",
      "source": [
        "## Unique values\n",
        "Here I will check how many unique values each column has."
      ],
      "metadata": {
        "id": "TqULcfGZqz1z"
      }
    },
    {
      "cell_type": "code",
      "source": [
        "for i in d1.columns:\n",
        "  #print how many features it has\n",
        "  print(i, len(d1[i].unique()))"
      ],
      "metadata": {
        "colab": {
          "base_uri": "https://localhost:8080/"
        },
        "id": "AtoJ2txogbn8",
        "outputId": "740c91e1-7f8c-427b-d434-74350ebb1ed1"
      },
      "execution_count": 588,
      "outputs": [
        {
          "output_type": "stream",
          "name": "stdout",
          "text": [
            "age 94\n",
            "sex 3\n",
            "on thyroxine 2\n",
            "query on thyroxine 2\n",
            "on antithyroid medication 2\n",
            "sick 2\n",
            "pregnant 2\n",
            "thyroid surgery 2\n",
            "I131 treatment 2\n",
            "query hypothyroid 2\n",
            "query hyperthyroid 2\n",
            "lithium 2\n",
            "goitre 2\n",
            "tumor 2\n",
            "hypopituitary 2\n",
            "psych 2\n",
            "TSH m 2\n",
            "TSH 264\n",
            "T3 m 2\n",
            "T3 65\n",
            "TT4 m 2\n",
            "TT4 218\n",
            "T4U m 2\n",
            "T4U 139\n",
            "FTI m 2\n",
            "FTI 210\n",
            "TBG m 1\n",
            "TBG 1\n",
            "referral s 5\n",
            "Results 2800\n"
          ]
        }
      ]
    },
    {
      "cell_type": "markdown",
      "source": [
        "Even though the document provided by the UCI states that the target variable has only 3 unique values (increased binding protein, decreased binding protein, negative.), the dataset suggests otherwise so  I will have to transform the target value into its numerical correspondent value. "
      ],
      "metadata": {
        "id": "y8hqNujwiEnJ"
      }
    },
    {
      "cell_type": "code",
      "source": [
        "# now i will print how columns have less then 10 unique values\n",
        "for i in d1.columns:\n",
        "  if len(d1[i].unique())<10:\n",
        "    print(f\"{i} has {len(d1[i].unique())} unique values, Thses are: {d1[i].unique()} \")"
      ],
      "metadata": {
        "colab": {
          "base_uri": "https://localhost:8080/"
        },
        "id": "AZ5x7F_NmIis",
        "outputId": "759890f7-36ed-459e-869e-1095bca485c0"
      },
      "execution_count": 589,
      "outputs": [
        {
          "output_type": "stream",
          "name": "stdout",
          "text": [
            "sex has 3 unique values, Thses are: ['F' 'M' '?'] \n",
            "on thyroxine has 2 unique values, Thses are: ['f' 't'] \n",
            "query on thyroxine has 2 unique values, Thses are: ['f' 't'] \n",
            "on antithyroid medication has 2 unique values, Thses are: ['f' 't'] \n",
            "sick has 2 unique values, Thses are: ['f' 't'] \n",
            "pregnant has 2 unique values, Thses are: ['f' 't'] \n",
            "thyroid surgery has 2 unique values, Thses are: ['f' 't'] \n",
            "I131 treatment has 2 unique values, Thses are: ['f' 't'] \n",
            "query hypothyroid has 2 unique values, Thses are: ['f' 't'] \n",
            "query hyperthyroid has 2 unique values, Thses are: ['f' 't'] \n",
            "lithium has 2 unique values, Thses are: ['f' 't'] \n",
            "goitre has 2 unique values, Thses are: ['f' 't'] \n",
            "tumor has 2 unique values, Thses are: ['f' 't'] \n",
            "hypopituitary has 2 unique values, Thses are: ['f' 't'] \n",
            "psych has 2 unique values, Thses are: ['f' 't'] \n",
            "TSH m has 2 unique values, Thses are: ['t' 'f'] \n",
            "T3 m has 2 unique values, Thses are: ['t' 'f'] \n",
            "TT4 m has 2 unique values, Thses are: ['t' 'f'] \n",
            "T4U m has 2 unique values, Thses are: ['t' 'f'] \n",
            "FTI m has 2 unique values, Thses are: ['t' 'f'] \n",
            "TBG m has 1 unique values, Thses are: ['f'] \n",
            "TBG has 1 unique values, Thses are: ['?'] \n",
            "referral s has 5 unique values, Thses are: ['SVHC' 'other' 'SVI' 'STMW' 'SVHD'] \n"
          ]
        }
      ]
    },
    {
      "cell_type": "markdown",
      "source": [
        "it can be seen that the columns \"TBG m\" and \"TBG\" have only one unique value and will have no effect on the target data so those can be droped during the data pre-processing. Also according to the document provided by the UCI the \"refferal s column\" contains the data regarding where the data is comming from so this column also can be dropped since it has no relation to the target data."
      ],
      "metadata": {
        "id": "dSSHf7PXnKMr"
      }
    },
    {
      "cell_type": "markdown",
      "source": [
        "## Females Males Ratio\n",
        "Next, I will check what is the class distribution in the sex column."
      ],
      "metadata": {
        "id": "Bew6EozXujzX"
      }
    },
    {
      "cell_type": "code",
      "source": [
        "sex = d1[d1.sex==1].shape[0]\n",
        "print(\"Percentage of males in the dataset is\", round(sex/d1.shape[0],2)*100)"
      ],
      "metadata": {
        "colab": {
          "base_uri": "https://localhost:8080/"
        },
        "id": "nGY-sVRLnJBt",
        "outputId": "1b9e3a83-1a1f-419b-ce21-6423901fa1d7"
      },
      "execution_count": 590,
      "outputs": [
        {
          "output_type": "stream",
          "name": "stdout",
          "text": [
            "Percentage of males in the dataset is 0.0\n"
          ]
        }
      ]
    },
    {
      "cell_type": "markdown",
      "source": [
        "According to the function the majority of the dataset cases are femails."
      ],
      "metadata": {
        "id": "cE4V-LsPvbl2"
      }
    },
    {
      "cell_type": "markdown",
      "source": [
        "# **Data Pre-Processing**"
      ],
      "metadata": {
        "id": "aoq4_3VHxU82"
      }
    },
    {
      "cell_type": "markdown",
      "source": [
        "## Target Variable\n",
        "Fitrst i will deal with the target feature, according to the document provided by the UCI it can be separated into three categorical values  1 - (increased binding protein), 2 -(decreased binding protein), 0 - (negative). "
      ],
      "metadata": {
        "id": "i7IYBqx5X0XE"
      }
    },
    {
      "cell_type": "code",
      "source": [
        "# i iterate through the dataset in order to check the value\n",
        "# once the value of the string has been assessed it will be replaced by a corresponding variable\n",
        "for row in d1[\"Results\"]:\n",
        "  if \"decreased\" in str(row):\n",
        "    d1[\"Results\"] = d1[\"Results\"].replace(row, int(1))\n",
        "  elif \"increased\" in str(row):\n",
        "    d1[\"Results\"] = d1[\"Results\"].replace(row, int(2))\n",
        "  elif \"negative\" in str(row):\n",
        "    d1[\"Results\"] = d1[\"Results\"].replace(row, int(0))"
      ],
      "metadata": {
        "id": "Niho7csg3Zlc"
      },
      "execution_count": 591,
      "outputs": []
    },
    {
      "cell_type": "markdown",
      "source": [
        "\n",
        "## Rest of the columns\n",
        "Now I will proceed to transform the rest of the dataset into its numerical form by using the legend provided by the UCI.\n",
        "NOTE The missing values, which are represented with the “?” character will be assigned the value of NaN.\n"
      ],
      "metadata": {
        "id": "IJ_U89H2Zq_m"
      }
    },
    {
      "cell_type": "code",
      "source": [
        "\n",
        "for column in d1.columns:\n",
        "  for row in d1[column]:\n",
        "    \n",
        "    \n",
        "    if \"f\" in str(row):\n",
        "      d1[column] = d1[column].replace(row, int(0) )\n",
        "    elif \"t\" in str(row):\n",
        "      d1[column] = d1[column].replace(row, int(1) )\n",
        "    elif \"F\" in str(row):\n",
        "      d1[column] = d1[column].replace(row, int(0) )\n",
        "    elif \"M\" in str(row):\n",
        "      d1[column] = d1[column].replace(row, int(1) )\n",
        "\n",
        "\n",
        "\n"
      ],
      "metadata": {
        "id": "yE20vxW_xeSE"
      },
      "execution_count": 592,
      "outputs": []
    },
    {
      "cell_type": "markdown",
      "source": [
        "Next I will check again which columns have numerical values"
      ],
      "metadata": {
        "id": "8NalrZukuvMF"
      }
    },
    {
      "cell_type": "code",
      "source": [
        "d1.head(5)"
      ],
      "metadata": {
        "colab": {
          "base_uri": "https://localhost:8080/",
          "height": 0
        },
        "id": "MLrElQcQv1CM",
        "outputId": "c508c784-0a7b-44a8-9693-fd0cc7cf1f87"
      },
      "execution_count": 593,
      "outputs": [
        {
          "output_type": "execute_result",
          "data": {
            "text/plain": [
              "  age sex  on thyroxine  query on thyroxine  on antithyroid medication  sick  \\\n",
              "0  41   0             0                   0                          0     0   \n",
              "1  23   0             0                   0                          0     0   \n",
              "2  46   1             0                   0                          0     0   \n",
              "3  70   0             1                   0                          0     0   \n",
              "4  70   0             0                   0                          0     0   \n",
              "\n",
              "   pregnant  thyroid surgery  I131 treatment  query hypothyroid  ...  TT4 m  \\\n",
              "0         0                0               0                  0  ...      1   \n",
              "1         0                0               0                  0  ...      1   \n",
              "2         0                0               0                  0  ...      1   \n",
              "3         0                0               0                  0  ...      1   \n",
              "4         0                0               0                  0  ...      1   \n",
              "\n",
              "   TT4  T4U m   T4U  FTI m  FTI  TBG m TBG  referral s Results  \n",
              "0  125      1  1.14      1  109      0   ?        SVHC       0  \n",
              "1  102      0     ?      0    ?      0   ?           1       0  \n",
              "2  109      1  0.91      1  120      0   ?           1       0  \n",
              "3  175      0     ?      0    ?      0   ?           1       0  \n",
              "4   61      1  0.87      1   70      0   ?         SVI       0  \n",
              "\n",
              "[5 rows x 30 columns]"
            ],
            "text/html": [
              "\n",
              "  <div id=\"df-c14d567e-3544-4528-a1ad-1696a914022b\">\n",
              "    <div class=\"colab-df-container\">\n",
              "      <div>\n",
              "<style scoped>\n",
              "    .dataframe tbody tr th:only-of-type {\n",
              "        vertical-align: middle;\n",
              "    }\n",
              "\n",
              "    .dataframe tbody tr th {\n",
              "        vertical-align: top;\n",
              "    }\n",
              "\n",
              "    .dataframe thead th {\n",
              "        text-align: right;\n",
              "    }\n",
              "</style>\n",
              "<table border=\"1\" class=\"dataframe\">\n",
              "  <thead>\n",
              "    <tr style=\"text-align: right;\">\n",
              "      <th></th>\n",
              "      <th>age</th>\n",
              "      <th>sex</th>\n",
              "      <th>on thyroxine</th>\n",
              "      <th>query on thyroxine</th>\n",
              "      <th>on antithyroid medication</th>\n",
              "      <th>sick</th>\n",
              "      <th>pregnant</th>\n",
              "      <th>thyroid surgery</th>\n",
              "      <th>I131 treatment</th>\n",
              "      <th>query hypothyroid</th>\n",
              "      <th>...</th>\n",
              "      <th>TT4 m</th>\n",
              "      <th>TT4</th>\n",
              "      <th>T4U m</th>\n",
              "      <th>T4U</th>\n",
              "      <th>FTI m</th>\n",
              "      <th>FTI</th>\n",
              "      <th>TBG m</th>\n",
              "      <th>TBG</th>\n",
              "      <th>referral s</th>\n",
              "      <th>Results</th>\n",
              "    </tr>\n",
              "  </thead>\n",
              "  <tbody>\n",
              "    <tr>\n",
              "      <th>0</th>\n",
              "      <td>41</td>\n",
              "      <td>0</td>\n",
              "      <td>0</td>\n",
              "      <td>0</td>\n",
              "      <td>0</td>\n",
              "      <td>0</td>\n",
              "      <td>0</td>\n",
              "      <td>0</td>\n",
              "      <td>0</td>\n",
              "      <td>0</td>\n",
              "      <td>...</td>\n",
              "      <td>1</td>\n",
              "      <td>125</td>\n",
              "      <td>1</td>\n",
              "      <td>1.14</td>\n",
              "      <td>1</td>\n",
              "      <td>109</td>\n",
              "      <td>0</td>\n",
              "      <td>?</td>\n",
              "      <td>SVHC</td>\n",
              "      <td>0</td>\n",
              "    </tr>\n",
              "    <tr>\n",
              "      <th>1</th>\n",
              "      <td>23</td>\n",
              "      <td>0</td>\n",
              "      <td>0</td>\n",
              "      <td>0</td>\n",
              "      <td>0</td>\n",
              "      <td>0</td>\n",
              "      <td>0</td>\n",
              "      <td>0</td>\n",
              "      <td>0</td>\n",
              "      <td>0</td>\n",
              "      <td>...</td>\n",
              "      <td>1</td>\n",
              "      <td>102</td>\n",
              "      <td>0</td>\n",
              "      <td>?</td>\n",
              "      <td>0</td>\n",
              "      <td>?</td>\n",
              "      <td>0</td>\n",
              "      <td>?</td>\n",
              "      <td>1</td>\n",
              "      <td>0</td>\n",
              "    </tr>\n",
              "    <tr>\n",
              "      <th>2</th>\n",
              "      <td>46</td>\n",
              "      <td>1</td>\n",
              "      <td>0</td>\n",
              "      <td>0</td>\n",
              "      <td>0</td>\n",
              "      <td>0</td>\n",
              "      <td>0</td>\n",
              "      <td>0</td>\n",
              "      <td>0</td>\n",
              "      <td>0</td>\n",
              "      <td>...</td>\n",
              "      <td>1</td>\n",
              "      <td>109</td>\n",
              "      <td>1</td>\n",
              "      <td>0.91</td>\n",
              "      <td>1</td>\n",
              "      <td>120</td>\n",
              "      <td>0</td>\n",
              "      <td>?</td>\n",
              "      <td>1</td>\n",
              "      <td>0</td>\n",
              "    </tr>\n",
              "    <tr>\n",
              "      <th>3</th>\n",
              "      <td>70</td>\n",
              "      <td>0</td>\n",
              "      <td>1</td>\n",
              "      <td>0</td>\n",
              "      <td>0</td>\n",
              "      <td>0</td>\n",
              "      <td>0</td>\n",
              "      <td>0</td>\n",
              "      <td>0</td>\n",
              "      <td>0</td>\n",
              "      <td>...</td>\n",
              "      <td>1</td>\n",
              "      <td>175</td>\n",
              "      <td>0</td>\n",
              "      <td>?</td>\n",
              "      <td>0</td>\n",
              "      <td>?</td>\n",
              "      <td>0</td>\n",
              "      <td>?</td>\n",
              "      <td>1</td>\n",
              "      <td>0</td>\n",
              "    </tr>\n",
              "    <tr>\n",
              "      <th>4</th>\n",
              "      <td>70</td>\n",
              "      <td>0</td>\n",
              "      <td>0</td>\n",
              "      <td>0</td>\n",
              "      <td>0</td>\n",
              "      <td>0</td>\n",
              "      <td>0</td>\n",
              "      <td>0</td>\n",
              "      <td>0</td>\n",
              "      <td>0</td>\n",
              "      <td>...</td>\n",
              "      <td>1</td>\n",
              "      <td>61</td>\n",
              "      <td>1</td>\n",
              "      <td>0.87</td>\n",
              "      <td>1</td>\n",
              "      <td>70</td>\n",
              "      <td>0</td>\n",
              "      <td>?</td>\n",
              "      <td>SVI</td>\n",
              "      <td>0</td>\n",
              "    </tr>\n",
              "  </tbody>\n",
              "</table>\n",
              "<p>5 rows × 30 columns</p>\n",
              "</div>\n",
              "      <button class=\"colab-df-convert\" onclick=\"convertToInteractive('df-c14d567e-3544-4528-a1ad-1696a914022b')\"\n",
              "              title=\"Convert this dataframe to an interactive table.\"\n",
              "              style=\"display:none;\">\n",
              "        \n",
              "  <svg xmlns=\"http://www.w3.org/2000/svg\" height=\"24px\"viewBox=\"0 0 24 24\"\n",
              "       width=\"24px\">\n",
              "    <path d=\"M0 0h24v24H0V0z\" fill=\"none\"/>\n",
              "    <path d=\"M18.56 5.44l.94 2.06.94-2.06 2.06-.94-2.06-.94-.94-2.06-.94 2.06-2.06.94zm-11 1L8.5 8.5l.94-2.06 2.06-.94-2.06-.94L8.5 2.5l-.94 2.06-2.06.94zm10 10l.94 2.06.94-2.06 2.06-.94-2.06-.94-.94-2.06-.94 2.06-2.06.94z\"/><path d=\"M17.41 7.96l-1.37-1.37c-.4-.4-.92-.59-1.43-.59-.52 0-1.04.2-1.43.59L10.3 9.45l-7.72 7.72c-.78.78-.78 2.05 0 2.83L4 21.41c.39.39.9.59 1.41.59.51 0 1.02-.2 1.41-.59l7.78-7.78 2.81-2.81c.8-.78.8-2.07 0-2.86zM5.41 20L4 18.59l7.72-7.72 1.47 1.35L5.41 20z\"/>\n",
              "  </svg>\n",
              "      </button>\n",
              "      \n",
              "  <style>\n",
              "    .colab-df-container {\n",
              "      display:flex;\n",
              "      flex-wrap:wrap;\n",
              "      gap: 12px;\n",
              "    }\n",
              "\n",
              "    .colab-df-convert {\n",
              "      background-color: #E8F0FE;\n",
              "      border: none;\n",
              "      border-radius: 50%;\n",
              "      cursor: pointer;\n",
              "      display: none;\n",
              "      fill: #1967D2;\n",
              "      height: 32px;\n",
              "      padding: 0 0 0 0;\n",
              "      width: 32px;\n",
              "    }\n",
              "\n",
              "    .colab-df-convert:hover {\n",
              "      background-color: #E2EBFA;\n",
              "      box-shadow: 0px 1px 2px rgba(60, 64, 67, 0.3), 0px 1px 3px 1px rgba(60, 64, 67, 0.15);\n",
              "      fill: #174EA6;\n",
              "    }\n",
              "\n",
              "    [theme=dark] .colab-df-convert {\n",
              "      background-color: #3B4455;\n",
              "      fill: #D2E3FC;\n",
              "    }\n",
              "\n",
              "    [theme=dark] .colab-df-convert:hover {\n",
              "      background-color: #434B5C;\n",
              "      box-shadow: 0px 1px 3px 1px rgba(0, 0, 0, 0.15);\n",
              "      filter: drop-shadow(0px 1px 2px rgba(0, 0, 0, 0.3));\n",
              "      fill: #FFFFFF;\n",
              "    }\n",
              "  </style>\n",
              "\n",
              "      <script>\n",
              "        const buttonEl =\n",
              "          document.querySelector('#df-c14d567e-3544-4528-a1ad-1696a914022b button.colab-df-convert');\n",
              "        buttonEl.style.display =\n",
              "          google.colab.kernel.accessAllowed ? 'block' : 'none';\n",
              "\n",
              "        async function convertToInteractive(key) {\n",
              "          const element = document.querySelector('#df-c14d567e-3544-4528-a1ad-1696a914022b');\n",
              "          const dataTable =\n",
              "            await google.colab.kernel.invokeFunction('convertToInteractive',\n",
              "                                                     [key], {});\n",
              "          if (!dataTable) return;\n",
              "\n",
              "          const docLinkHtml = 'Like what you see? Visit the ' +\n",
              "            '<a target=\"_blank\" href=https://colab.research.google.com/notebooks/data_table.ipynb>data table notebook</a>'\n",
              "            + ' to learn more about interactive tables.';\n",
              "          element.innerHTML = '';\n",
              "          dataTable['output_type'] = 'display_data';\n",
              "          await google.colab.output.renderOutput(dataTable, element);\n",
              "          const docLink = document.createElement('div');\n",
              "          docLink.innerHTML = docLinkHtml;\n",
              "          element.appendChild(docLink);\n",
              "        }\n",
              "      </script>\n",
              "    </div>\n",
              "  </div>\n",
              "  "
            ]
          },
          "metadata": {},
          "execution_count": 593
        }
      ]
    },
    {
      "cell_type": "code",
      "source": [
        "d1.info()"
      ],
      "metadata": {
        "colab": {
          "base_uri": "https://localhost:8080/"
        },
        "id": "sI1S2Js6tlPt",
        "outputId": "cd688a68-1b72-43f9-e96b-65eae4505636"
      },
      "execution_count": 594,
      "outputs": [
        {
          "output_type": "stream",
          "name": "stdout",
          "text": [
            "<class 'pandas.core.frame.DataFrame'>\n",
            "RangeIndex: 2800 entries, 0 to 2799\n",
            "Data columns (total 30 columns):\n",
            " #   Column                     Non-Null Count  Dtype \n",
            "---  ------                     --------------  ----- \n",
            " 0   age                        2800 non-null   object\n",
            " 1   sex                        2800 non-null   object\n",
            " 2   on thyroxine               2800 non-null   int64 \n",
            " 3   query on thyroxine         2800 non-null   int64 \n",
            " 4   on antithyroid medication  2800 non-null   int64 \n",
            " 5   sick                       2800 non-null   int64 \n",
            " 6   pregnant                   2800 non-null   int64 \n",
            " 7   thyroid surgery            2800 non-null   int64 \n",
            " 8   I131 treatment             2800 non-null   int64 \n",
            " 9   query hypothyroid          2800 non-null   int64 \n",
            " 10  query hyperthyroid         2800 non-null   int64 \n",
            " 11  lithium                    2800 non-null   int64 \n",
            " 12  goitre                     2800 non-null   int64 \n",
            " 13  tumor                      2800 non-null   int64 \n",
            " 14  hypopituitary              2800 non-null   int64 \n",
            " 15  psych                      2800 non-null   int64 \n",
            " 16  TSH m                      2800 non-null   int64 \n",
            " 17  TSH                        2800 non-null   object\n",
            " 18  T3 m                       2800 non-null   int64 \n",
            " 19  T3                         2800 non-null   object\n",
            " 20  TT4 m                      2800 non-null   int64 \n",
            " 21  TT4                        2800 non-null   object\n",
            " 22  T4U m                      2800 non-null   int64 \n",
            " 23  T4U                        2800 non-null   object\n",
            " 24  FTI m                      2800 non-null   int64 \n",
            " 25  FTI                        2800 non-null   object\n",
            " 26  TBG m                      2800 non-null   int64 \n",
            " 27  TBG                        2800 non-null   object\n",
            " 28  referral s                 2800 non-null   object\n",
            " 29  Results                    2800 non-null   int64 \n",
            "dtypes: int64(21), object(9)\n",
            "memory usage: 656.4+ KB\n"
          ]
        }
      ]
    },
    {
      "cell_type": "markdown",
      "source": [
        "## Numerical Values as objects\n",
        "As can be seen from the functions above, the following columns [\"age\", \"TT4\", \"FTI\", \"TSH\", \"T3\", \"T4U\"] have numerical value which use an object datatype which has to be changed in order to fit it into the model, so I will transform those next."
      ],
      "metadata": {
        "id": "RyQK7fbQuLO5"
      }
    },
    {
      "cell_type": "code",
      "source": [
        "\n",
        "\n",
        "# I create a loop which iterate through each value in a defined column\n",
        "# then the if statement will wether the value is a \"?\"\n",
        "# once its been confirmed the value of the row is not a \"?\" it will proceed to replace the contents of the row with its numeric value\n",
        "# the said operations will be repeated for each column specified in the description  above   \n",
        "for row in d1[\"age\"]:\n",
        "  if str(row) != \"?\" :\n",
        "    d1[\"age\"] = d1[\"age\"].replace(row, int(row) )\n",
        "  \n",
        "    \n",
        "for row in d1[\"TT4\"]:\n",
        "  if str(row) != \"?\" :\n",
        "    d1[\"TT4\"] = d1[\"TT4\"].replace(row, float(row) )\n",
        " \n",
        "    \n",
        "for row in d1[\"FTI\"]:\n",
        "  if str(row) != \"?\" :\n",
        "    d1[\"FTI\"] = d1[\"FTI\"].replace(row, float(row) )\n",
        "    \n",
        "for row in d1[\"TSH\"]:\n",
        "  if str(row) != \"?\" :\n",
        "   d1[\"TSH\"] = d1[\"TSH\"].replace(row, float(row) )\n",
        "    \n",
        "for row in d1[\"T3\"]:\n",
        "  if str(row) != \"?\" :\n",
        "    d1[\"T3\"] = d1[\"T3\"].replace(row, float(row) )\n",
        "    \n",
        "\n",
        "for row in d1[\"T4U\"]:\n",
        "  if str(row) != \"?\" :\n",
        "    d1[\"T4U\"] = d1[\"T4U\"].replace(row, float(row) )\n",
        "    \n",
        "  "
      ],
      "metadata": {
        "id": "3Tbz4YtkvIk7"
      },
      "execution_count": 595,
      "outputs": []
    },
    {
      "cell_type": "markdown",
      "source": [
        "# **Identifying Missing values**\n",
        "Here I will deal with any missing data in the dataset, I would like to remind the reader that the missing values in this dataset are represented by the “?” character.\n"
      ],
      "metadata": {
        "id": "IAt6nhyKwr85"
      }
    },
    {
      "cell_type": "markdown",
      "source": [
        "## Sex column missing values\n",
        "As discovered in the quick data exploration the majority of the cases in the dataset are female patients, for this reason, I will replace any missing data with female values."
      ],
      "metadata": {
        "id": "e72AeU0wxPtP"
      }
    },
    {
      "cell_type": "code",
      "source": [
        "for row in d1[\"sex\"]:\n",
        "  if str(row) == \"?\" :\n",
        "    d1[\"sex\"] = d1[\"sex\"].replace(row, int(0) )"
      ],
      "metadata": {
        "id": "y2ULuUeZsybj"
      },
      "execution_count": 596,
      "outputs": []
    },
    {
      "cell_type": "markdown",
      "source": [
        "## Question mark to NaN\n",
        "\n",
        "Now I will proceed to transform the rest of the missing values to NaN.\n"
      ],
      "metadata": {
        "id": "Ank1iYIswXxg"
      }
    },
    {
      "cell_type": "code",
      "source": [
        "for column in d1.columns:\n",
        "  for row in d1[column]:\n",
        "    if \"?\" in str(row):\n",
        "      d1[column] = d1[column].replace(row, np.NaN )\n"
      ],
      "metadata": {
        "id": "2T66Q_DeswP6"
      },
      "execution_count": 597,
      "outputs": []
    },
    {
      "cell_type": "markdown",
      "source": [
        "Now that I have changed the values of the dataset, I will check the datatypes again. "
      ],
      "metadata": {
        "id": "7GVzGrbzaARp"
      }
    },
    {
      "cell_type": "code",
      "source": [
        "d1.info()"
      ],
      "metadata": {
        "colab": {
          "base_uri": "https://localhost:8080/"
        },
        "id": "jzOVXsy6Z_4X",
        "outputId": "17202557-61f8-40fb-db30-b2163d978638"
      },
      "execution_count": 598,
      "outputs": [
        {
          "output_type": "stream",
          "name": "stdout",
          "text": [
            "<class 'pandas.core.frame.DataFrame'>\n",
            "RangeIndex: 2800 entries, 0 to 2799\n",
            "Data columns (total 30 columns):\n",
            " #   Column                     Non-Null Count  Dtype  \n",
            "---  ------                     --------------  -----  \n",
            " 0   age                        2799 non-null   float64\n",
            " 1   sex                        2800 non-null   int64  \n",
            " 2   on thyroxine               2800 non-null   int64  \n",
            " 3   query on thyroxine         2800 non-null   int64  \n",
            " 4   on antithyroid medication  2800 non-null   int64  \n",
            " 5   sick                       2800 non-null   int64  \n",
            " 6   pregnant                   2800 non-null   int64  \n",
            " 7   thyroid surgery            2800 non-null   int64  \n",
            " 8   I131 treatment             2800 non-null   int64  \n",
            " 9   query hypothyroid          2800 non-null   int64  \n",
            " 10  query hyperthyroid         2800 non-null   int64  \n",
            " 11  lithium                    2800 non-null   int64  \n",
            " 12  goitre                     2800 non-null   int64  \n",
            " 13  tumor                      2800 non-null   int64  \n",
            " 14  hypopituitary              2800 non-null   int64  \n",
            " 15  psych                      2800 non-null   int64  \n",
            " 16  TSH m                      2800 non-null   int64  \n",
            " 17  TSH                        2516 non-null   float64\n",
            " 18  T3 m                       2800 non-null   int64  \n",
            " 19  T3                         2215 non-null   float64\n",
            " 20  TT4 m                      2800 non-null   int64  \n",
            " 21  TT4                        2616 non-null   float64\n",
            " 22  T4U m                      2800 non-null   int64  \n",
            " 23  T4U                        2503 non-null   float64\n",
            " 24  FTI m                      2800 non-null   int64  \n",
            " 25  FTI                        2505 non-null   float64\n",
            " 26  TBG m                      2800 non-null   int64  \n",
            " 27  TBG                        0 non-null      float64\n",
            " 28  referral s                 2800 non-null   object \n",
            " 29  Results                    2800 non-null   int64  \n",
            "dtypes: float64(7), int64(22), object(1)\n",
            "memory usage: 656.4+ KB\n"
          ]
        }
      ]
    },
    {
      "cell_type": "markdown",
      "source": [
        "Now that I dealt with the datatype of the values in the dataset I will check how many missing values."
      ],
      "metadata": {
        "id": "NC1bAcorcJaA"
      }
    },
    {
      "cell_type": "code",
      "source": [
        "d1.isnull().sum()"
      ],
      "metadata": {
        "colab": {
          "base_uri": "https://localhost:8080/"
        },
        "id": "NvJVPEB1y9eE",
        "outputId": "9bc184bd-30e5-4b24-bf5a-23366d93bc20"
      },
      "execution_count": 599,
      "outputs": [
        {
          "output_type": "execute_result",
          "data": {
            "text/plain": [
              "age                             1\n",
              "sex                             0\n",
              "on thyroxine                    0\n",
              "query on thyroxine              0\n",
              "on antithyroid medication       0\n",
              "sick                            0\n",
              "pregnant                        0\n",
              "thyroid surgery                 0\n",
              "I131 treatment                  0\n",
              "query hypothyroid               0\n",
              "query hyperthyroid              0\n",
              "lithium                         0\n",
              "goitre                          0\n",
              "tumor                           0\n",
              "hypopituitary                   0\n",
              "psych                           0\n",
              "TSH m                           0\n",
              "TSH                           284\n",
              "T3 m                            0\n",
              "T3                            585\n",
              "TT4 m                           0\n",
              "TT4                           184\n",
              "T4U m                           0\n",
              "T4U                           297\n",
              "FTI m                           0\n",
              "FTI                           295\n",
              "TBG m                           0\n",
              "TBG                          2800\n",
              "referral s                      0\n",
              "Results                         0\n",
              "dtype: int64"
            ]
          },
          "metadata": {},
          "execution_count": 599
        }
      ]
    },
    {
      "cell_type": "code",
      "source": [
        "for i in d1.columns:\n",
        "  #print how many features it has\n",
        "  print(i, len(d1[i].unique()))"
      ],
      "metadata": {
        "colab": {
          "base_uri": "https://localhost:8080/"
        },
        "id": "NL6d84kXyY0l",
        "outputId": "e78541b2-fed6-4f75-9b5a-e1b60bb81312"
      },
      "execution_count": 600,
      "outputs": [
        {
          "output_type": "stream",
          "name": "stdout",
          "text": [
            "age 94\n",
            "sex 2\n",
            "on thyroxine 2\n",
            "query on thyroxine 2\n",
            "on antithyroid medication 2\n",
            "sick 2\n",
            "pregnant 2\n",
            "thyroid surgery 2\n",
            "I131 treatment 2\n",
            "query hypothyroid 2\n",
            "query hyperthyroid 2\n",
            "lithium 2\n",
            "goitre 2\n",
            "tumor 2\n",
            "hypopituitary 2\n",
            "psych 2\n",
            "TSH m 2\n",
            "TSH 264\n",
            "T3 m 2\n",
            "T3 65\n",
            "TT4 m 2\n",
            "TT4 218\n",
            "T4U m 2\n",
            "T4U 139\n",
            "FTI m 2\n",
            "FTI 210\n",
            "TBG m 1\n",
            "TBG 1\n",
            "referral s 4\n",
            "Results 3\n"
          ]
        }
      ]
    },
    {
      "cell_type": "markdown",
      "source": [
        "As I can see none of the columns with the categorical variables have missing values so I will proceed to fill the missing values with the mean value."
      ],
      "metadata": {
        "id": "VAj2wZZ20HtD"
      }
    },
    {
      "cell_type": "markdown",
      "source": [
        "# **Dealing with the missing values**\n",
        "The function below will calculate the mean value for each column and use it to fill in all the missing values.Also, as discussed preciously, I will be dropping the \"refferal s\" feature which, according to the materials provided by the UCI, contains the origin of the information and has no effect on the Target value since it states where the data comes from, not the patients' origins. \n",
        "\n"
      ],
      "metadata": {
        "id": "9X6idNK4o9wY"
      }
    },
    {
      "cell_type": "code",
      "source": [
        "del d1[\"referral s\"]"
      ],
      "metadata": {
        "id": "rKXGlHg6-a7q"
      },
      "execution_count": 601,
      "outputs": []
    },
    {
      "cell_type": "code",
      "source": [
        "for column in d1.columns:\n",
        "  d1[column]=d1[column].fillna(d1[column].mean())\n",
        "\n"
      ],
      "metadata": {
        "id": "vdOOTTr651m3"
      },
      "execution_count": 602,
      "outputs": []
    },
    {
      "cell_type": "code",
      "source": [
        "d1.isnull().sum()"
      ],
      "metadata": {
        "colab": {
          "base_uri": "https://localhost:8080/"
        },
        "id": "3sOrehr_6ThW",
        "outputId": "323a35c3-d568-438f-845a-3c97835ac3b8"
      },
      "execution_count": 603,
      "outputs": [
        {
          "output_type": "execute_result",
          "data": {
            "text/plain": [
              "age                             0\n",
              "sex                             0\n",
              "on thyroxine                    0\n",
              "query on thyroxine              0\n",
              "on antithyroid medication       0\n",
              "sick                            0\n",
              "pregnant                        0\n",
              "thyroid surgery                 0\n",
              "I131 treatment                  0\n",
              "query hypothyroid               0\n",
              "query hyperthyroid              0\n",
              "lithium                         0\n",
              "goitre                          0\n",
              "tumor                           0\n",
              "hypopituitary                   0\n",
              "psych                           0\n",
              "TSH m                           0\n",
              "TSH                             0\n",
              "T3 m                            0\n",
              "T3                              0\n",
              "TT4 m                           0\n",
              "TT4                             0\n",
              "T4U m                           0\n",
              "T4U                             0\n",
              "FTI m                           0\n",
              "FTI                             0\n",
              "TBG m                           0\n",
              "TBG                          2800\n",
              "Results                         0\n",
              "dtype: int64"
            ]
          },
          "metadata": {},
          "execution_count": 603
        }
      ]
    },
    {
      "cell_type": "markdown",
      "source": [
        "# Removing Unnecessary Features\n",
        "\n",
        "As can be seen in the function above the TBG feature is composed exclusively of missing values, because the dataset has 2800 rows, for that reason I will be dropping that feature.\n"
      ],
      "metadata": {
        "id": "ThwMt7jO7L4J"
      }
    },
    {
      "cell_type": "code",
      "source": [
        "print(f\"the dataset has {d1.shape[0]} rows  and {d1.shape[1]} columns\")"
      ],
      "metadata": {
        "colab": {
          "base_uri": "https://localhost:8080/"
        },
        "id": "RDplTp6z8NEl",
        "outputId": "cde1f8c9-d556-4d1d-8e8c-bbb09c0bf6b1"
      },
      "execution_count": 604,
      "outputs": [
        {
          "output_type": "stream",
          "name": "stdout",
          "text": [
            "the dataset has 2800 rows  and 29 columns\n"
          ]
        }
      ]
    },
    {
      "cell_type": "code",
      "source": [
        "for i in d1.columns:\n",
        "  print(i, len(d1[i].unique()))\n"
      ],
      "metadata": {
        "colab": {
          "base_uri": "https://localhost:8080/"
        },
        "id": "MWXmWKv6zZDa",
        "outputId": "73ebee8f-5a4e-4867-9d8f-80f6df642ace"
      },
      "execution_count": 605,
      "outputs": [
        {
          "output_type": "stream",
          "name": "stdout",
          "text": [
            "age 94\n",
            "sex 2\n",
            "on thyroxine 2\n",
            "query on thyroxine 2\n",
            "on antithyroid medication 2\n",
            "sick 2\n",
            "pregnant 2\n",
            "thyroid surgery 2\n",
            "I131 treatment 2\n",
            "query hypothyroid 2\n",
            "query hyperthyroid 2\n",
            "lithium 2\n",
            "goitre 2\n",
            "tumor 2\n",
            "hypopituitary 2\n",
            "psych 2\n",
            "TSH m 2\n",
            "TSH 264\n",
            "T3 m 2\n",
            "T3 65\n",
            "TT4 m 2\n",
            "TT4 218\n",
            "T4U m 2\n",
            "T4U 139\n",
            "FTI m 2\n",
            "FTI 210\n",
            "TBG m 1\n",
            "TBG 1\n",
            "Results 3\n"
          ]
        }
      ]
    },
    {
      "cell_type": "markdown",
      "source": [
        "Also the features TBGm and TBG both have only one unique value so it is safe to drop these features as well since they will have no effect on the data."
      ],
      "metadata": {
        "id": "KEeZECMc80Th"
      }
    },
    {
      "cell_type": "code",
      "source": [
        "del d1[\"TBG m\"]  \n",
        "del d1[\"TBG\"]\n",
        "\n"
      ],
      "metadata": {
        "id": "aoIT5PVu6nWB"
      },
      "execution_count": 606,
      "outputs": []
    },
    {
      "cell_type": "markdown",
      "source": [
        "# Class Distribution\n",
        "In this section I will investigate the class distribution among the features of the dataset.\n"
      ],
      "metadata": {
        "id": "AXRD-cBZADqJ"
      }
    },
    {
      "cell_type": "markdown",
      "source": [
        "## Target Value"
      ],
      "metadata": {
        "id": "1ALq4LC_NGT6"
      }
    },
    {
      "cell_type": "code",
      "source": [
        "d1[\"Results\"].value_counts()"
      ],
      "metadata": {
        "colab": {
          "base_uri": "https://localhost:8080/"
        },
        "id": "nwSEb3_a2Qq8",
        "outputId": "b38e8660-5825-431e-e44e-2b03fdf9612e"
      },
      "execution_count": 607,
      "outputs": [
        {
          "output_type": "execute_result",
          "data": {
            "text/plain": [
              "0    2667\n",
              "2     124\n",
              "1       9\n",
              "Name: Results, dtype: int64"
            ]
          },
          "metadata": {},
          "execution_count": 607
        }
      ]
    },
    {
      "cell_type": "markdown",
      "source": [
        "Now i can see that my data is laregely imbalanced towards the negative cases. I will use seaborn bar plots to visualize the class distribution."
      ],
      "metadata": {
        "id": "g4RkO2xx2nSv"
      }
    },
    {
      "cell_type": "code",
      "source": [
        "pd.DataFrame({'Count':d1['Results'].value_counts()}).head(10)"
      ],
      "metadata": {
        "colab": {
          "base_uri": "https://localhost:8080/",
          "height": 143
        },
        "id": "TaOveTaxBfqm",
        "outputId": "525cdc94-78e7-4f39-fbb1-8389d1493c8a"
      },
      "execution_count": 608,
      "outputs": [
        {
          "output_type": "execute_result",
          "data": {
            "text/plain": [
              "   Count\n",
              "0   2667\n",
              "2    124\n",
              "1      9"
            ],
            "text/html": [
              "\n",
              "  <div id=\"df-261e7f4b-581f-4e6e-835f-b79c526c3082\">\n",
              "    <div class=\"colab-df-container\">\n",
              "      <div>\n",
              "<style scoped>\n",
              "    .dataframe tbody tr th:only-of-type {\n",
              "        vertical-align: middle;\n",
              "    }\n",
              "\n",
              "    .dataframe tbody tr th {\n",
              "        vertical-align: top;\n",
              "    }\n",
              "\n",
              "    .dataframe thead th {\n",
              "        text-align: right;\n",
              "    }\n",
              "</style>\n",
              "<table border=\"1\" class=\"dataframe\">\n",
              "  <thead>\n",
              "    <tr style=\"text-align: right;\">\n",
              "      <th></th>\n",
              "      <th>Count</th>\n",
              "    </tr>\n",
              "  </thead>\n",
              "  <tbody>\n",
              "    <tr>\n",
              "      <th>0</th>\n",
              "      <td>2667</td>\n",
              "    </tr>\n",
              "    <tr>\n",
              "      <th>2</th>\n",
              "      <td>124</td>\n",
              "    </tr>\n",
              "    <tr>\n",
              "      <th>1</th>\n",
              "      <td>9</td>\n",
              "    </tr>\n",
              "  </tbody>\n",
              "</table>\n",
              "</div>\n",
              "      <button class=\"colab-df-convert\" onclick=\"convertToInteractive('df-261e7f4b-581f-4e6e-835f-b79c526c3082')\"\n",
              "              title=\"Convert this dataframe to an interactive table.\"\n",
              "              style=\"display:none;\">\n",
              "        \n",
              "  <svg xmlns=\"http://www.w3.org/2000/svg\" height=\"24px\"viewBox=\"0 0 24 24\"\n",
              "       width=\"24px\">\n",
              "    <path d=\"M0 0h24v24H0V0z\" fill=\"none\"/>\n",
              "    <path d=\"M18.56 5.44l.94 2.06.94-2.06 2.06-.94-2.06-.94-.94-2.06-.94 2.06-2.06.94zm-11 1L8.5 8.5l.94-2.06 2.06-.94-2.06-.94L8.5 2.5l-.94 2.06-2.06.94zm10 10l.94 2.06.94-2.06 2.06-.94-2.06-.94-.94-2.06-.94 2.06-2.06.94z\"/><path d=\"M17.41 7.96l-1.37-1.37c-.4-.4-.92-.59-1.43-.59-.52 0-1.04.2-1.43.59L10.3 9.45l-7.72 7.72c-.78.78-.78 2.05 0 2.83L4 21.41c.39.39.9.59 1.41.59.51 0 1.02-.2 1.41-.59l7.78-7.78 2.81-2.81c.8-.78.8-2.07 0-2.86zM5.41 20L4 18.59l7.72-7.72 1.47 1.35L5.41 20z\"/>\n",
              "  </svg>\n",
              "      </button>\n",
              "      \n",
              "  <style>\n",
              "    .colab-df-container {\n",
              "      display:flex;\n",
              "      flex-wrap:wrap;\n",
              "      gap: 12px;\n",
              "    }\n",
              "\n",
              "    .colab-df-convert {\n",
              "      background-color: #E8F0FE;\n",
              "      border: none;\n",
              "      border-radius: 50%;\n",
              "      cursor: pointer;\n",
              "      display: none;\n",
              "      fill: #1967D2;\n",
              "      height: 32px;\n",
              "      padding: 0 0 0 0;\n",
              "      width: 32px;\n",
              "    }\n",
              "\n",
              "    .colab-df-convert:hover {\n",
              "      background-color: #E2EBFA;\n",
              "      box-shadow: 0px 1px 2px rgba(60, 64, 67, 0.3), 0px 1px 3px 1px rgba(60, 64, 67, 0.15);\n",
              "      fill: #174EA6;\n",
              "    }\n",
              "\n",
              "    [theme=dark] .colab-df-convert {\n",
              "      background-color: #3B4455;\n",
              "      fill: #D2E3FC;\n",
              "    }\n",
              "\n",
              "    [theme=dark] .colab-df-convert:hover {\n",
              "      background-color: #434B5C;\n",
              "      box-shadow: 0px 1px 3px 1px rgba(0, 0, 0, 0.15);\n",
              "      filter: drop-shadow(0px 1px 2px rgba(0, 0, 0, 0.3));\n",
              "      fill: #FFFFFF;\n",
              "    }\n",
              "  </style>\n",
              "\n",
              "      <script>\n",
              "        const buttonEl =\n",
              "          document.querySelector('#df-261e7f4b-581f-4e6e-835f-b79c526c3082 button.colab-df-convert');\n",
              "        buttonEl.style.display =\n",
              "          google.colab.kernel.accessAllowed ? 'block' : 'none';\n",
              "\n",
              "        async function convertToInteractive(key) {\n",
              "          const element = document.querySelector('#df-261e7f4b-581f-4e6e-835f-b79c526c3082');\n",
              "          const dataTable =\n",
              "            await google.colab.kernel.invokeFunction('convertToInteractive',\n",
              "                                                     [key], {});\n",
              "          if (!dataTable) return;\n",
              "\n",
              "          const docLinkHtml = 'Like what you see? Visit the ' +\n",
              "            '<a target=\"_blank\" href=https://colab.research.google.com/notebooks/data_table.ipynb>data table notebook</a>'\n",
              "            + ' to learn more about interactive tables.';\n",
              "          element.innerHTML = '';\n",
              "          dataTable['output_type'] = 'display_data';\n",
              "          await google.colab.output.renderOutput(dataTable, element);\n",
              "          const docLink = document.createElement('div');\n",
              "          docLink.innerHTML = docLinkHtml;\n",
              "          element.appendChild(docLink);\n",
              "        }\n",
              "      </script>\n",
              "    </div>\n",
              "  </div>\n",
              "  "
            ]
          },
          "metadata": {},
          "execution_count": 608
        }
      ]
    },
    {
      "cell_type": "code",
      "source": [
        "#1 - (increased binding protein), 2 -(decreased binding protein), 0 - (negative).\n",
        "# function to transform the labels for a better inrterpretation\n",
        "\n",
        "def cases(label):\n",
        "  if label == 1:\n",
        "    return \"incerased protein\"\n",
        "  elif label == 2:\n",
        "    return \"decreased protein\"\n",
        "  else:\n",
        "    return \"negative\""
      ],
      "metadata": {
        "id": "zneLUMAAFncU"
      },
      "execution_count": 609,
      "outputs": []
    },
    {
      "cell_type": "code",
      "source": [
        "import seaborn as sns\n",
        "\n",
        "\n",
        "\n",
        "#assign the target feature \n",
        "r = d1.copy()\n",
        "r[\"Results\"] = r[\"Results\"].apply(cases)\n",
        "results = r[\"Results\"]\n",
        "\n",
        "#prepare the plot\n",
        "sns.set_style(\"whitegrid\")\n",
        "plt.figure(figsize=(12,6))\n",
        "plt.hist(results,bins=39)\n",
        "#assign the name to the grath\n",
        "plt.title('Class Distribution')\n",
        "plt.xlabel('Separate cases')\n",
        "plt.ylabel('Count')\n",
        "plt.xticks(rotation=90)\n",
        "\n",
        "plt.show()"
      ],
      "metadata": {
        "colab": {
          "base_uri": "https://localhost:8080/",
          "height": 500
        },
        "id": "R_RGNYn-AzZW",
        "outputId": "16ac8560-c1a4-46fa-c811-3ac8939dc9f3"
      },
      "execution_count": 610,
      "outputs": [
        {
          "output_type": "display_data",
          "data": {
            "text/plain": [
              "<Figure size 864x432 with 1 Axes>"
            ],
            "image/png": "[encoded data removed]"
          },
          "metadata": {}
        }
      ]
    },
    {
      "cell_type": "markdown",
      "source": [
        "This graph presents that in my dataset I have mostly negative cases, some positive cases of the decreased binding protein and almost no cases of the increased binding protein."
      ],
      "metadata": {
        "id": "PYyEtP5YEswy"
      }
    },
    {
      "cell_type": "code",
      "source": [
        "# I will also present the class distribution of the target value using the percentages\n",
        "\n",
        "patients_withpo = len(d1[d1.Results == 1])\n",
        "patients_withper = len(d1[d1.Results == 2])\n",
        "patients_withn = len(d1[d1.Results == 0])\n",
        "print(f\"persentage of patients with increased binding protein is {round(patients_withpo/d1.shape[0]*100,2)}%\")\n",
        "print(f\"persentage of patients with decreased binding protein is {round(patients_withper/d1.shape[0]*100,2)}%\")\n",
        "print(f\"persentage of patients with negative is {round(patients_withn/d1.shape[0]*100,2)}%\")"
      ],
      "metadata": {
        "colab": {
          "base_uri": "https://localhost:8080/"
        },
        "id": "6NYv-RkTL2Vg",
        "outputId": "09cbda65-9cb1-4816-a9b8-87562c5605c9"
      },
      "execution_count": 611,
      "outputs": [
        {
          "output_type": "stream",
          "name": "stdout",
          "text": [
            "persentage of patients with increased binding protein is 0.32%\n",
            "persentage of patients with decreased binding protein is 4.43%\n",
            "persentage of patients with negative is 95.25%\n"
          ]
        }
      ]
    },
    {
      "cell_type": "markdown",
      "source": [
        "## Sex vs Target Value\n",
        "\n",
        "Next I will display the relationship between the target value and the sex of the patient by using seaborn."
      ],
      "metadata": {
        "id": "zHjJ03k421Z1"
      }
    },
    {
      "cell_type": "code",
      "source": [
        "\n",
        "#function to transform the labels for a better interpretation\n",
        "from sklearn.metrics.cluster import fowlkes_mallows_score\n",
        "def mF(label):\n",
        "  if label == 0:\n",
        "    return \"Females\"\n",
        "  else:\n",
        "    return \"Males\"\n"
      ],
      "metadata": {
        "id": "QeWuNoWhCaZH"
      },
      "execution_count": 612,
      "outputs": []
    },
    {
      "cell_type": "code",
      "source": [
        "import seaborn as sns\n",
        "#to display how many man are affected by the desease \n",
        "ds = d1[d1[\"sex\"] == 1]\n",
        "\n",
        "#to display how many weamen are affected by the desease \n",
        "ds2 = d1[d1[\"sex\"] == 0]\n",
        "\n",
        "\n",
        "ds[\"sex\"] = ds[\"sex\"].apply(mF)\n",
        "\n",
        "\n",
        "ds2[\"sex\"] = ds2[\"sex\"].apply(mF)\n",
        "\n",
        "\n",
        "\n",
        "\n",
        "\n",
        "\n",
        "\n",
        "\n",
        "\n",
        "sns.set(rc={\"figure.figsize\":(9,7)})\n",
        "\n",
        "\n",
        "sns.countplot(data = ds, x = \"sex\", hue=\"Results\")\n",
        "\n",
        "plt.title(\"Males v/s Results\")\n",
        "plt.show()\n",
        "sns.set(rc={\"figure.figsize\":(9,7)})\n",
        "\n",
        "\n",
        "sns.countplot(data = ds2, x = \"sex\", hue=\"Results\")\n",
        "\n",
        "plt.title(\"Females v/s Results\")\n",
        "plt.show()"
      ],
      "metadata": {
        "colab": {
          "base_uri": "https://localhost:8080/",
          "height": 1000
        },
        "id": "TGOvVynIzqWo",
        "outputId": "365fc048-90a6-495a-976b-035d9c0995ae"
      },
      "execution_count": 613,
      "outputs": [
        {
          "output_type": "stream",
          "name": "stderr",
          "text": [
            "<ipython-input-613-f36580c2c7d6>:9: SettingWithCopyWarning: \n",
            "A value is trying to be set on a copy of a slice from a DataFrame.\n",
            "Try using .loc[row_indexer,col_indexer] = value instead\n",
            "\n",
            "See the caveats in the documentation: https://pandas.pydata.org/pandas-docs/stable/user_guide/indexing.html#returning-a-view-versus-a-copy\n",
            "  ds[\"sex\"] = ds[\"sex\"].apply(mF)\n",
            "<ipython-input-613-f36580c2c7d6>:12: SettingWithCopyWarning: \n",
            "A value is trying to be set on a copy of a slice from a DataFrame.\n",
            "Try using .loc[row_indexer,col_indexer] = value instead\n",
            "\n",
            "See the caveats in the documentation: https://pandas.pydata.org/pandas-docs/stable/user_guide/indexing.html#returning-a-view-versus-a-copy\n",
            "  ds2[\"sex\"] = ds2[\"sex\"].apply(mF)\n"
          ]
        },
        {
          "output_type": "display_data",
          "data": {
            "text/plain": [
              "<Figure size 648x504 with 1 Axes>"
            ],
            "image/png": "[encoded data removed]"
          },
          "metadata": {}
        },
        {
          "output_type": "display_data",
          "data": {
            "text/plain": [
              "<Figure size 648x504 with 1 Axes>"
            ],
            "image/png": "[encoded data removed]"
          },
          "metadata": {}
        }
      ]
    },
    {
      "cell_type": "markdown",
      "source": [
        "Even though that there are more female than male patients in the dataset its still difficult to draw any significant conclusions due to the imbalanced nature of the data. But keeping in mind that there are twice as many female patients than males it can be concluded that the females and males are almost equally affected by this disease."
      ],
      "metadata": {
        "id": "XZnDRa953iFe"
      }
    },
    {
      "cell_type": "markdown",
      "source": [
        "# Preparing the data\n",
        "\n",
        "Now i will split the data into the x and y label to get it ready for the model training.\n"
      ],
      "metadata": {
        "id": "nPHE6Timi54Y"
      }
    },
    {
      "cell_type": "code",
      "source": [
        "x = d1.drop(\"Results\", axis = 1)\n",
        "y = d1[\"Results\"]\n",
        "\n",
        "\n",
        "print(type(x))\n",
        "print(type(y))\n",
        "\n"
      ],
      "metadata": {
        "colab": {
          "base_uri": "https://localhost:8080/"
        },
        "id": "xaURTFsk0KSF",
        "outputId": "5545ab6a-739f-49fa-a7b9-8efb83189f29"
      },
      "execution_count": 614,
      "outputs": [
        {
          "output_type": "stream",
          "name": "stdout",
          "text": [
            "<class 'pandas.core.frame.DataFrame'>\n",
            "<class 'pandas.core.series.Series'>\n"
          ]
        }
      ]
    },
    {
      "cell_type": "markdown",
      "source": [
        "## Dealing with undersampled data with SMOTE\n",
        "In this section I will deal with the datasets' imbalance by fully oversampling the data, I will increase minority classes to equal majority class cases’ amounts and assign them to a separate variable which will be used to train a model separately."
      ],
      "metadata": {
        "id": "ye__cNCgNwH0"
      }
    },
    {
      "cell_type": "code",
      "source": [
        "# import library\n",
        "from imblearn.over_sampling import SMOTE\n",
        "\n",
        "smote = SMOTE()\n",
        "\n",
        "# fit predictor and target variable\n",
        "x_smote, y_smote = smote.fit_resample(x, y)\n",
        "y_smote.value_counts()"
      ],
      "metadata": {
        "colab": {
          "base_uri": "https://localhost:8080/"
        },
        "id": "4jCtKAJJnvdS",
        "outputId": "1f849af0-e871-4034-876d-6339849cbfd8"
      },
      "execution_count": 615,
      "outputs": [
        {
          "output_type": "execute_result",
          "data": {
            "text/plain": [
              "0    2667\n",
              "2    2667\n",
              "1    2667\n",
              "Name: Results, dtype: int64"
            ]
          },
          "metadata": {},
          "execution_count": 615
        }
      ]
    },
    {
      "cell_type": "markdown",
      "source": [
        "The data now is balanced but widely superficial, before I split and fit the data I will create more oversampled cases to assess the impact that the oversampling has. "
      ],
      "metadata": {
        "id": "DZGBG49-js_1"
      }
    },
    {
      "cell_type": "markdown",
      "source": [
        "## Undersampling with NearMiss and then oversampling with Smote\n",
        "\n",
        "In order to assess how oversampling affects models' performance I will create more cases. I will first undersample the majority class with Near Miss and then oversample the minority classes with SMOTE."
      ],
      "metadata": {
        "id": "Yd8K0CJePFRj"
      }
    },
    {
      "cell_type": "code",
      "source": [
        "from imblearn.under_sampling import NearMiss\n",
        "\n",
        "#I will undersample the majority class to the 100 cases from 2800 \n",
        "nm = NearMiss({0:500})\n",
        "x_res, y_res = nm.fit_resample(x, y)\n",
        "\n",
        "\n",
        "y_res.value_counts()\n",
        "\n"
      ],
      "metadata": {
        "colab": {
          "base_uri": "https://localhost:8080/"
        },
        "id": "Q2c2wS-rn_UM",
        "outputId": "bcc99cc8-6d92-4664-fc77-b9ded0e03b19"
      },
      "execution_count": 616,
      "outputs": [
        {
          "output_type": "stream",
          "name": "stderr",
          "text": [
            "/usr/local/lib/python3.8/dist-packages/imblearn/utils/_validation.py:587: FutureWarning: Pass sampling_strategy={0: 500} as keyword args. From version 0.9 passing these as positional arguments will result in an error\n",
            "  warnings.warn(\n"
          ]
        },
        {
          "output_type": "execute_result",
          "data": {
            "text/plain": [
              "0    500\n",
              "2    124\n",
              "1      9\n",
              "Name: Results, dtype: int64"
            ]
          },
          "metadata": {},
          "execution_count": 616
        }
      ]
    },
    {
      "cell_type": "code",
      "source": [
        "#then i will oversample the minority cases to match the undersampled majority class\n",
        "\n",
        "x_resU, y_resU = smote.fit_resample(x_res, y_res)\n",
        "y_resU.value_counts()"
      ],
      "metadata": {
        "colab": {
          "base_uri": "https://localhost:8080/"
        },
        "id": "e-fn7yGvpU9n",
        "outputId": "39396680-7890-4626-cb80-1c468878fe97"
      },
      "execution_count": 617,
      "outputs": [
        {
          "output_type": "execute_result",
          "data": {
            "text/plain": [
              "0    500\n",
              "1    500\n",
              "2    500\n",
              "Name: Results, dtype: int64"
            ]
          },
          "metadata": {},
          "execution_count": 617
        }
      ]
    },
    {
      "cell_type": "markdown",
      "source": [
        "# Splitting the datat and training the models\n",
        "\n",
        "Here I will split the data of each case and  train different models, I will create three models, Logistic Regression, Decision Tree, and Random forest. I will assess the performance of each model in the evaluation section."
      ],
      "metadata": {
        "id": "_mnZuiVKQMKt"
      }
    },
    {
      "cell_type": "markdown",
      "source": [
        "##Models that use the No oversampling, splitting and fitting\n",
        "Here I will fit the data without any kind of data altering techniques. "
      ],
      "metadata": {
        "id": "I9U6N7d7e3rl"
      }
    },
    {
      "cell_type": "markdown",
      "source": [
        "### Spliting the data\n",
        "Due to the extreme class unbalanced data I will do the train test split  0.5. To make sure that all the classes of the target value are present in both training and testing set."
      ],
      "metadata": {
        "id": "z4UrIqrVxRKx"
      }
    },
    {
      "cell_type": "code",
      "source": [
        "#next i am splitting the data into the training and testing sets\n",
        "\n",
        "from matplotlib import axis\n",
        "from sklearn.model_selection import train_test_split\n",
        "x_trainN, x_testN, y_trainN, y_testN = train_test_split( x, y,test_size = 0.5, random_state = 0)"
      ],
      "metadata": {
        "id": "LoHOdtLsfbCd"
      },
      "execution_count": 618,
      "outputs": []
    },
    {
      "cell_type": "markdown",
      "source": [
        "I"
      ],
      "metadata": {
        "id": "F-yncOcs94Wj"
      }
    },
    {
      "cell_type": "markdown",
      "source": [
        "### Data Normalisation\n",
        "Since some of the data is greater then one it is a good idea to normalise the data to deal with the noise. And to improove the overall data quality."
      ],
      "metadata": {
        "id": "UrjGqZYNg3aP"
      }
    },
    {
      "cell_type": "code",
      "source": [
        "#normalising the data bu using klearn preproscessing normalize function\n",
        "from sklearn import preprocessing\n",
        "x_trainN = preprocessing.normalize(x_trainN)\n",
        "x_testN = preprocessing.normalize(x_testN)\n"
      ],
      "metadata": {
        "id": "rLK0ep1hfXdk"
      },
      "execution_count": 619,
      "outputs": []
    },
    {
      "cell_type": "markdown",
      "source": [
        "### Creating the model"
      ],
      "metadata": {
        "id": "qp_siZitjliB"
      }
    },
    {
      "cell_type": "code",
      "source": [
        "from sklearn.linear_model import LogisticRegression\n",
        "from sklearn.tree import DecisionTreeClassifier\n",
        "from sklearn.ensemble import RandomForestClassifier\n",
        "from sklearn.metrics import roc_curve, roc_auc_score\n",
        "\n",
        "#creating models\n",
        "cl1N = LogisticRegression(solver='lbfgs',max_iter=2000,class_weight='balanced')\n",
        "cl2N = DecisionTreeClassifier(random_state = 15)\n",
        "cl3N = RandomForestClassifier(n_estimators=500,random_state=15)\n"
      ],
      "metadata": {
        "id": "7zU2OepcfXdl"
      },
      "execution_count": 620,
      "outputs": []
    },
    {
      "cell_type": "markdown",
      "source": [
        "### Fitting the data"
      ],
      "metadata": {
        "id": "5Pnc-U4Djyrr"
      }
    },
    {
      "cell_type": "code",
      "source": [
        "#Training models\n",
        "logN = cl1N.fit(x_trainN, y_trainN)\n",
        "decN = cl2N.fit(x_trainN, y_trainN)\n",
        "forsN = cl3N.fit(x_trainN, y_trainN)"
      ],
      "metadata": {
        "id": "bgOyzDXse3Q1"
      },
      "execution_count": 621,
      "outputs": []
    },
    {
      "cell_type": "markdown",
      "source": [
        "The evaluation of the models will happen in the evaluation section, this would make it easyer to see the differences in the precision."
      ],
      "metadata": {
        "id": "iBFT8KyQ-gfd"
      }
    },
    {
      "cell_type": "markdown",
      "source": [
        "## Models that use the Smote full oversampled data\n",
        "Here I use the fully oversampled data to train the model, because the data is balanced I will make a will create the testing set of 30%. \n"
      ],
      "metadata": {
        "id": "U6uUg9EFd2kp"
      }
    },
    {
      "cell_type": "markdown",
      "source": [
        "### Splitting the data"
      ],
      "metadata": {
        "id": "rqYPupRow_Ob"
      }
    },
    {
      "cell_type": "code",
      "source": [
        "#splitting the data into the training and testing sets\n",
        "\n",
        "from matplotlib import axis\n",
        "from sklearn.model_selection import train_test_split\n",
        "x_train, x_test, y_train, y_test = train_test_split(x_smote,y_smote,test_size = 0.3, random_state = 0)"
      ],
      "metadata": {
        "id": "hj2Y3GMq02_d"
      },
      "execution_count": 622,
      "outputs": []
    },
    {
      "cell_type": "markdown",
      "source": [
        "### Data Normalisation\n"
      ],
      "metadata": {
        "id": "wfuO7RfWd_y1"
      }
    },
    {
      "cell_type": "code",
      "source": [
        "from sklearn import preprocessing\n",
        "#normalizing the data\n",
        "x_train = preprocessing.normalize(x_train)\n",
        "x_test = preprocessing.normalize(x_test)\n"
      ],
      "metadata": {
        "id": "1YoUA25q1ZDW"
      },
      "execution_count": 623,
      "outputs": []
    },
    {
      "cell_type": "markdown",
      "source": [
        "### Creating the models"
      ],
      "metadata": {
        "id": "VcK5wCgy55x8"
      }
    },
    {
      "cell_type": "code",
      "source": [
        "from sklearn.linear_model import LogisticRegression\n",
        "from sklearn.tree import DecisionTreeClassifier\n",
        "from sklearn.ensemble import RandomForestClassifier\n",
        "from sklearn.metrics import roc_curve, roc_auc_score\n",
        "\n",
        "#creating the models\n",
        "cl1 = LogisticRegression(solver='lbfgs',max_iter=4000,class_weight='balanced')\n",
        "cl2 = DecisionTreeClassifier(random_state = 15)\n",
        "cl3 = RandomForestClassifier(n_estimators=500,random_state=15)\n"
      ],
      "metadata": {
        "id": "f94StpaIj9vg"
      },
      "execution_count": 624,
      "outputs": []
    },
    {
      "cell_type": "markdown",
      "source": [],
      "metadata": {
        "id": "K8H27pa-_ngy"
      }
    },
    {
      "cell_type": "markdown",
      "source": [
        "### Fitting the data"
      ],
      "metadata": {
        "id": "kT0nv97YlAqG"
      }
    },
    {
      "cell_type": "code",
      "source": [
        "#training the models\n",
        "log = cl1.fit(x_train, y_train)\n",
        "dec = cl2.fit(x_train, y_train)\n",
        "fors = cl3.fit(x_train, y_train)\n",
        "\n",
        "# all the evaluation will happen in the evaluation section for easyer model assessment\n"
      ],
      "metadata": {
        "id": "wFkZILEb_KE7"
      },
      "execution_count": 625,
      "outputs": []
    },
    {
      "cell_type": "markdown",
      "source": [
        "## **Undersampling with NearMiss and then resampling with Smote**\n",
        "Here I use the fully oversampled data to train the model\n",
        "Here I will split the data that I first under sampled and then oversampled and use it to train the models.\n"
      ],
      "metadata": {
        "id": "nkmr4pcMn5ec"
      }
    },
    {
      "cell_type": "markdown",
      "source": [
        "### Splitting the data"
      ],
      "metadata": {
        "id": "NPzG5HP_xFes"
      }
    },
    {
      "cell_type": "code",
      "source": [
        "#next i am splitting the data into the training and testing sets\n",
        "\n",
        "from matplotlib import axis\n",
        "from sklearn.model_selection import train_test_split\n",
        "x_train1, x_test1, y_train1, y_test1 = train_test_split(x_resU,y_resU,test_size = 0.3, random_state = 0)"
      ],
      "metadata": {
        "id": "JaqR3CEIp7pO"
      },
      "execution_count": 626,
      "outputs": []
    },
    {
      "cell_type": "markdown",
      "source": [
        "### Data Normalisation\n"
      ],
      "metadata": {
        "id": "KqMs1Mbsl2PS"
      }
    },
    {
      "cell_type": "code",
      "source": [
        "from sklearn import preprocessing\n",
        "#normalizing the data \n",
        "x_train1 = preprocessing.normalize(x_train1)\n",
        "x_test1 = preprocessing.normalize(x_test1)\n"
      ],
      "metadata": {
        "id": "3OV_TpEsl--6"
      },
      "execution_count": 627,
      "outputs": []
    },
    {
      "cell_type": "markdown",
      "source": [
        "### Creating the models"
      ],
      "metadata": {
        "id": "NfNs6c2Rl2PT"
      }
    },
    {
      "cell_type": "code",
      "source": [
        "\n",
        "#creating the models\n",
        "cl4 = LogisticRegression(solver='lbfgs',max_iter=4000,class_weight='balanced')\n",
        "cl5 = DecisionTreeClassifier(random_state = 15)\n",
        "cl6 = RandomForestClassifier(n_estimators=500,random_state=15)"
      ],
      "metadata": {
        "id": "jnPPNBom_acP"
      },
      "execution_count": 628,
      "outputs": []
    },
    {
      "cell_type": "markdown",
      "source": [
        "### Fitting the data"
      ],
      "metadata": {
        "id": "lPIJA-jTl2PT"
      }
    },
    {
      "cell_type": "code",
      "source": [
        "#training the models\n",
        "log1 = cl4.fit(x_train1, y_train1)\n",
        "dec1 = cl5.fit(x_train1, y_train1)\n",
        "fors1 = cl6.fit(x_train1, y_train1)\n"
      ],
      "metadata": {
        "id": "ka_j0_N6pqwe"
      },
      "execution_count": 629,
      "outputs": []
    },
    {
      "cell_type": "markdown",
      "source": [
        "# **Evaluation of all models**\n",
        "In this section I will evaluate the performance of models in each section, I will used the feedback I will gather to decide on which model to use for the solution."
      ],
      "metadata": {
        "id": "H97cfdNdiTgc"
      }
    },
    {
      "cell_type": "code",
      "source": [
        "\n",
        "#i will use this function to assign values to the correct prediction part of the dictionaries i will creat\n",
        "#this function will check the dictionary vlues compare and them \n",
        "def myFunc(x,y):\n",
        "  if x == y:\n",
        "    return 1\n",
        "  else:\n",
        "    return 0"
      ],
      "metadata": {
        "id": "bQn3aN4i2Wxf"
      },
      "execution_count": 630,
      "outputs": []
    },
    {
      "cell_type": "markdown",
      "source": [
        "## Evaluation of the model that uses non resampled data"
      ],
      "metadata": {
        "id": "xa4ShqlOnksK"
      }
    },
    {
      "cell_type": "markdown",
      "source": [
        "The non-resampled dataset had to be split 50% to ensure the presence of all classes of the target variables in both sections of the split. Here I will display the value counts of each set."
      ],
      "metadata": {
        "id": "nuWtuFDOBQsB"
      }
    },
    {
      "cell_type": "code",
      "source": [
        "\n",
        "\n",
        "y_trainN.value_counts()"
      ],
      "metadata": {
        "colab": {
          "base_uri": "https://localhost:8080/"
        },
        "id": "HAKVhiA8u3uU",
        "outputId": "e5aa9a86-0fe4-46be-f1fd-733e9cf84807"
      },
      "execution_count": 631,
      "outputs": [
        {
          "output_type": "execute_result",
          "data": {
            "text/plain": [
              "0    1331\n",
              "2      61\n",
              "1       8\n",
              "Name: Results, dtype: int64"
            ]
          },
          "metadata": {},
          "execution_count": 631
        }
      ]
    },
    {
      "cell_type": "code",
      "source": [
        "\n",
        "y_testN.value_counts()"
      ],
      "metadata": {
        "colab": {
          "base_uri": "https://localhost:8080/"
        },
        "id": "ix-Tv9jjuswh",
        "outputId": "433197e1-bb30-4878-f59d-e973593fb680"
      },
      "execution_count": 632,
      "outputs": [
        {
          "output_type": "execute_result",
          "data": {
            "text/plain": [
              "0    1336\n",
              "2      63\n",
              "1       1\n",
              "Name: Results, dtype: int64"
            ]
          },
          "metadata": {},
          "execution_count": 632
        }
      ]
    },
    {
      "cell_type": "markdown",
      "source": [
        "The problem of the imbalance in this dataset is severe, as can be seen the testing dataset has only one instance of the first class."
      ],
      "metadata": {
        "id": "NLc0iUAKB2GC"
      }
    },
    {
      "cell_type": "code",
      "source": [
        "#predicting the data by using the testing x data \n",
        "\n",
        "ypred_lN = logN.predict(x_testN)\n",
        "ypred_dN = decN.predict(x_testN)\n",
        "ypred_fN = forsN.predict(x_testN)\n",
        "actN = y_testN\n",
        "#assigning variables to the separate dictionaries\n",
        "dnL = {\"Actual\":actN,\"Prediction\":ypred_lN, \"correct\":0}\n",
        "dnd = {\"Actual\":actN,\"Prediction\":ypred_dN, \"correct\":0}\n",
        "dnf = {\"Actual\":actN,\"Prediction\":ypred_fN, \"correct\":0}\n",
        "#transforming the format of the dictionaries into datasets \n",
        "dnl = pd.DataFrame(dnL)\n",
        "dnd = pd.DataFrame(dnd)\n",
        "dnf = pd.DataFrame(dnf)"
      ],
      "metadata": {
        "id": "3UgPCnCUn6Ms"
      },
      "execution_count": 633,
      "outputs": []
    },
    {
      "cell_type": "code",
      "source": [
        "#applying the myFunc to the results datasets to assess the accuracy\n",
        "dnl[\"correct\"] = dnl.apply(lambda x: myFunc(x.Actual, x.Prediction), axis = 1)\n",
        "dnd[\"correct\"] = dnd.apply(lambda x: myFunc(x.Actual, x.Prediction), axis = 1)\n",
        "dnf[\"correct\"] = dnf.apply(lambda x: myFunc(x.Actual, x.Prediction), axis = 1)"
      ],
      "metadata": {
        "id": "KE0Q93cfn6Mt"
      },
      "execution_count": 634,
      "outputs": []
    },
    {
      "cell_type": "code",
      "source": [
        "from sklearn.metrics import accuracy_score\n",
        "#using accuracy  score to assess the accuracy of the dataset\n",
        "print(f\"The Logistic Expression model accuracy on non resampled testing set is{round(accuracy_score(y_testN, ypred_lN),2)}\")\n",
        "print(f\"The Decision Tree Classifier model accuracy on non resampled testing set is{round(accuracy_score(y_testN, ypred_dN),2)}\")\n",
        "print(f\"The Random Forest Classifier model accuracy on testing non resampled testing set is{round(accuracy_score(y_testN, ypred_fN),2)}\")"
      ],
      "metadata": {
        "colab": {
          "base_uri": "https://localhost:8080/"
        },
        "outputId": "e11cfed7-f4d2-43cb-9649-8e1570183977",
        "id": "Ev3jTnsqn6Mt"
      },
      "execution_count": 635,
      "outputs": [
        {
          "output_type": "stream",
          "name": "stdout",
          "text": [
            "The Logistic Expression model accuracy on non resampled testing set is0.84\n",
            "The Decision Tree Classifier model accuracy on non resampled testing set is0.95\n",
            "The Random Forest Classifier model accuracy on testing non resampled testing set is0.97\n"
          ]
        }
      ]
    },
    {
      "cell_type": "markdown",
      "source": [
        "All the models seem to have high levels of accuracy the Random forest seems to be the highest."
      ],
      "metadata": {
        "id": "sZCRc1VXEqYU"
      }
    },
    {
      "cell_type": "code",
      "source": [
        "from sklearn.metrics import classification_report\n",
        "#using sklearn to find out the precision, f1 and recall\n",
        "print(f\"logistic reg{classification_report(y_testN, ypred_lN)}\")\n",
        "print(f\"decision treeg{classification_report(y_testN, ypred_dN)}\")\n",
        "print(f\"random forest{classification_report(y_testN, ypred_fN)}\")\n"
      ],
      "metadata": {
        "colab": {
          "base_uri": "https://localhost:8080/"
        },
        "outputId": "e1961b4a-66e9-48eb-b46d-5237d833dc04",
        "id": "WqUAezgvn6Mt"
      },
      "execution_count": 636,
      "outputs": [
        {
          "output_type": "stream",
          "name": "stdout",
          "text": [
            "logistic reg              precision    recall  f1-score   support\n",
            "\n",
            "           0       0.99      0.84      0.91      1336\n",
            "           1       0.01      1.00      0.03         1\n",
            "           2       0.27      0.87      0.41        63\n",
            "\n",
            "    accuracy                           0.84      1400\n",
            "   macro avg       0.43      0.90      0.45      1400\n",
            "weighted avg       0.96      0.84      0.89      1400\n",
            "\n",
            "decision treeg              precision    recall  f1-score   support\n",
            "\n",
            "           0       0.98      0.96      0.97      1336\n",
            "           1       0.00      0.00      0.00         1\n",
            "           2       0.50      0.59      0.54        63\n",
            "\n",
            "    accuracy                           0.95      1400\n",
            "   macro avg       0.49      0.52      0.50      1400\n",
            "weighted avg       0.96      0.95      0.95      1400\n",
            "\n",
            "random forest              precision    recall  f1-score   support\n",
            "\n",
            "           0       0.97      0.99      0.98      1336\n",
            "           1       0.00      0.00      0.00         1\n",
            "           2       0.74      0.46      0.57        63\n",
            "\n",
            "    accuracy                           0.97      1400\n",
            "   macro avg       0.57      0.48      0.52      1400\n",
            "weighted avg       0.96      0.97      0.96      1400\n",
            "\n"
          ]
        },
        {
          "output_type": "stream",
          "name": "stderr",
          "text": [
            "/usr/local/lib/python3.8/dist-packages/sklearn/metrics/_classification.py:1318: UndefinedMetricWarning: Precision and F-score are ill-defined and being set to 0.0 in labels with no predicted samples. Use `zero_division` parameter to control this behavior.\n",
            "  _warn_prf(average, modifier, msg_start, len(result))\n",
            "/usr/local/lib/python3.8/dist-packages/sklearn/metrics/_classification.py:1318: UndefinedMetricWarning: Precision and F-score are ill-defined and being set to 0.0 in labels with no predicted samples. Use `zero_division` parameter to control this behavior.\n",
            "  _warn_prf(average, modifier, msg_start, len(result))\n",
            "/usr/local/lib/python3.8/dist-packages/sklearn/metrics/_classification.py:1318: UndefinedMetricWarning: Precision and F-score are ill-defined and being set to 0.0 in labels with no predicted samples. Use `zero_division` parameter to control this behavior.\n",
            "  _warn_prf(average, modifier, msg_start, len(result))\n"
          ]
        }
      ]
    },
    {
      "cell_type": "markdown",
      "source": [
        "From the data above it can be seen that only Logistic regression was able to predict the one instance of the first class, even though the overall accuracy is high the precision and recall of the first- and second-class prediction is very low in all models."
      ],
      "metadata": {
        "id": "73YXyx_pDixx"
      }
    },
    {
      "cell_type": "code",
      "source": [
        "from sklearn.metrics import confusion_matrix\n",
        "print(f\"conf for L{confusion_matrix(y_testN, ypred_lN)}\")\n",
        "print(f\"conf for d{confusion_matrix(y_testN, ypred_dN)}\")\n",
        "print(f\"conf for f{confusion_matrix(y_testN, ypred_fN)}\")"
      ],
      "metadata": {
        "colab": {
          "base_uri": "https://localhost:8080/"
        },
        "outputId": "6807debc-cb26-4fbf-c5c9-be7dd286f132",
        "id": "pvnO5KsNn6Mt"
      },
      "execution_count": 637,
      "outputs": [
        {
          "output_type": "stream",
          "name": "stdout",
          "text": [
            "conf for L[[1118   70  148]\n",
            " [   0    1    0]\n",
            " [   8    0   55]]\n",
            "conf for d[[1289   10   37]\n",
            " [   1    0    0]\n",
            " [  26    0   37]]\n",
            "conf for f[[1326    0   10]\n",
            " [   1    0    0]\n",
            " [  34    0   29]]\n"
          ]
        }
      ]
    },
    {
      "cell_type": "code",
      "source": [
        "import seaborn as sns\n",
        "#logistic regression confusion matrix\n",
        "ax1 = sns.heatmap(confusion_matrix(y_testN, ypred_lN), annot = True, fmt = \"d\")\n",
        "\n"
      ],
      "metadata": {
        "colab": {
          "base_uri": "https://localhost:8080/",
          "height": 431
        },
        "outputId": "361fd399-3e35-4d18-ff2d-a42820ff128f",
        "id": "FA_Hy2qTn6Mt"
      },
      "execution_count": 638,
      "outputs": [
        {
          "output_type": "display_data",
          "data": {
            "text/plain": [
              "<Figure size 648x504 with 2 Axes>"
            ],
            "image/png": "[encoded data removed]"
          },
          "metadata": {}
        }
      ]
    },
    {
      "cell_type": "markdown",
      "source": [
        "Logistic regression has: 1118 of true negative predictions, 70 false negative predictions for the first class, and 148 false negative predictions second class. \n",
        "1 of true positive predictions first class, 0 false positive for the 0 class, and 0 false positives   for second class.\n",
        "\n",
        "55 of true positive predictions , 8 false positive for the 0 class, and 0 false positives for 2 class."
      ],
      "metadata": {
        "id": "vt9KNS4cG4te"
      }
    },
    {
      "cell_type": "code",
      "source": [
        "#dec tree confusion matrix\n",
        "\n",
        "ax2 = sns.heatmap(confusion_matrix(y_testN, ypred_dN), annot = True, fmt = \"d\")"
      ],
      "metadata": {
        "colab": {
          "base_uri": "https://localhost:8080/",
          "height": 431
        },
        "outputId": "b26b8713-4d16-4d2b-cad5-38391b01a9b6",
        "id": "DRHUmcRVn6Mt"
      },
      "execution_count": 639,
      "outputs": [
        {
          "output_type": "display_data",
          "data": {
            "text/plain": [
              "<Figure size 648x504 with 2 Axes>"
            ],
            "image/png": "[encoded data removed]"
          },
          "metadata": {}
        }
      ]
    },
    {
      "cell_type": "markdown",
      "source": [
        "Decision tree has \n",
        "\n",
        "1289 true negatives, 10 false negatives 1st class, 37 false negatives 2nd class,\n",
        "0 of true positive predictions 1st class, 1 false positive for the 0 class, and 0 false positives for 2nd class.\n",
        "\n",
        "37 of true positives 2nd class, 26 false positive for the 0 class, and 0 false positives for 1st class.\n",
        "\n",
        "\n"
      ],
      "metadata": {
        "id": "Jw29gGneRlTw"
      }
    },
    {
      "cell_type": "code",
      "source": [
        "#forest confusion matrix\n",
        "ax3 = sns.heatmap(confusion_matrix(y_testN, ypred_fN), annot = True, fmt = \"d\")"
      ],
      "metadata": {
        "colab": {
          "base_uri": "https://localhost:8080/",
          "height": 431
        },
        "outputId": "5633c600-2eae-470e-b4fc-b074078baa19",
        "id": "M3n5NXPLn6Mt"
      },
      "execution_count": 640,
      "outputs": [
        {
          "output_type": "display_data",
          "data": {
            "text/plain": [
              "<Figure size 648x504 with 2 Axes>"
            ],
            "image/png": "[encoded data removed]"
          },
          "metadata": {}
        }
      ]
    },
    {
      "cell_type": "markdown",
      "source": [
        "Random Forest has: \n",
        "\n",
        "1326 true negatives, 0 false negatives 1st class, 10 false negatives 2nd class\n",
        "0 of true positive predictions 1st class, 1 false positive for the 0 class, and 0 false positives for 2nd class.\n",
        "\n",
        "29 of true positives 2nd class, 34 false positive for the 0 class, and 0 false positives for 1st class."
      ],
      "metadata": {
        "id": "9nVE6B6ZSzbH"
      }
    },
    {
      "cell_type": "markdown",
      "source": [
        "Without splitting the data I would say that Regression has best performance being able to predict the only positive case of the first class it shows some promice, out of this case I will proceed with testing of this model on the real dataset. "
      ],
      "metadata": {
        "id": "fCVBzRm0j6ti"
      }
    },
    {
      "cell_type": "markdown",
      "source": [
        "## Evaluation NearMiss then Smote Resampling\n",
        "Here I will evaluate the models that were trained with SMOTE and NearMiss resampled data."
      ],
      "metadata": {
        "id": "IQ5ki2ycla5d"
      }
    },
    {
      "cell_type": "code",
      "source": [
        "#creating the prediction variables for each model\n",
        "\n",
        "ypred_l = log1.predict(x_test1)\n",
        "ypred_d = dec1.predict(x_test1)\n",
        "ypred_f = fors1.predict(x_test1)\n",
        "\n",
        "\n",
        "act1 = y_test1\n",
        "dicL = {\"Actual\":act1,\"Prediction\":ypred_l, \"correct\":0}\n",
        "dicd = {\"Actual\":act1,\"Prediction\":ypred_d, \"correct\":0}\n",
        "dicf = {\"Actual\":act1,\"Prediction\":ypred_f, \"correct\":0}\n",
        "dl = pd.DataFrame(dicL)\n",
        "dd = pd.DataFrame(dicd)\n",
        "df = pd.DataFrame(dicf)"
      ],
      "metadata": {
        "id": "NABEClm2pqwi"
      },
      "execution_count": 641,
      "outputs": []
    },
    {
      "cell_type": "code",
      "source": [
        "\n",
        "dl[\"correct\"] = dl.apply(lambda x: myFunc(x.Actual, x.Prediction), axis = 1)\n",
        "dd[\"correct\"] = dl.apply(lambda x: myFunc(x.Actual, x.Prediction), axis = 1)\n",
        "df[\"correct\"] = dl.apply(lambda x: myFunc(x.Actual, x.Prediction), axis = 1)"
      ],
      "metadata": {
        "id": "axFnzGMWpqwj"
      },
      "execution_count": 642,
      "outputs": []
    },
    {
      "cell_type": "code",
      "source": [
        "#accuracy score for each model in this section\n",
        "from sklearn.metrics import accuracy_score\n",
        "print(f\"The Logistic Expression model accuracy on Smote and NearMiss resampled testing set is{round(accuracy_score(y_test1, ypred_l),2)}\")\n",
        "print(f\"The Decision Tree Classifier model accuracy on Smote and NearMiss resampled testing set is{round(accuracy_score(y_test1, ypred_d),2)}\")\n",
        "print(f\"The Random Forest Classifier model accuracy on testing Smote and NearMiss resampled set is{round(accuracy_score(y_test1, ypred_f),2)}\")"
      ],
      "metadata": {
        "colab": {
          "base_uri": "https://localhost:8080/"
        },
        "outputId": "593523ed-590e-4abe-8544-6c4556fdd428",
        "id": "ygflUUIlpqwj"
      },
      "execution_count": 643,
      "outputs": [
        {
          "output_type": "stream",
          "name": "stdout",
          "text": [
            "The Logistic Expression model accuracy on Smote and NearMiss resampled testing set is0.91\n",
            "The Decision Tree Classifier model accuracy on Smote and NearMiss resampled testing set is0.98\n",
            "The Random Forest Classifier model accuracy on testing Smote and NearMiss resampled set is0.97\n"
          ]
        }
      ]
    },
    {
      "cell_type": "code",
      "source": [
        "from sklearn.metrics import classification_report\n",
        "#classificatio report to see the precision, f1-score and recall\n",
        "print(f\"logistic reg{classification_report(y_test1, ypred_l)}\")\n",
        "print(f\"decision treeg{classification_report(y_test1, ypred_d)}\")\n",
        "print(f\"random forest{classification_report(y_test1, ypred_f)}\")\n"
      ],
      "metadata": {
        "colab": {
          "base_uri": "https://localhost:8080/"
        },
        "outputId": "f22a7c32-96da-4f68-e209-8905228790ad",
        "id": "dXmF-eEFpqwj"
      },
      "execution_count": 644,
      "outputs": [
        {
          "output_type": "stream",
          "name": "stdout",
          "text": [
            "logistic reg              precision    recall  f1-score   support\n",
            "\n",
            "           0       0.85      0.88      0.86       146\n",
            "           1       0.91      0.94      0.93       142\n",
            "           2       0.97      0.91      0.94       162\n",
            "\n",
            "    accuracy                           0.91       450\n",
            "   macro avg       0.91      0.91      0.91       450\n",
            "weighted avg       0.91      0.91      0.91       450\n",
            "\n",
            "decision treeg              precision    recall  f1-score   support\n",
            "\n",
            "           0       0.98      0.95      0.97       146\n",
            "           1       0.96      1.00      0.98       142\n",
            "           2       0.99      0.98      0.99       162\n",
            "\n",
            "    accuracy                           0.98       450\n",
            "   macro avg       0.98      0.98      0.98       450\n",
            "weighted avg       0.98      0.98      0.98       450\n",
            "\n",
            "random forest              precision    recall  f1-score   support\n",
            "\n",
            "           0       0.95      0.97      0.96       146\n",
            "           1       0.97      1.00      0.98       142\n",
            "           2       1.00      0.95      0.97       162\n",
            "\n",
            "    accuracy                           0.97       450\n",
            "   macro avg       0.97      0.97      0.97       450\n",
            "weighted avg       0.97      0.97      0.97       450\n",
            "\n"
          ]
        }
      ]
    },
    {
      "cell_type": "markdown",
      "source": [
        "With the partial under and oversampling the models seem to behave a lot better with the precision scores towards 100 %"
      ],
      "metadata": {
        "id": "3J7ab-lMmLTM"
      }
    },
    {
      "cell_type": "code",
      "source": [
        "from sklearn.metrics import confusion_matrix\n",
        "print(f\"conf for L{confusion_matrix(y_test1, ypred_l)}\")\n",
        "print(f\"conf for d{confusion_matrix(y_test1, ypred_d)}\")\n",
        "print(f\"conf for f{confusion_matrix(y_test1, ypred_f)}\")"
      ],
      "metadata": {
        "colab": {
          "base_uri": "https://localhost:8080/"
        },
        "outputId": "a22f6f4a-692c-4ec4-cd15-fd37e2818746",
        "id": "v-QP5wGDpqwj"
      },
      "execution_count": 645,
      "outputs": [
        {
          "output_type": "stream",
          "name": "stdout",
          "text": [
            "conf for L[[128  13   5]\n",
            " [  8 134   0]\n",
            " [ 14   0 148]]\n",
            "conf for d[[139   6   1]\n",
            " [  0 142   0]\n",
            " [  3   0 159]]\n",
            "conf for f[[141   5   0]\n",
            " [  0 142   0]\n",
            " [  8   0 154]]\n"
          ]
        }
      ]
    },
    {
      "cell_type": "code",
      "source": [
        "import seaborn as sns\n",
        "#logistic regression confusion matrix\n",
        "ax1 = sns.heatmap(confusion_matrix(y_test1, ypred_l), annot = True, fmt = \"d\")\n",
        "\n"
      ],
      "metadata": {
        "colab": {
          "base_uri": "https://localhost:8080/",
          "height": 431
        },
        "outputId": "4664b525-83f9-4756-f2ac-5f27ec6c7388",
        "id": "BVfIz9KKpqwj"
      },
      "execution_count": 646,
      "outputs": [
        {
          "output_type": "display_data",
          "data": {
            "text/plain": [
              "<Figure size 648x504 with 2 Axes>"
            ],
            "image/png": "[encoded data removed]"
          },
          "metadata": {}
        }
      ]
    },
    {
      "cell_type": "markdown",
      "source": [
        "Logistic regression\n",
        "\n",
        "0 (127 true negatives, 13 false negatives 1st class,6 false negatives 2nd class.),\n",
        "\n",
        "1 (136 of true positive predictions 1st class, 6 false positives for the 0 class, and 0 false positives for 2nd class.,\n",
        " \n",
        "2 (153 of true positives 2nd class, 9 false positives for the 0 class, and 0 false positives for 1st class.)\n"
      ],
      "metadata": {
        "id": "Rw9VJgYhmtKk"
      }
    },
    {
      "cell_type": "code",
      "source": [
        "#dec tree confusion matrix\n",
        "\n",
        "ax2 = sns.heatmap(confusion_matrix(y_test1, ypred_d), annot = True, fmt = \"d\")"
      ],
      "metadata": {
        "colab": {
          "base_uri": "https://localhost:8080/",
          "height": 431
        },
        "outputId": "90bcbefd-47c5-44b7-ff63-af42abaf6ae1",
        "id": "NZgRMVaopqwj"
      },
      "execution_count": 647,
      "outputs": [
        {
          "output_type": "display_data",
          "data": {
            "text/plain": [
              "<Figure size 648x504 with 2 Axes>"
            ],
            "image/png": "[encoded data removed]"
          },
          "metadata": {}
        }
      ]
    },
    {
      "cell_type": "markdown",
      "source": [
        "Decision Tree\n",
        "\n",
        "0 (135 true negatives, 5 false negatives 1st class, 6 false negatives 2nd class.),\n",
        "\n",
        "1 (142 of true positive predictions 1st class, 0 false positives for the 0 class, and 0 false positives for 2nd class.,\n",
        "\n",
        "2 (159 of true positives 2nd class, 3 false positives for the 0 class, and 0 false positives for 1st class.)\n"
      ],
      "metadata": {
        "id": "XSTRbzugoGm9"
      }
    },
    {
      "cell_type": "code",
      "source": [
        "#forest confusion matrix\n",
        "ax3 = sns.heatmap(confusion_matrix(y_test1, ypred_f), annot = True, fmt = \"d\")"
      ],
      "metadata": {
        "colab": {
          "base_uri": "https://localhost:8080/",
          "height": 431
        },
        "outputId": "b10c4e74-d8fc-409a-9bdb-506bccb6a4d5",
        "id": "6pYuAG2zpqwj"
      },
      "execution_count": 648,
      "outputs": [
        {
          "output_type": "display_data",
          "data": {
            "text/plain": [
              "<Figure size 648x504 with 2 Axes>"
            ],
            "image/png": "[encoded data removed]"
          },
          "metadata": {}
        }
      ]
    },
    {
      "cell_type": "markdown",
      "source": [
        "Random forest\n",
        "\n",
        "0 (140 true negatives, 6 false negatives 1st class, 0 false negatives 2nd class.),\n",
        "\n",
        "1 (142 of true positive predictions 1st class, 0 false positives for the 0 class, and 0 false positives for 2nd class.,\n",
        "\n",
        "2 (161 of true positives 2nd class, 1 false positives for the 0 class, and 0 false positives for 1st class.)\n"
      ],
      "metadata": {
        "id": "DI9-_hg0ofCd"
      }
    },
    {
      "cell_type": "markdown",
      "source": [
        "Among the three models The Random forest seem to have best predictions with fewer false predictions then the other models. This model will be used for predictions on the real dataset."
      ],
      "metadata": {
        "id": "Vuszdppnplwf"
      }
    },
    {
      "cell_type": "markdown",
      "source": [
        "## Evaluation Smote oversampled"
      ],
      "metadata": {
        "id": "KlYEN60Ah71w"
      }
    },
    {
      "cell_type": "markdown",
      "source": [
        "Here I will evaluate the models that were trained with the fully oversampled dataset with smote. "
      ],
      "metadata": {
        "id": "GwM1moMh2XYF"
      }
    },
    {
      "cell_type": "code",
      "source": [
        "\n",
        "#creating the predictions\n",
        "ypred_l = log.predict(x_test)\n",
        "ypred_d = dec.predict(x_test)\n",
        "ypred_f = fors.predict(x_test)\n",
        "act = y_test\n",
        "dicL = {\"Actual\":act,\"Prediction\":ypred_l, \"correct\":0}\n",
        "dicd = {\"Actual\":act,\"Prediction\":ypred_d, \"correct\":0}\n",
        "dicf = {\"Actual\":act,\"Prediction\":ypred_f, \"correct\":0}\n",
        "dl = pd.DataFrame(dicL)\n",
        "dd = pd.DataFrame(dicd)\n",
        "df = pd.DataFrame(dicf)"
      ],
      "metadata": {
        "id": "ZCZTclsrA9EA"
      },
      "execution_count": 649,
      "outputs": []
    },
    {
      "cell_type": "code",
      "source": [
        "\n",
        "dl[\"correct\"] = dl.apply(lambda x: myFunc(x.Actual, x.Prediction), axis = 1)\n",
        "dd[\"correct\"] = dl.apply(lambda x: myFunc(x.Actual, x.Prediction), axis = 1)\n",
        "df[\"correct\"] = dl.apply(lambda x: myFunc(x.Actual, x.Prediction), axis = 1)"
      ],
      "metadata": {
        "id": "YXXBayyNCGLx"
      },
      "execution_count": 650,
      "outputs": []
    },
    {
      "cell_type": "code",
      "source": [
        "from sklearn.metrics import accuracy_score\n",
        "#creating the accuracy score\n",
        "print(f\"The Logistic Expression model accuracy  on the smote oversampled testing set is{round(accuracy_score(y_test, ypred_l),2)}\")\n",
        "print(f\"The Decision Tree Classifier model accuracy on the smote oversampled testing set is{round(accuracy_score(y_test, ypred_d),2)}\")\n",
        "print(f\"The Random Forest Classifier model accuracy on the smote oversampled testing set is{round(accuracy_score(y_test, ypred_f),2)}\")"
      ],
      "metadata": {
        "colab": {
          "base_uri": "https://localhost:8080/"
        },
        "id": "hesE568hCwRr",
        "outputId": "7e1fbab7-23c1-4e09-e9f1-601022e106c3"
      },
      "execution_count": 651,
      "outputs": [
        {
          "output_type": "stream",
          "name": "stdout",
          "text": [
            "The Logistic Expression model accuracy  on the smote oversampled testing set is0.93\n",
            "The Decision Tree Classifier model accuracy on the smote oversampled testing set is0.98\n",
            "The Random Forest Classifier model accuracy on the smote oversampled testing set is0.99\n"
          ]
        }
      ]
    },
    {
      "cell_type": "code",
      "source": [
        "from sklearn.metrics import classification_report\n",
        "print(f\"logistic reg smote oversampled{classification_report(y_test, ypred_l)}\")\n",
        "print(f\"decision treeg smote oversampled{classification_report(y_test, ypred_d)}\")\n",
        "print(f\"random forest smote oversampled{classification_report(y_test, ypred_f)}\")\n"
      ],
      "metadata": {
        "colab": {
          "base_uri": "https://localhost:8080/"
        },
        "id": "gie81ReZEFyE",
        "outputId": "d5191fe4-d354-476d-92a8-4929678f44e1"
      },
      "execution_count": 652,
      "outputs": [
        {
          "output_type": "stream",
          "name": "stdout",
          "text": [
            "logistic reg smote oversampled              precision    recall  f1-score   support\n",
            "\n",
            "           0       0.92      0.88      0.90       800\n",
            "           1       0.95      1.00      0.98       794\n",
            "           2       0.93      0.92      0.92       807\n",
            "\n",
            "    accuracy                           0.93      2401\n",
            "   macro avg       0.93      0.93      0.93      2401\n",
            "weighted avg       0.93      0.93      0.93      2401\n",
            "\n",
            "decision treeg smote oversampled              precision    recall  f1-score   support\n",
            "\n",
            "           0       0.96      0.96      0.96       800\n",
            "           1       0.99      1.00      1.00       794\n",
            "           2       0.97      0.96      0.97       807\n",
            "\n",
            "    accuracy                           0.98      2401\n",
            "   macro avg       0.98      0.98      0.98      2401\n",
            "weighted avg       0.98      0.98      0.98      2401\n",
            "\n",
            "random forest smote oversampled              precision    recall  f1-score   support\n",
            "\n",
            "           0       0.99      0.97      0.98       800\n",
            "           1       0.99      1.00      1.00       794\n",
            "           2       0.98      1.00      0.99       807\n",
            "\n",
            "    accuracy                           0.99      2401\n",
            "   macro avg       0.99      0.99      0.99      2401\n",
            "weighted avg       0.99      0.99      0.99      2401\n",
            "\n"
          ]
        }
      ]
    },
    {
      "cell_type": "code",
      "source": [
        "from sklearn.metrics import confusion_matrix\n",
        "print(f\"conf for L{confusion_matrix(y_test, ypred_l)}\")\n",
        "print(f\"conf for d{confusion_matrix(y_test, ypred_d)}\")\n",
        "print(f\"conf for f{confusion_matrix(y_test, ypred_f)}\")"
      ],
      "metadata": {
        "colab": {
          "base_uri": "https://localhost:8080/"
        },
        "id": "1gGFnnuJFIxZ",
        "outputId": "c214f8f9-b1d4-4a0d-8793-e25942b4cb19"
      },
      "execution_count": 653,
      "outputs": [
        {
          "output_type": "stream",
          "name": "stdout",
          "text": [
            "conf for L[[702  39  59]\n",
            " [  0 794   0]\n",
            " [ 64   0 743]]\n",
            "conf for d[[770   5  25]\n",
            " [  0 794   0]\n",
            " [ 29   0 778]]\n",
            "conf for f[[776   6  18]\n",
            " [  0 794   0]\n",
            " [  4   0 803]]\n"
          ]
        }
      ]
    },
    {
      "cell_type": "code",
      "source": [
        "import seaborn as sns\n",
        "#logistic regression confusion matrix\n",
        "ax1 = sns.heatmap(confusion_matrix(y_test, ypred_l), annot = True, fmt = \"d\")\n",
        "\n"
      ],
      "metadata": {
        "colab": {
          "base_uri": "https://localhost:8080/",
          "height": 431
        },
        "id": "GX3gE3XRFmtZ",
        "outputId": "27ee8323-0232-48f7-c0d8-e8013317d8e4"
      },
      "execution_count": 654,
      "outputs": [
        {
          "output_type": "display_data",
          "data": {
            "text/plain": [
              "<Figure size 648x504 with 2 Axes>"
            ],
            "image/png": "[encoded data removed]"
          },
          "metadata": {}
        }
      ]
    },
    {
      "cell_type": "markdown",
      "source": [
        "Logistic Regression\n",
        "\n",
        "0 (698 true negatives, 41 false negatives 1st class, 61 false negatives 2nd class.),\n",
        "\n",
        "1 (794 of true positive predictions 1st class, 0 false positives for the 0 class, and 0 false positives for 2nd class.,\n",
        "\n",
        "2 (735 of true positives 2nd class, 72 false positives for the 0 class, and 0 false positives for 1st class.)"
      ],
      "metadata": {
        "id": "mU1iF8u23D3B"
      }
    },
    {
      "cell_type": "code",
      "source": [
        "#dec tree confusion matrix\n",
        "\n",
        "ax2 = sns.heatmap(confusion_matrix(y_test, ypred_d), annot = True, fmt = \"d\")"
      ],
      "metadata": {
        "colab": {
          "base_uri": "https://localhost:8080/",
          "height": 431
        },
        "id": "SB5ylYIIGh5k",
        "outputId": "2d8efbe2-89d0-4745-f4c7-c5de8dbc4cc5"
      },
      "execution_count": 655,
      "outputs": [
        {
          "output_type": "display_data",
          "data": {
            "text/plain": [
              "<Figure size 648x504 with 2 Axes>"
            ],
            "image/png": "[encoded data removed]"
          },
          "metadata": {}
        }
      ]
    },
    {
      "cell_type": "markdown",
      "source": [
        "Decision Tree\n",
        "\n",
        "0 (769 true negatives, 5 false negatives 1st class, 26 false negatives 2nd class.),\n",
        "\n",
        "1 (794 of true positive predictions 1st class, 0 false positives for the 0 class, and 0 false positives for 2nd class.,\n",
        "\n",
        "2 (785 of true positives 2nd class, 22 false positives for the 0 class, and 0 false positives for 1st class.)"
      ],
      "metadata": {
        "id": "aY5fX-yC3c-L"
      }
    },
    {
      "cell_type": "code",
      "source": [
        "#forest confusion matrix\n",
        "ax3 = sns.heatmap(confusion_matrix(y_test, ypred_f), annot = True, fmt = \"d\")"
      ],
      "metadata": {
        "colab": {
          "base_uri": "https://localhost:8080/",
          "height": 433
        },
        "id": "Tf1aRNJqGrM9",
        "outputId": "a407aa46-5ec3-46e2-eff0-44d2802428cc"
      },
      "execution_count": 656,
      "outputs": [
        {
          "output_type": "display_data",
          "data": {
            "text/plain": [
              "<Figure size 648x504 with 2 Axes>"
            ],
            "image/png": "[encoded data removed]"
          },
          "metadata": {}
        }
      ]
    },
    {
      "cell_type": "markdown",
      "source": [
        "Random Forest\n",
        "\n",
        "0 (777 true negatives, 6 false negatives 1st class, 17 false negatives 2nd class.),\n",
        "\n",
        "1 (794 of true positive predictions 1st class, 0 false positives for the 0 class, and 0 false positives for 2nd class.,\n",
        "\n",
        "2 (803 of true positives 2nd class, 4 false positives for the 0 class, and 0 false positives for 1st class.)"
      ],
      "metadata": {
        "id": "2s4F_Nz13ujd"
      }
    },
    {
      "cell_type": "markdown",
      "source": [
        "Among the models in this section, the best performing one apperas to be Random Forest. With fewer false positives and more true values."
      ],
      "metadata": {
        "id": "GXB8rVPU4BR3"
      }
    },
    {
      "cell_type": "markdown",
      "source": [
        "# **Preparing the new dataset**\n",
        "I will have to process the second dataset the same way I processed the main dataset."
      ],
      "metadata": {
        "id": "J-Ww0iQCeo55"
      }
    },
    {
      "cell_type": "code",
      "source": [
        "# i iterate through the dataset in order to check the value\n",
        "# once the value of the string has been assessed it will be replaced by a corresponding variable\n",
        "for row in d2[\"Results\"]:\n",
        "  if \"decreased\" in str(row):\n",
        "    d2[\"Results\"] = d2[\"Results\"].replace(row, int(1))\n",
        "  elif \"increased\" in str(row):\n",
        "    d2[\"Results\"] = d2[\"Results\"].replace(row, int(2))\n",
        "  elif \"negative\" in str(row):\n",
        "    d2[\"Results\"] = d2[\"Results\"].replace(row, int(0))"
      ],
      "metadata": {
        "id": "wFDFFSf7euRQ"
      },
      "execution_count": 657,
      "outputs": []
    },
    {
      "cell_type": "code",
      "source": [
        "d2[\"Results\"].value_counts()"
      ],
      "metadata": {
        "colab": {
          "base_uri": "https://localhost:8080/"
        },
        "id": "7dUfEK5ytkIK",
        "outputId": "a0983504-f458-4444-c488-f4cac08e0b11"
      },
      "execution_count": 678,
      "outputs": [
        {
          "output_type": "execute_result",
          "data": {
            "text/plain": [
              "0    942\n",
              "2     25\n",
              "1      5\n",
              "Name: Results, dtype: int64"
            ]
          },
          "metadata": {},
          "execution_count": 678
        }
      ]
    },
    {
      "cell_type": "code",
      "source": [
        "d2.shape[0]"
      ],
      "metadata": {
        "colab": {
          "base_uri": "https://localhost:8080/"
        },
        "id": "RK-uL0kSt636",
        "outputId": "d8274e22-8ca4-4ed3-a404-209d760c9c45"
      },
      "execution_count": 680,
      "outputs": [
        {
          "output_type": "execute_result",
          "data": {
            "text/plain": [
              "972"
            ]
          },
          "metadata": {},
          "execution_count": 680
        }
      ]
    },
    {
      "cell_type": "code",
      "source": [
        "\n",
        "for column in d2.columns:\n",
        "  for row in d2[column]:\n",
        "    \n",
        "    \n",
        "    if \"f\" in str(row):\n",
        "      d2[column] = d2[column].replace(row, int(0) )\n",
        "    elif \"t\" in str(row):\n",
        "      d2[column] = d2[column].replace(row, int(1) )\n",
        "    \n",
        "      \n",
        "    elif \"F\" in str(row):\n",
        "      d2[column] = d2[column].replace(row, int(0) )\n",
        "    elif \"M\" in str(row):\n",
        "      d2[column] = d2[column].replace(row, int(1) )\n",
        "\n",
        "\n",
        "\n"
      ],
      "metadata": {
        "id": "4btbAy36euRR"
      },
      "execution_count": 658,
      "outputs": []
    },
    {
      "cell_type": "code",
      "source": [
        "\n",
        "\n",
        "# I create a loop which iterate through each value in a defined column\n",
        "# then the if statement will wether the value is a \"?\"\n",
        "# once its been confirmed the value of the row is not a \"?\" it will proceed to replace the contents of the row with its numeric value\n",
        "# the said operations will be repeated for each column specified in the description  above   \n",
        "for row in d2[\"age\"]:\n",
        "  if str(row) != \"?\" :\n",
        "    d2[\"age\"] = d2[\"age\"].replace(row, int(row) )\n",
        "  \n",
        "    \n",
        "for row in d2[\"TT4\"]:\n",
        "  if str(row) != \"?\" :\n",
        "    d2[\"TT4\"] = d2[\"TT4\"].replace(row, float(row) )\n",
        " \n",
        "    \n",
        "for row in d2[\"FTI\"]:\n",
        "  if str(row) != \"?\" :\n",
        "    d2[\"FTI\"] = d2[\"FTI\"].replace(row, float(row) )\n",
        "    \n",
        "for row in d2[\"TSH\"]:\n",
        "  if str(row) != \"?\" :\n",
        "   d2[\"TSH\"] = d2[\"TSH\"].replace(row, float(row) )\n",
        "    \n",
        "for row in d2[\"T3\"]:\n",
        "  if str(row) != \"?\" :\n",
        "    d2[\"T3\"] = d2[\"T3\"].replace(row, float(row) )\n",
        "    \n",
        "\n",
        "for row in d2[\"T4U\"]:\n",
        "  if str(row) != \"?\" :\n",
        "    d2[\"T4U\"] = d2[\"T4U\"].replace(row, float(row) )\n",
        "    \n",
        "  "
      ],
      "metadata": {
        "id": "wSy991X-euRR"
      },
      "execution_count": 659,
      "outputs": []
    },
    {
      "cell_type": "code",
      "source": [
        "for row in d2[\"sex\"]:\n",
        "  if str(row) == \"?\" :\n",
        "    d2[\"sex\"] = d2[\"sex\"].replace(row, int(0) )"
      ],
      "metadata": {
        "id": "kA_qLZ1weuRR"
      },
      "execution_count": 660,
      "outputs": []
    },
    {
      "cell_type": "code",
      "source": [
        "for column in d2.columns:\n",
        "  for row in d2[column]:\n",
        "    if \"?\" in str(row):\n",
        "      d2[column] = d2[column].replace(row, np.NaN )\n"
      ],
      "metadata": {
        "id": "h18gKi-EeuRR"
      },
      "execution_count": 661,
      "outputs": []
    },
    {
      "cell_type": "code",
      "source": [
        "del d2[\"referral s\"]\n",
        "del d2[\"TBG\"]\n"
      ],
      "metadata": {
        "id": "JNsOzXdWgxBP"
      },
      "execution_count": 662,
      "outputs": []
    },
    {
      "cell_type": "code",
      "source": [
        "del d2[\"TBG m\"]"
      ],
      "metadata": {
        "id": "buyMP4bKx9WE"
      },
      "execution_count": 663,
      "outputs": []
    },
    {
      "cell_type": "code",
      "source": [
        "for column in d2.columns:\n",
        "  d2[column]=d2[column].fillna(d2[column].mean())"
      ],
      "metadata": {
        "id": "c8aUHEZpgw8h"
      },
      "execution_count": 664,
      "outputs": []
    },
    {
      "cell_type": "markdown",
      "source": [
        "# Cross Dataset Evaluation\n",
        "From each evaluation stage I selected a model, now I will use those models on a separate dataset to test its performance. "
      ],
      "metadata": {
        "id": "0gGGY_xB6FmH"
      }
    },
    {
      "cell_type": "markdown",
      "source": [
        "## Predicting variables"
      ],
      "metadata": {
        "id": "N8e2fG-G77xf"
      }
    },
    {
      "cell_type": "code",
      "source": [
        "#defining the x and y values\n",
        "\n",
        "xr = d2.drop(\"Results\", axis = 1)\n",
        "yr = d2[\"Results\"]\n",
        "\n",
        "\n"
      ],
      "metadata": {
        "id": "-kxsJDw7hPhy"
      },
      "execution_count": 665,
      "outputs": []
    },
    {
      "cell_type": "code",
      "source": [
        "#predicting the values using the new data on the selected models\n",
        "ypN = logN.predict(xr)\n",
        "ypMS = fors1.predict(xr)\n",
        "ypS = fors.predict(xr)"
      ],
      "metadata": {
        "colab": {
          "base_uri": "https://localhost:8080/"
        },
        "id": "fpF43h0h8XZx",
        "outputId": "fc0a4a43-08cb-41c8-c45b-b1f93ebd4b25"
      },
      "execution_count": 676,
      "outputs": [
        {
          "output_type": "stream",
          "name": "stderr",
          "text": [
            "/usr/local/lib/python3.8/dist-packages/sklearn/base.py:443: UserWarning: X has feature names, but LogisticRegression was fitted without feature names\n",
            "  warnings.warn(\n",
            "/usr/local/lib/python3.8/dist-packages/sklearn/base.py:443: UserWarning: X has feature names, but RandomForestClassifier was fitted without feature names\n",
            "  warnings.warn(\n",
            "/usr/local/lib/python3.8/dist-packages/sklearn/base.py:443: UserWarning: X has feature names, but RandomForestClassifier was fitted without feature names\n",
            "  warnings.warn(\n"
          ]
        }
      ]
    },
    {
      "cell_type": "markdown",
      "source": [
        "## Evaluating the models' performance"
      ],
      "metadata": {
        "id": "nnDTIt4j9VB0"
      }
    },
    {
      "cell_type": "markdown",
      "source": [
        "##Accuracy scores"
      ],
      "metadata": {
        "id": "sUqB7M3O9zaF"
      }
    },
    {
      "cell_type": "code",
      "source": [
        "#the accuracy scores for each selected model\n",
        "\n",
        "print(f\"The Logistic Expression model trained on non resampled dataset{round(accuracy_score(yr, ypN),2)}\")\n",
        "print(f\"The Random Forest Classifier model trained on Smote and NearMiss resampled dataset  accuracy score{round(accuracy_score(yr, ypMS),2)}\")\n",
        "print(f\"The Random Forest Classifier model trained on smote oversampled dataset accuracy score{round(accuracy_score(yr, ypS),2)}\")"
      ],
      "metadata": {
        "colab": {
          "base_uri": "https://localhost:8080/"
        },
        "id": "ntStxWqA9zPZ",
        "outputId": "5e2d0e6d-b189-4bf4-f6e2-626f0c8a2180"
      },
      "execution_count": 667,
      "outputs": [
        {
          "output_type": "stream",
          "name": "stdout",
          "text": [
            "The Logistic Expression model trained on non resampled dataset0.95\n",
            "The Random Forest Classifier model trained on Smote and NearMiss resampled dataset  accuracy score0.92\n",
            "The Random Forest Classifier model trained on smote oversampled dataset accuracy score0.97\n"
          ]
        }
      ]
    },
    {
      "cell_type": "markdown",
      "source": [
        "## Classification reports\n"
      ],
      "metadata": {
        "id": "ylTKRewhAABd"
      }
    },
    {
      "cell_type": "code",
      "source": [
        "# This function prints out the classification reports for each model\n",
        "\n",
        "print(f\"logistic regression trained on non resampled dataset {classification_report(yr, ypN)}\")\n",
        "print(f\"The Random Forest Classifier model trained on smote oversampled dataset {classification_report(yr,ypS)}\")\n",
        "print(f\"The Random Forest Classifier model trainde on Smote and NearMiss resampled dataset {classification_report(yr,ypMS)}\")"
      ],
      "metadata": {
        "colab": {
          "base_uri": "https://localhost:8080/"
        },
        "id": "EUPC3OP2Aauy",
        "outputId": "e8209538-1af2-4188-8bef-62d7964ebfe1"
      },
      "execution_count": 677,
      "outputs": [
        {
          "output_type": "stream",
          "name": "stdout",
          "text": [
            "logistic regression trained on non resampled dataset               precision    recall  f1-score   support\n",
            "\n",
            "           0       0.98      0.97      0.98       942\n",
            "           1       0.21      1.00      0.34         5\n",
            "           2       0.50      0.28      0.36        25\n",
            "\n",
            "    accuracy                           0.95       972\n",
            "   macro avg       0.56      0.75      0.56       972\n",
            "weighted avg       0.96      0.95      0.96       972\n",
            "\n",
            "The Random Forest Classifier model trained on smote oversampled dataset               precision    recall  f1-score   support\n",
            "\n",
            "           0       0.97      1.00      0.98       942\n",
            "           1       0.00      0.00      0.00         5\n",
            "           2       0.00      0.00      0.00        25\n",
            "\n",
            "    accuracy                           0.97       972\n",
            "   macro avg       0.32      0.33      0.33       972\n",
            "weighted avg       0.94      0.97      0.95       972\n",
            "\n",
            "The Random Forest Classifier model trainde on Smote and NearMiss resampled dataset               precision    recall  f1-score   support\n",
            "\n",
            "           0       0.97      0.95      0.96       942\n",
            "           1       0.00      0.00      0.00         5\n",
            "           2       0.00      0.00      0.00        25\n",
            "\n",
            "    accuracy                           0.92       972\n",
            "   macro avg       0.32      0.32      0.32       972\n",
            "weighted avg       0.94      0.92      0.93       972\n",
            "\n"
          ]
        },
        {
          "output_type": "stream",
          "name": "stderr",
          "text": [
            "/usr/local/lib/python3.8/dist-packages/sklearn/metrics/_classification.py:1318: UndefinedMetricWarning: Precision and F-score are ill-defined and being set to 0.0 in labels with no predicted samples. Use `zero_division` parameter to control this behavior.\n",
            "  _warn_prf(average, modifier, msg_start, len(result))\n",
            "/usr/local/lib/python3.8/dist-packages/sklearn/metrics/_classification.py:1318: UndefinedMetricWarning: Precision and F-score are ill-defined and being set to 0.0 in labels with no predicted samples. Use `zero_division` parameter to control this behavior.\n",
            "  _warn_prf(average, modifier, msg_start, len(result))\n",
            "/usr/local/lib/python3.8/dist-packages/sklearn/metrics/_classification.py:1318: UndefinedMetricWarning: Precision and F-score are ill-defined and being set to 0.0 in labels with no predicted samples. Use `zero_division` parameter to control this behavior.\n",
            "  _warn_prf(average, modifier, msg_start, len(result))\n",
            "/usr/local/lib/python3.8/dist-packages/sklearn/metrics/_classification.py:1318: UndefinedMetricWarning: Precision and F-score are ill-defined and being set to 0.0 in labels with no predicted samples. Use `zero_division` parameter to control this behavior.\n",
            "  _warn_prf(average, modifier, msg_start, len(result))\n",
            "/usr/local/lib/python3.8/dist-packages/sklearn/metrics/_classification.py:1318: UndefinedMetricWarning: Precision and F-score are ill-defined and being set to 0.0 in labels with no predicted samples. Use `zero_division` parameter to control this behavior.\n",
            "  _warn_prf(average, modifier, msg_start, len(result))\n",
            "/usr/local/lib/python3.8/dist-packages/sklearn/metrics/_classification.py:1318: UndefinedMetricWarning: Precision and F-score are ill-defined and being set to 0.0 in labels with no predicted samples. Use `zero_division` parameter to control this behavior.\n",
            "  _warn_prf(average, modifier, msg_start, len(result))\n"
          ]
        }
      ]
    },
    {
      "cell_type": "markdown",
      "source": [
        "Judging by the Recall and precision scores Logistic regression appears to be a best performing model"
      ],
      "metadata": {
        "id": "-ZckuJSIBfEp"
      }
    },
    {
      "cell_type": "markdown",
      "source": [
        "## Confusion Matrix"
      ],
      "metadata": {
        "id": "_SIp9K6YCfY0"
      }
    },
    {
      "cell_type": "markdown",
      "source": [
        "### Confusion matrix logistic regression trained on non resampled dataset"
      ],
      "metadata": {
        "id": "Aok0T-y_C7dm"
      }
    },
    {
      "cell_type": "code",
      "source": [
        "ax3 = sns.heatmap(confusion_matrix(yr, ypN), annot = True, fmt = \"d\")"
      ],
      "metadata": {
        "colab": {
          "base_uri": "https://localhost:8080/",
          "height": 431
        },
        "id": "A3--JDJc9zMu",
        "outputId": "d38195bc-8991-4a93-f934-88505380514a"
      },
      "execution_count": 675,
      "outputs": [
        {
          "output_type": "display_data",
          "data": {
            "text/plain": [
              "<Figure size 648x504 with 2 Axes>"
            ],
            "image/png": "[encoded data removed]"
          },
          "metadata": {}
        }
      ]
    },
    {
      "cell_type": "markdown",
      "source": [
        "\n",
        "\n",
        "0 (916 true negatives, 19 false negatives 1st class, 7 false negatives 2nd class.),\n",
        "\n",
        "1 (5 of true positive predictions 1st class, 0 false positives for the 0 class, and 0 false positives for 2nd class.,\n",
        "\n",
        "2 (7 of true positives 2nd class, 18 false positives for the 0 class, and 0 false positives for 1st class.)"
      ],
      "metadata": {
        "id": "2SihtIS5DZvf"
      }
    },
    {
      "cell_type": "markdown",
      "source": [
        "### Confusion matrix  Random Forest Classifier model trained on smote oversampled dataset"
      ],
      "metadata": {
        "id": "xVhYHmV_DuVQ"
      }
    },
    {
      "cell_type": "code",
      "source": [
        "ax3 = sns.heatmap(confusion_matrix(yr, ypS), annot = True, fmt = \"d\")"
      ],
      "metadata": {
        "colab": {
          "base_uri": "https://localhost:8080/",
          "height": 431
        },
        "id": "9hr2J_YaC1_0",
        "outputId": "d7d70500-34e0-4690-9b3d-18935dbfe435"
      },
      "execution_count": 670,
      "outputs": [
        {
          "output_type": "display_data",
          "data": {
            "text/plain": [
              "<Figure size 648x504 with 2 Axes>"
            ],
            "image/png": "[encoded data removed]"
          },
          "metadata": {}
        }
      ]
    },
    {
      "cell_type": "markdown",
      "source": [
        "\n",
        "\n",
        "0 (942 true negatives, 0 false negatives 1st class, 0 false negatives 2nd class.),\n",
        "\n",
        "1 (0 of true positive predictions 1st class, 5 false positives for the 0 class, and 0 false positives for 2nd class.,\n",
        "\n",
        "2 (25 of true positives 2nd class, 0 false positives for the 0 class, and 0 false positives for 1st class.)"
      ],
      "metadata": {
        "id": "pt3gYgELFKHz"
      }
    },
    {
      "cell_type": "markdown",
      "source": [
        "### Random Forest Classifier model trained on Smote and NearMiss resampled dataset "
      ],
      "metadata": {
        "id": "A0hTmkNbEcM_"
      }
    },
    {
      "cell_type": "code",
      "source": [
        "ax3 = sns.heatmap(confusion_matrix(yr, ypMS), annot = True, fmt = \"d\")"
      ],
      "metadata": {
        "colab": {
          "base_uri": "https://localhost:8080/",
          "height": 431
        },
        "id": "gXmeOfJFFebR",
        "outputId": "3eb92c4e-1a4b-41ac-f785-3f52e7ae74be"
      },
      "execution_count": 671,
      "outputs": [
        {
          "output_type": "display_data",
          "data": {
            "text/plain": [
              "<Figure size 648x504 with 2 Axes>"
            ],
            "image/png": "[encoded data removed]"
          },
          "metadata": {}
        }
      ]
    },
    {
      "cell_type": "markdown",
      "source": [
        "0 (894 true negatives, 0 false negatives 1st class, 48 false negatives 2nd class.),\n",
        "\n",
        "1 (0 of true positive predictions 1st class, 5 false positives for the 0 class, and 0 false positives for 2nd class.,\n",
        "\n",
        "2 (0 of true positives 2nd class, 25 false positives for the 0 class, and 0 false positives for 1st class.)"
      ],
      "metadata": {
        "id": "B4jdGaLeGDWu"
      }
    },
    {
      "cell_type": "markdown",
      "source": [
        "Among the models in this chapter Logistic regression trained on non resampled data is best performing. Its the only model that is able to predict the positive tru positives in the second and first classes. "
      ],
      "metadata": {
        "id": "sZAYjPu-Ib47"
      }
    },
    {
      "cell_type": "markdown",
      "source": [
        "# Selected model Tuning"
      ],
      "metadata": {
        "id": "VMaaqYKVID56"
      }
    },
    {
      "cell_type": "markdown",
      "source": [
        "Among the tested models the Logistic Regression is the best performing, it is the only model that is able to predict the 1st and 2nd classes' instances."
      ],
      "metadata": {
        "id": "WJaEK7VcGl6H"
      }
    },
    {
      "cell_type": "markdown",
      "source": [
        "# **Add reverences to the paper dataset and any material you used.**\n",
        "\n",
        "https://www.analyticsvidhya.com/blog/2020/07/10-techniques-to-deal-with-class-imbalance-in-machine-learning/\n",
        "\n",
        "near miss \n",
        "https://imbalanced-learn.org/dev/references/generated/imblearn.under_sampling.NearMiss.html"
      ],
      "metadata": {
        "id": "pmkNOdoHYRhm"
      }
    },
    {
      "cell_type": "markdown",
      "source": [],
      "metadata": {
        "id": "3597p2hDenv-"
      }
    },
    {
      "cell_type": "markdown",
      "source": [],
      "metadata": {
        "id": "341rUNDntqz1"
      }
    },
    {
      "cell_type": "code",
      "source": [
        "!jupyter nbconvert --to HTML /content/drive/MyDrive/ColabNotebooks/mydataset/report.ipynb"
      ],
      "metadata": {
        "id": "7RJk2L3atrk7",
        "colab": {
          "base_uri": "https://localhost:8080/"
        },
        "outputId": "7303076c-fd6f-43da-c172-2d21eacaf6d6"
      },
      "execution_count": 672,
      "outputs": [
        {
          "output_type": "stream",
          "name": "stdout",
          "text": [
            "[NbConvertApp] Converting notebook /content/drive/MyDrive/ColabNotebooks/mydataset/report.ipynb to HTML\n",
            "[NbConvertApp] Writing 546041 bytes to /content/drive/MyDrive/ColabNotebooks/mydataset/report.html\n"
          ]
        }
      ]
    }
  ]
}